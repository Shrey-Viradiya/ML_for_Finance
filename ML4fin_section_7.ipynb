{
  "nbformat": 4,
  "nbformat_minor": 0,
  "metadata": {
    "kernelspec": {
      "display_name": "Python 3",
      "language": "python",
      "name": "python3"
    },
    "language_info": {
      "codemirror_mode": {
        "name": "ipython",
        "version": 3
      },
      "file_extension": ".py",
      "mimetype": "text/x-python",
      "name": "python",
      "nbconvert_exporter": "python",
      "pygments_lexer": "ipython3",
      "version": "3.6.8"
    },
    "colab": {
      "name": "credit_card_fraud.ipynb",
      "provenance": [],
      "include_colab_link": true
    }
  },
  "cells": [
    {
      "cell_type": "markdown",
      "metadata": {
        "id": "view-in-github",
        "colab_type": "text"
      },
      "source": [
        "<a href=\"https://colab.research.google.com/github/Shrey-Viradiya/ML_for_Finance/blob/master/ML4fin_section_7.ipynb\" target=\"_parent\"><img src=\"https://colab.research.google.com/assets/colab-badge.svg\" alt=\"Open In Colab\"/></a>"
      ]
    },
    {
      "cell_type": "code",
      "metadata": {
        "id": "7UoD32dZRlYW",
        "colab_type": "code",
        "colab": {
          "base_uri": "https://localhost:8080/",
          "height": 105
        },
        "outputId": "550ac5bc-de73-4315-8493-6568cf0d95d1"
      },
      "source": [
        "! mkdir ~/.kaggle\n",
        "! cp kaggle.json ~/.kaggle/\n",
        "! chmod 600 ~/.kaggle/kaggle.json\n",
        "! kaggle datasets download -d mlg-ulb/creditcardfraud\n",
        "! unzip creditcardfraud.zip"
      ],
      "execution_count": 1,
      "outputs": [
        {
          "output_type": "stream",
          "text": [
            "Downloading creditcardfraud.zip to /content\n",
            " 65% 43.0M/66.0M [00:00<00:00, 66.6MB/s]\n",
            "100% 66.0M/66.0M [00:00<00:00, 104MB/s] \n",
            "Archive:  creditcardfraud.zip\n",
            "  inflating: creditcard.csv          \n"
          ],
          "name": "stdout"
        }
      ]
    },
    {
      "cell_type": "code",
      "metadata": {
        "id": "zNIKn-a_Rcqy",
        "colab_type": "code",
        "colab": {
          "base_uri": "https://localhost:8080/",
          "height": 72
        },
        "outputId": "a3b228c2-e2ec-40be-ca6b-4382dc1d5c96"
      },
      "source": [
        "import pandas as pd\n",
        "import numpy as np\n",
        "import matplotlib.pyplot as plt\n",
        "import seaborn as sns\n",
        "# import warnings\n",
        "# warnings.filterwarnings(\"ignore\")\n",
        "plt.style.use('fivethirtyeight')\n",
        "np.random.seed(259)\n",
        "%matplotlib inline\n"
      ],
      "execution_count": 2,
      "outputs": [
        {
          "output_type": "stream",
          "text": [
            "/usr/local/lib/python3.6/dist-packages/statsmodels/tools/_testing.py:19: FutureWarning: pandas.util.testing is deprecated. Use the functions in the public API at pandas.testing instead.\n",
            "  import pandas.util.testing as tm\n"
          ],
          "name": "stderr"
        }
      ]
    },
    {
      "cell_type": "code",
      "metadata": {
        "id": "tMGuEfZoRcq2",
        "colab_type": "code",
        "colab": {}
      },
      "source": [
        "from tensorflow.keras.models import Sequential\n",
        "from tensorflow.keras.layers import Dense"
      ],
      "execution_count": 3,
      "outputs": []
    },
    {
      "cell_type": "markdown",
      "metadata": {
        "id": "2RKoHLqHRcq-",
        "colab_type": "text"
      },
      "source": [
        "## 7.3 Feature engineering and preprocess data for input into the model"
      ]
    },
    {
      "cell_type": "markdown",
      "metadata": {
        "id": "-SY5JbJSRcq_",
        "colab_type": "text"
      },
      "source": [
        "### Import the data"
      ]
    },
    {
      "cell_type": "code",
      "metadata": {
        "id": "KZ4O2lhdRcrA",
        "colab_type": "code",
        "colab": {}
      },
      "source": [
        "credit_df = pd.read_csv(\"./creditcard.csv\")"
      ],
      "execution_count": 4,
      "outputs": []
    },
    {
      "cell_type": "code",
      "metadata": {
        "id": "SVDrniBwRcrD",
        "colab_type": "code",
        "colab": {
          "base_uri": "https://localhost:8080/",
          "height": 692
        },
        "outputId": "a8c7444a-41fd-46d4-d815-492e8858f444"
      },
      "source": [
        "credit_df.info()"
      ],
      "execution_count": 5,
      "outputs": [
        {
          "output_type": "stream",
          "text": [
            "<class 'pandas.core.frame.DataFrame'>\n",
            "RangeIndex: 284807 entries, 0 to 284806\n",
            "Data columns (total 31 columns):\n",
            " #   Column  Non-Null Count   Dtype  \n",
            "---  ------  --------------   -----  \n",
            " 0   Time    284807 non-null  float64\n",
            " 1   V1      284807 non-null  float64\n",
            " 2   V2      284807 non-null  float64\n",
            " 3   V3      284807 non-null  float64\n",
            " 4   V4      284807 non-null  float64\n",
            " 5   V5      284807 non-null  float64\n",
            " 6   V6      284807 non-null  float64\n",
            " 7   V7      284807 non-null  float64\n",
            " 8   V8      284807 non-null  float64\n",
            " 9   V9      284807 non-null  float64\n",
            " 10  V10     284807 non-null  float64\n",
            " 11  V11     284807 non-null  float64\n",
            " 12  V12     284807 non-null  float64\n",
            " 13  V13     284807 non-null  float64\n",
            " 14  V14     284807 non-null  float64\n",
            " 15  V15     284807 non-null  float64\n",
            " 16  V16     284807 non-null  float64\n",
            " 17  V17     284807 non-null  float64\n",
            " 18  V18     284807 non-null  float64\n",
            " 19  V19     284807 non-null  float64\n",
            " 20  V20     284807 non-null  float64\n",
            " 21  V21     284807 non-null  float64\n",
            " 22  V22     284807 non-null  float64\n",
            " 23  V23     284807 non-null  float64\n",
            " 24  V24     284807 non-null  float64\n",
            " 25  V25     284807 non-null  float64\n",
            " 26  V26     284807 non-null  float64\n",
            " 27  V27     284807 non-null  float64\n",
            " 28  V28     284807 non-null  float64\n",
            " 29  Amount  284807 non-null  float64\n",
            " 30  Class   284807 non-null  int64  \n",
            "dtypes: float64(30), int64(1)\n",
            "memory usage: 67.4 MB\n"
          ],
          "name": "stdout"
        }
      ]
    },
    {
      "cell_type": "code",
      "metadata": {
        "id": "pbwrwPlyRcrG",
        "colab_type": "code",
        "colab": {
          "base_uri": "https://localhost:8080/",
          "height": 217
        },
        "outputId": "23829b19-e510-4209-c939-091317b546cd"
      },
      "source": [
        "credit_df.head()"
      ],
      "execution_count": 6,
      "outputs": [
        {
          "output_type": "execute_result",
          "data": {
            "text/html": [
              "<div>\n",
              "<style scoped>\n",
              "    .dataframe tbody tr th:only-of-type {\n",
              "        vertical-align: middle;\n",
              "    }\n",
              "\n",
              "    .dataframe tbody tr th {\n",
              "        vertical-align: top;\n",
              "    }\n",
              "\n",
              "    .dataframe thead th {\n",
              "        text-align: right;\n",
              "    }\n",
              "</style>\n",
              "<table border=\"1\" class=\"dataframe\">\n",
              "  <thead>\n",
              "    <tr style=\"text-align: right;\">\n",
              "      <th></th>\n",
              "      <th>Time</th>\n",
              "      <th>V1</th>\n",
              "      <th>V2</th>\n",
              "      <th>V3</th>\n",
              "      <th>V4</th>\n",
              "      <th>V5</th>\n",
              "      <th>V6</th>\n",
              "      <th>V7</th>\n",
              "      <th>V8</th>\n",
              "      <th>V9</th>\n",
              "      <th>V10</th>\n",
              "      <th>V11</th>\n",
              "      <th>V12</th>\n",
              "      <th>V13</th>\n",
              "      <th>V14</th>\n",
              "      <th>V15</th>\n",
              "      <th>V16</th>\n",
              "      <th>V17</th>\n",
              "      <th>V18</th>\n",
              "      <th>V19</th>\n",
              "      <th>V20</th>\n",
              "      <th>V21</th>\n",
              "      <th>V22</th>\n",
              "      <th>V23</th>\n",
              "      <th>V24</th>\n",
              "      <th>V25</th>\n",
              "      <th>V26</th>\n",
              "      <th>V27</th>\n",
              "      <th>V28</th>\n",
              "      <th>Amount</th>\n",
              "      <th>Class</th>\n",
              "    </tr>\n",
              "  </thead>\n",
              "  <tbody>\n",
              "    <tr>\n",
              "      <th>0</th>\n",
              "      <td>0.0</td>\n",
              "      <td>-1.359807</td>\n",
              "      <td>-0.072781</td>\n",
              "      <td>2.536347</td>\n",
              "      <td>1.378155</td>\n",
              "      <td>-0.338321</td>\n",
              "      <td>0.462388</td>\n",
              "      <td>0.239599</td>\n",
              "      <td>0.098698</td>\n",
              "      <td>0.363787</td>\n",
              "      <td>0.090794</td>\n",
              "      <td>-0.551600</td>\n",
              "      <td>-0.617801</td>\n",
              "      <td>-0.991390</td>\n",
              "      <td>-0.311169</td>\n",
              "      <td>1.468177</td>\n",
              "      <td>-0.470401</td>\n",
              "      <td>0.207971</td>\n",
              "      <td>0.025791</td>\n",
              "      <td>0.403993</td>\n",
              "      <td>0.251412</td>\n",
              "      <td>-0.018307</td>\n",
              "      <td>0.277838</td>\n",
              "      <td>-0.110474</td>\n",
              "      <td>0.066928</td>\n",
              "      <td>0.128539</td>\n",
              "      <td>-0.189115</td>\n",
              "      <td>0.133558</td>\n",
              "      <td>-0.021053</td>\n",
              "      <td>149.62</td>\n",
              "      <td>0</td>\n",
              "    </tr>\n",
              "    <tr>\n",
              "      <th>1</th>\n",
              "      <td>0.0</td>\n",
              "      <td>1.191857</td>\n",
              "      <td>0.266151</td>\n",
              "      <td>0.166480</td>\n",
              "      <td>0.448154</td>\n",
              "      <td>0.060018</td>\n",
              "      <td>-0.082361</td>\n",
              "      <td>-0.078803</td>\n",
              "      <td>0.085102</td>\n",
              "      <td>-0.255425</td>\n",
              "      <td>-0.166974</td>\n",
              "      <td>1.612727</td>\n",
              "      <td>1.065235</td>\n",
              "      <td>0.489095</td>\n",
              "      <td>-0.143772</td>\n",
              "      <td>0.635558</td>\n",
              "      <td>0.463917</td>\n",
              "      <td>-0.114805</td>\n",
              "      <td>-0.183361</td>\n",
              "      <td>-0.145783</td>\n",
              "      <td>-0.069083</td>\n",
              "      <td>-0.225775</td>\n",
              "      <td>-0.638672</td>\n",
              "      <td>0.101288</td>\n",
              "      <td>-0.339846</td>\n",
              "      <td>0.167170</td>\n",
              "      <td>0.125895</td>\n",
              "      <td>-0.008983</td>\n",
              "      <td>0.014724</td>\n",
              "      <td>2.69</td>\n",
              "      <td>0</td>\n",
              "    </tr>\n",
              "    <tr>\n",
              "      <th>2</th>\n",
              "      <td>1.0</td>\n",
              "      <td>-1.358354</td>\n",
              "      <td>-1.340163</td>\n",
              "      <td>1.773209</td>\n",
              "      <td>0.379780</td>\n",
              "      <td>-0.503198</td>\n",
              "      <td>1.800499</td>\n",
              "      <td>0.791461</td>\n",
              "      <td>0.247676</td>\n",
              "      <td>-1.514654</td>\n",
              "      <td>0.207643</td>\n",
              "      <td>0.624501</td>\n",
              "      <td>0.066084</td>\n",
              "      <td>0.717293</td>\n",
              "      <td>-0.165946</td>\n",
              "      <td>2.345865</td>\n",
              "      <td>-2.890083</td>\n",
              "      <td>1.109969</td>\n",
              "      <td>-0.121359</td>\n",
              "      <td>-2.261857</td>\n",
              "      <td>0.524980</td>\n",
              "      <td>0.247998</td>\n",
              "      <td>0.771679</td>\n",
              "      <td>0.909412</td>\n",
              "      <td>-0.689281</td>\n",
              "      <td>-0.327642</td>\n",
              "      <td>-0.139097</td>\n",
              "      <td>-0.055353</td>\n",
              "      <td>-0.059752</td>\n",
              "      <td>378.66</td>\n",
              "      <td>0</td>\n",
              "    </tr>\n",
              "    <tr>\n",
              "      <th>3</th>\n",
              "      <td>1.0</td>\n",
              "      <td>-0.966272</td>\n",
              "      <td>-0.185226</td>\n",
              "      <td>1.792993</td>\n",
              "      <td>-0.863291</td>\n",
              "      <td>-0.010309</td>\n",
              "      <td>1.247203</td>\n",
              "      <td>0.237609</td>\n",
              "      <td>0.377436</td>\n",
              "      <td>-1.387024</td>\n",
              "      <td>-0.054952</td>\n",
              "      <td>-0.226487</td>\n",
              "      <td>0.178228</td>\n",
              "      <td>0.507757</td>\n",
              "      <td>-0.287924</td>\n",
              "      <td>-0.631418</td>\n",
              "      <td>-1.059647</td>\n",
              "      <td>-0.684093</td>\n",
              "      <td>1.965775</td>\n",
              "      <td>-1.232622</td>\n",
              "      <td>-0.208038</td>\n",
              "      <td>-0.108300</td>\n",
              "      <td>0.005274</td>\n",
              "      <td>-0.190321</td>\n",
              "      <td>-1.175575</td>\n",
              "      <td>0.647376</td>\n",
              "      <td>-0.221929</td>\n",
              "      <td>0.062723</td>\n",
              "      <td>0.061458</td>\n",
              "      <td>123.50</td>\n",
              "      <td>0</td>\n",
              "    </tr>\n",
              "    <tr>\n",
              "      <th>4</th>\n",
              "      <td>2.0</td>\n",
              "      <td>-1.158233</td>\n",
              "      <td>0.877737</td>\n",
              "      <td>1.548718</td>\n",
              "      <td>0.403034</td>\n",
              "      <td>-0.407193</td>\n",
              "      <td>0.095921</td>\n",
              "      <td>0.592941</td>\n",
              "      <td>-0.270533</td>\n",
              "      <td>0.817739</td>\n",
              "      <td>0.753074</td>\n",
              "      <td>-0.822843</td>\n",
              "      <td>0.538196</td>\n",
              "      <td>1.345852</td>\n",
              "      <td>-1.119670</td>\n",
              "      <td>0.175121</td>\n",
              "      <td>-0.451449</td>\n",
              "      <td>-0.237033</td>\n",
              "      <td>-0.038195</td>\n",
              "      <td>0.803487</td>\n",
              "      <td>0.408542</td>\n",
              "      <td>-0.009431</td>\n",
              "      <td>0.798278</td>\n",
              "      <td>-0.137458</td>\n",
              "      <td>0.141267</td>\n",
              "      <td>-0.206010</td>\n",
              "      <td>0.502292</td>\n",
              "      <td>0.219422</td>\n",
              "      <td>0.215153</td>\n",
              "      <td>69.99</td>\n",
              "      <td>0</td>\n",
              "    </tr>\n",
              "  </tbody>\n",
              "</table>\n",
              "</div>"
            ],
            "text/plain": [
              "   Time        V1        V2        V3  ...       V27       V28  Amount  Class\n",
              "0   0.0 -1.359807 -0.072781  2.536347  ...  0.133558 -0.021053  149.62      0\n",
              "1   0.0  1.191857  0.266151  0.166480  ... -0.008983  0.014724    2.69      0\n",
              "2   1.0 -1.358354 -1.340163  1.773209  ... -0.055353 -0.059752  378.66      0\n",
              "3   1.0 -0.966272 -0.185226  1.792993  ...  0.062723  0.061458  123.50      0\n",
              "4   2.0 -1.158233  0.877737  1.548718  ...  0.219422  0.215153   69.99      0\n",
              "\n",
              "[5 rows x 31 columns]"
            ]
          },
          "metadata": {
            "tags": []
          },
          "execution_count": 6
        }
      ]
    },
    {
      "cell_type": "code",
      "metadata": {
        "id": "cb9a1nr1RcrJ",
        "colab_type": "code",
        "colab": {
          "base_uri": "https://localhost:8080/",
          "height": 307
        },
        "outputId": "c2506709-5838-4403-d023-1fde9851c5f1"
      },
      "source": [
        "credit_df.describe()"
      ],
      "execution_count": 7,
      "outputs": [
        {
          "output_type": "execute_result",
          "data": {
            "text/html": [
              "<div>\n",
              "<style scoped>\n",
              "    .dataframe tbody tr th:only-of-type {\n",
              "        vertical-align: middle;\n",
              "    }\n",
              "\n",
              "    .dataframe tbody tr th {\n",
              "        vertical-align: top;\n",
              "    }\n",
              "\n",
              "    .dataframe thead th {\n",
              "        text-align: right;\n",
              "    }\n",
              "</style>\n",
              "<table border=\"1\" class=\"dataframe\">\n",
              "  <thead>\n",
              "    <tr style=\"text-align: right;\">\n",
              "      <th></th>\n",
              "      <th>Time</th>\n",
              "      <th>V1</th>\n",
              "      <th>V2</th>\n",
              "      <th>V3</th>\n",
              "      <th>V4</th>\n",
              "      <th>V5</th>\n",
              "      <th>V6</th>\n",
              "      <th>V7</th>\n",
              "      <th>V8</th>\n",
              "      <th>V9</th>\n",
              "      <th>V10</th>\n",
              "      <th>V11</th>\n",
              "      <th>V12</th>\n",
              "      <th>V13</th>\n",
              "      <th>V14</th>\n",
              "      <th>V15</th>\n",
              "      <th>V16</th>\n",
              "      <th>V17</th>\n",
              "      <th>V18</th>\n",
              "      <th>V19</th>\n",
              "      <th>V20</th>\n",
              "      <th>V21</th>\n",
              "      <th>V22</th>\n",
              "      <th>V23</th>\n",
              "      <th>V24</th>\n",
              "      <th>V25</th>\n",
              "      <th>V26</th>\n",
              "      <th>V27</th>\n",
              "      <th>V28</th>\n",
              "      <th>Amount</th>\n",
              "      <th>Class</th>\n",
              "    </tr>\n",
              "  </thead>\n",
              "  <tbody>\n",
              "    <tr>\n",
              "      <th>count</th>\n",
              "      <td>284807.000000</td>\n",
              "      <td>2.848070e+05</td>\n",
              "      <td>2.848070e+05</td>\n",
              "      <td>2.848070e+05</td>\n",
              "      <td>2.848070e+05</td>\n",
              "      <td>2.848070e+05</td>\n",
              "      <td>2.848070e+05</td>\n",
              "      <td>2.848070e+05</td>\n",
              "      <td>2.848070e+05</td>\n",
              "      <td>2.848070e+05</td>\n",
              "      <td>2.848070e+05</td>\n",
              "      <td>2.848070e+05</td>\n",
              "      <td>2.848070e+05</td>\n",
              "      <td>2.848070e+05</td>\n",
              "      <td>2.848070e+05</td>\n",
              "      <td>2.848070e+05</td>\n",
              "      <td>2.848070e+05</td>\n",
              "      <td>2.848070e+05</td>\n",
              "      <td>2.848070e+05</td>\n",
              "      <td>2.848070e+05</td>\n",
              "      <td>2.848070e+05</td>\n",
              "      <td>2.848070e+05</td>\n",
              "      <td>2.848070e+05</td>\n",
              "      <td>2.848070e+05</td>\n",
              "      <td>2.848070e+05</td>\n",
              "      <td>2.848070e+05</td>\n",
              "      <td>2.848070e+05</td>\n",
              "      <td>2.848070e+05</td>\n",
              "      <td>2.848070e+05</td>\n",
              "      <td>284807.000000</td>\n",
              "      <td>284807.000000</td>\n",
              "    </tr>\n",
              "    <tr>\n",
              "      <th>mean</th>\n",
              "      <td>94813.859575</td>\n",
              "      <td>3.919560e-15</td>\n",
              "      <td>5.688174e-16</td>\n",
              "      <td>-8.769071e-15</td>\n",
              "      <td>2.782312e-15</td>\n",
              "      <td>-1.552563e-15</td>\n",
              "      <td>2.010663e-15</td>\n",
              "      <td>-1.694249e-15</td>\n",
              "      <td>-1.927028e-16</td>\n",
              "      <td>-3.137024e-15</td>\n",
              "      <td>1.768627e-15</td>\n",
              "      <td>9.170318e-16</td>\n",
              "      <td>-1.810658e-15</td>\n",
              "      <td>1.693438e-15</td>\n",
              "      <td>1.479045e-15</td>\n",
              "      <td>3.482336e-15</td>\n",
              "      <td>1.392007e-15</td>\n",
              "      <td>-7.528491e-16</td>\n",
              "      <td>4.328772e-16</td>\n",
              "      <td>9.049732e-16</td>\n",
              "      <td>5.085503e-16</td>\n",
              "      <td>1.537294e-16</td>\n",
              "      <td>7.959909e-16</td>\n",
              "      <td>5.367590e-16</td>\n",
              "      <td>4.458112e-15</td>\n",
              "      <td>1.453003e-15</td>\n",
              "      <td>1.699104e-15</td>\n",
              "      <td>-3.660161e-16</td>\n",
              "      <td>-1.206049e-16</td>\n",
              "      <td>88.349619</td>\n",
              "      <td>0.001727</td>\n",
              "    </tr>\n",
              "    <tr>\n",
              "      <th>std</th>\n",
              "      <td>47488.145955</td>\n",
              "      <td>1.958696e+00</td>\n",
              "      <td>1.651309e+00</td>\n",
              "      <td>1.516255e+00</td>\n",
              "      <td>1.415869e+00</td>\n",
              "      <td>1.380247e+00</td>\n",
              "      <td>1.332271e+00</td>\n",
              "      <td>1.237094e+00</td>\n",
              "      <td>1.194353e+00</td>\n",
              "      <td>1.098632e+00</td>\n",
              "      <td>1.088850e+00</td>\n",
              "      <td>1.020713e+00</td>\n",
              "      <td>9.992014e-01</td>\n",
              "      <td>9.952742e-01</td>\n",
              "      <td>9.585956e-01</td>\n",
              "      <td>9.153160e-01</td>\n",
              "      <td>8.762529e-01</td>\n",
              "      <td>8.493371e-01</td>\n",
              "      <td>8.381762e-01</td>\n",
              "      <td>8.140405e-01</td>\n",
              "      <td>7.709250e-01</td>\n",
              "      <td>7.345240e-01</td>\n",
              "      <td>7.257016e-01</td>\n",
              "      <td>6.244603e-01</td>\n",
              "      <td>6.056471e-01</td>\n",
              "      <td>5.212781e-01</td>\n",
              "      <td>4.822270e-01</td>\n",
              "      <td>4.036325e-01</td>\n",
              "      <td>3.300833e-01</td>\n",
              "      <td>250.120109</td>\n",
              "      <td>0.041527</td>\n",
              "    </tr>\n",
              "    <tr>\n",
              "      <th>min</th>\n",
              "      <td>0.000000</td>\n",
              "      <td>-5.640751e+01</td>\n",
              "      <td>-7.271573e+01</td>\n",
              "      <td>-4.832559e+01</td>\n",
              "      <td>-5.683171e+00</td>\n",
              "      <td>-1.137433e+02</td>\n",
              "      <td>-2.616051e+01</td>\n",
              "      <td>-4.355724e+01</td>\n",
              "      <td>-7.321672e+01</td>\n",
              "      <td>-1.343407e+01</td>\n",
              "      <td>-2.458826e+01</td>\n",
              "      <td>-4.797473e+00</td>\n",
              "      <td>-1.868371e+01</td>\n",
              "      <td>-5.791881e+00</td>\n",
              "      <td>-1.921433e+01</td>\n",
              "      <td>-4.498945e+00</td>\n",
              "      <td>-1.412985e+01</td>\n",
              "      <td>-2.516280e+01</td>\n",
              "      <td>-9.498746e+00</td>\n",
              "      <td>-7.213527e+00</td>\n",
              "      <td>-5.449772e+01</td>\n",
              "      <td>-3.483038e+01</td>\n",
              "      <td>-1.093314e+01</td>\n",
              "      <td>-4.480774e+01</td>\n",
              "      <td>-2.836627e+00</td>\n",
              "      <td>-1.029540e+01</td>\n",
              "      <td>-2.604551e+00</td>\n",
              "      <td>-2.256568e+01</td>\n",
              "      <td>-1.543008e+01</td>\n",
              "      <td>0.000000</td>\n",
              "      <td>0.000000</td>\n",
              "    </tr>\n",
              "    <tr>\n",
              "      <th>25%</th>\n",
              "      <td>54201.500000</td>\n",
              "      <td>-9.203734e-01</td>\n",
              "      <td>-5.985499e-01</td>\n",
              "      <td>-8.903648e-01</td>\n",
              "      <td>-8.486401e-01</td>\n",
              "      <td>-6.915971e-01</td>\n",
              "      <td>-7.682956e-01</td>\n",
              "      <td>-5.540759e-01</td>\n",
              "      <td>-2.086297e-01</td>\n",
              "      <td>-6.430976e-01</td>\n",
              "      <td>-5.354257e-01</td>\n",
              "      <td>-7.624942e-01</td>\n",
              "      <td>-4.055715e-01</td>\n",
              "      <td>-6.485393e-01</td>\n",
              "      <td>-4.255740e-01</td>\n",
              "      <td>-5.828843e-01</td>\n",
              "      <td>-4.680368e-01</td>\n",
              "      <td>-4.837483e-01</td>\n",
              "      <td>-4.988498e-01</td>\n",
              "      <td>-4.562989e-01</td>\n",
              "      <td>-2.117214e-01</td>\n",
              "      <td>-2.283949e-01</td>\n",
              "      <td>-5.423504e-01</td>\n",
              "      <td>-1.618463e-01</td>\n",
              "      <td>-3.545861e-01</td>\n",
              "      <td>-3.171451e-01</td>\n",
              "      <td>-3.269839e-01</td>\n",
              "      <td>-7.083953e-02</td>\n",
              "      <td>-5.295979e-02</td>\n",
              "      <td>5.600000</td>\n",
              "      <td>0.000000</td>\n",
              "    </tr>\n",
              "    <tr>\n",
              "      <th>50%</th>\n",
              "      <td>84692.000000</td>\n",
              "      <td>1.810880e-02</td>\n",
              "      <td>6.548556e-02</td>\n",
              "      <td>1.798463e-01</td>\n",
              "      <td>-1.984653e-02</td>\n",
              "      <td>-5.433583e-02</td>\n",
              "      <td>-2.741871e-01</td>\n",
              "      <td>4.010308e-02</td>\n",
              "      <td>2.235804e-02</td>\n",
              "      <td>-5.142873e-02</td>\n",
              "      <td>-9.291738e-02</td>\n",
              "      <td>-3.275735e-02</td>\n",
              "      <td>1.400326e-01</td>\n",
              "      <td>-1.356806e-02</td>\n",
              "      <td>5.060132e-02</td>\n",
              "      <td>4.807155e-02</td>\n",
              "      <td>6.641332e-02</td>\n",
              "      <td>-6.567575e-02</td>\n",
              "      <td>-3.636312e-03</td>\n",
              "      <td>3.734823e-03</td>\n",
              "      <td>-6.248109e-02</td>\n",
              "      <td>-2.945017e-02</td>\n",
              "      <td>6.781943e-03</td>\n",
              "      <td>-1.119293e-02</td>\n",
              "      <td>4.097606e-02</td>\n",
              "      <td>1.659350e-02</td>\n",
              "      <td>-5.213911e-02</td>\n",
              "      <td>1.342146e-03</td>\n",
              "      <td>1.124383e-02</td>\n",
              "      <td>22.000000</td>\n",
              "      <td>0.000000</td>\n",
              "    </tr>\n",
              "    <tr>\n",
              "      <th>75%</th>\n",
              "      <td>139320.500000</td>\n",
              "      <td>1.315642e+00</td>\n",
              "      <td>8.037239e-01</td>\n",
              "      <td>1.027196e+00</td>\n",
              "      <td>7.433413e-01</td>\n",
              "      <td>6.119264e-01</td>\n",
              "      <td>3.985649e-01</td>\n",
              "      <td>5.704361e-01</td>\n",
              "      <td>3.273459e-01</td>\n",
              "      <td>5.971390e-01</td>\n",
              "      <td>4.539234e-01</td>\n",
              "      <td>7.395934e-01</td>\n",
              "      <td>6.182380e-01</td>\n",
              "      <td>6.625050e-01</td>\n",
              "      <td>4.931498e-01</td>\n",
              "      <td>6.488208e-01</td>\n",
              "      <td>5.232963e-01</td>\n",
              "      <td>3.996750e-01</td>\n",
              "      <td>5.008067e-01</td>\n",
              "      <td>4.589494e-01</td>\n",
              "      <td>1.330408e-01</td>\n",
              "      <td>1.863772e-01</td>\n",
              "      <td>5.285536e-01</td>\n",
              "      <td>1.476421e-01</td>\n",
              "      <td>4.395266e-01</td>\n",
              "      <td>3.507156e-01</td>\n",
              "      <td>2.409522e-01</td>\n",
              "      <td>9.104512e-02</td>\n",
              "      <td>7.827995e-02</td>\n",
              "      <td>77.165000</td>\n",
              "      <td>0.000000</td>\n",
              "    </tr>\n",
              "    <tr>\n",
              "      <th>max</th>\n",
              "      <td>172792.000000</td>\n",
              "      <td>2.454930e+00</td>\n",
              "      <td>2.205773e+01</td>\n",
              "      <td>9.382558e+00</td>\n",
              "      <td>1.687534e+01</td>\n",
              "      <td>3.480167e+01</td>\n",
              "      <td>7.330163e+01</td>\n",
              "      <td>1.205895e+02</td>\n",
              "      <td>2.000721e+01</td>\n",
              "      <td>1.559499e+01</td>\n",
              "      <td>2.374514e+01</td>\n",
              "      <td>1.201891e+01</td>\n",
              "      <td>7.848392e+00</td>\n",
              "      <td>7.126883e+00</td>\n",
              "      <td>1.052677e+01</td>\n",
              "      <td>8.877742e+00</td>\n",
              "      <td>1.731511e+01</td>\n",
              "      <td>9.253526e+00</td>\n",
              "      <td>5.041069e+00</td>\n",
              "      <td>5.591971e+00</td>\n",
              "      <td>3.942090e+01</td>\n",
              "      <td>2.720284e+01</td>\n",
              "      <td>1.050309e+01</td>\n",
              "      <td>2.252841e+01</td>\n",
              "      <td>4.584549e+00</td>\n",
              "      <td>7.519589e+00</td>\n",
              "      <td>3.517346e+00</td>\n",
              "      <td>3.161220e+01</td>\n",
              "      <td>3.384781e+01</td>\n",
              "      <td>25691.160000</td>\n",
              "      <td>1.000000</td>\n",
              "    </tr>\n",
              "  </tbody>\n",
              "</table>\n",
              "</div>"
            ],
            "text/plain": [
              "                Time            V1  ...         Amount          Class\n",
              "count  284807.000000  2.848070e+05  ...  284807.000000  284807.000000\n",
              "mean    94813.859575  3.919560e-15  ...      88.349619       0.001727\n",
              "std     47488.145955  1.958696e+00  ...     250.120109       0.041527\n",
              "min         0.000000 -5.640751e+01  ...       0.000000       0.000000\n",
              "25%     54201.500000 -9.203734e-01  ...       5.600000       0.000000\n",
              "50%     84692.000000  1.810880e-02  ...      22.000000       0.000000\n",
              "75%    139320.500000  1.315642e+00  ...      77.165000       0.000000\n",
              "max    172792.000000  2.454930e+00  ...   25691.160000       1.000000\n",
              "\n",
              "[8 rows x 31 columns]"
            ]
          },
          "metadata": {
            "tags": []
          },
          "execution_count": 7
        }
      ]
    },
    {
      "cell_type": "code",
      "metadata": {
        "id": "ghiUM3w4RcrN",
        "colab_type": "code",
        "colab": {
          "base_uri": "https://localhost:8080/",
          "height": 70
        },
        "outputId": "7fafde6c-72de-413c-9194-829f1aef05ec"
      },
      "source": [
        "credit_df.Class.value_counts()"
      ],
      "execution_count": 8,
      "outputs": [
        {
          "output_type": "execute_result",
          "data": {
            "text/plain": [
              "0    284315\n",
              "1       492\n",
              "Name: Class, dtype: int64"
            ]
          },
          "metadata": {
            "tags": []
          },
          "execution_count": 8
        }
      ]
    },
    {
      "cell_type": "markdown",
      "metadata": {
        "id": "u7F7G0X8RcrT",
        "colab_type": "text"
      },
      "source": [
        "Scale the features so as to mitigate the biasness towards one feature"
      ]
    },
    {
      "cell_type": "code",
      "metadata": {
        "id": "jtuaEOrYRcrT",
        "colab_type": "code",
        "colab": {}
      },
      "source": [
        "from sklearn.model_selection import train_test_split\n",
        "from sklearn.preprocessing import MinMaxScaler"
      ],
      "execution_count": 9,
      "outputs": []
    },
    {
      "cell_type": "code",
      "metadata": {
        "id": "mZu8j59RRcrW",
        "colab_type": "code",
        "colab": {}
      },
      "source": [
        "X = credit_df.iloc[:,:-1]\n",
        "Y = credit_df.iloc[:,-1]\n",
        "X_train, X_test, Y_train, Y_test = train_test_split(X,Y, test_size=0.2,random_state=100, stratify=Y)"
      ],
      "execution_count": 10,
      "outputs": []
    },
    {
      "cell_type": "code",
      "metadata": {
        "id": "Jvh8fyVxRcrY",
        "colab_type": "code",
        "colab": {
          "base_uri": "https://localhost:8080/",
          "height": 70
        },
        "outputId": "5cdf88e8-9a5d-46dc-86c4-e0321199c1ea"
      },
      "source": [
        "Y_train.value_counts()"
      ],
      "execution_count": 11,
      "outputs": [
        {
          "output_type": "execute_result",
          "data": {
            "text/plain": [
              "0    227451\n",
              "1       394\n",
              "Name: Class, dtype: int64"
            ]
          },
          "metadata": {
            "tags": []
          },
          "execution_count": 11
        }
      ]
    },
    {
      "cell_type": "code",
      "metadata": {
        "id": "xQvMsYJ3Rcrb",
        "colab_type": "code",
        "colab": {
          "base_uri": "https://localhost:8080/",
          "height": 70
        },
        "outputId": "298235ca-aab1-4789-f785-982a439433e7"
      },
      "source": [
        "Y_test.value_counts()"
      ],
      "execution_count": 12,
      "outputs": [
        {
          "output_type": "execute_result",
          "data": {
            "text/plain": [
              "0    56864\n",
              "1       98\n",
              "Name: Class, dtype: int64"
            ]
          },
          "metadata": {
            "tags": []
          },
          "execution_count": 12
        }
      ]
    },
    {
      "cell_type": "code",
      "metadata": {
        "id": "tvTrEzVIRcrg",
        "colab_type": "code",
        "colab": {
          "base_uri": "https://localhost:8080/",
          "height": 34
        },
        "outputId": "23a6fbe3-b482-4f37-d488-2ffd7bb8e1bd"
      },
      "source": [
        "mmscale = MinMaxScaler()\n",
        "mmscale.fit(X_train)"
      ],
      "execution_count": 13,
      "outputs": [
        {
          "output_type": "execute_result",
          "data": {
            "text/plain": [
              "MinMaxScaler(copy=True, feature_range=(0, 1))"
            ]
          },
          "metadata": {
            "tags": []
          },
          "execution_count": 13
        }
      ]
    },
    {
      "cell_type": "code",
      "metadata": {
        "id": "iOem20erRcrj",
        "colab_type": "code",
        "colab": {}
      },
      "source": [
        "X_train = mmscale.transform(X_train)"
      ],
      "execution_count": 14,
      "outputs": []
    },
    {
      "cell_type": "code",
      "metadata": {
        "id": "2jHMZRNMRcrl",
        "colab_type": "code",
        "colab": {}
      },
      "source": [
        "X_test = mmscale.transform(X_test)"
      ],
      "execution_count": 15,
      "outputs": []
    },
    {
      "cell_type": "markdown",
      "metadata": {
        "id": "AEPorax1Rcrn",
        "colab_type": "text"
      },
      "source": [
        "### 7.4 Create the model and the optimizer"
      ]
    },
    {
      "cell_type": "code",
      "metadata": {
        "id": "HtX9_PzBRcro",
        "colab_type": "code",
        "colab": {}
      },
      "source": [
        "def get_model():\n",
        "    model = Sequential()\n",
        "    model.add(Dense(30,input_shape=(30,), activation='relu'))\n",
        "    model.add(Dense(15, activation='relu'))\n",
        "    model.add(Dense(5, activation='relu'))\n",
        "    model.add(Dense(1, activation='sigmoid'))\n",
        "    print(model.summary())\n",
        "    return model"
      ],
      "execution_count": 16,
      "outputs": []
    },
    {
      "cell_type": "code",
      "metadata": {
        "id": "4tK-9gZgRcrq",
        "colab_type": "code",
        "colab": {
          "base_uri": "https://localhost:8080/",
          "height": 318
        },
        "outputId": "a5c3678b-6742-44e0-f92b-fc68844b887b"
      },
      "source": [
        "from tensorflow.keras import backend as K\n",
        "\n",
        "def recall_m(y_true, y_pred):\n",
        "    true_positives = K.sum(K.round(K.clip(y_true * y_pred, 0, 1)))\n",
        "    possible_positives = K.sum(K.round(K.clip(y_true, 0, 1)))\n",
        "    recall = true_positives / (possible_positives + K.epsilon())\n",
        "    return recall\n",
        "\n",
        "def precision_m(y_true, y_pred):\n",
        "    true_positives = K.sum(K.round(K.clip(y_true * y_pred, 0, 1)))\n",
        "    predicted_positives = K.sum(K.round(K.clip(y_pred, 0, 1)))\n",
        "    precision = true_positives / (predicted_positives + K.epsilon())\n",
        "    return precision\n",
        "\n",
        "def f1_m(y_true, y_pred):\n",
        "    precision = precision_m(y_true, y_pred)\n",
        "    recall = recall_m(y_true, y_pred)\n",
        "    return 2*((precision*recall)/(precision+recall+K.epsilon()))\n",
        "\n",
        "# get the model\n",
        "model = get_model()\n",
        "\n",
        "# compile the model\n",
        "model.compile(optimizer='RMSProp', loss='binary_crossentropy', metrics=['acc',f1_m,precision_m, recall_m])"
      ],
      "execution_count": 17,
      "outputs": [
        {
          "output_type": "stream",
          "text": [
            "Model: \"sequential\"\n",
            "_________________________________________________________________\n",
            "Layer (type)                 Output Shape              Param #   \n",
            "=================================================================\n",
            "dense (Dense)                (None, 30)                930       \n",
            "_________________________________________________________________\n",
            "dense_1 (Dense)              (None, 15)                465       \n",
            "_________________________________________________________________\n",
            "dense_2 (Dense)              (None, 5)                 80        \n",
            "_________________________________________________________________\n",
            "dense_3 (Dense)              (None, 1)                 6         \n",
            "=================================================================\n",
            "Total params: 1,481\n",
            "Trainable params: 1,481\n",
            "Non-trainable params: 0\n",
            "_________________________________________________________________\n",
            "None\n"
          ],
          "name": "stdout"
        }
      ]
    },
    {
      "cell_type": "markdown",
      "metadata": {
        "id": "kS42Kr5eRcrt",
        "colab_type": "text"
      },
      "source": [
        "## 7.5 - Train the model"
      ]
    },
    {
      "cell_type": "code",
      "metadata": {
        "id": "J0UBd7ZdRcrt",
        "colab_type": "code",
        "colab": {
          "base_uri": "https://localhost:8080/",
          "height": 1000
        },
        "outputId": "80254aa7-bfbc-4344-dd93-903d385c2010"
      },
      "source": [
        "# fit the model\n",
        "history = model.fit(X_train, Y_train, validation_split=0.1, epochs=50, verbose=1,batch_size=1000)\n",
        "\n",
        "# evaluate the model\n",
        "loss, accuracy, f1_score, precision, recall = model.evaluate(X_test, Y_test, verbose=0)"
      ],
      "execution_count": 18,
      "outputs": [
        {
          "output_type": "stream",
          "text": [
            "Epoch 1/50\n",
            "206/206 [==============================] - 1s 3ms/step - loss: 0.0371 - acc: 0.9983 - f1_m: 0.0000e+00 - precision_m: 0.0000e+00 - recall_m: 0.0000e+00 - val_loss: 0.0106 - val_acc: 0.9983 - val_f1_m: 0.0000e+00 - val_precision_m: 0.0000e+00 - val_recall_m: 0.0000e+00\n",
            "Epoch 2/50\n",
            "206/206 [==============================] - 0s 2ms/step - loss: 0.0097 - acc: 0.9983 - f1_m: 0.0000e+00 - precision_m: 0.0000e+00 - recall_m: 0.0000e+00 - val_loss: 0.0081 - val_acc: 0.9983 - val_f1_m: 0.0000e+00 - val_precision_m: 0.0000e+00 - val_recall_m: 0.0000e+00\n",
            "Epoch 3/50\n",
            "206/206 [==============================] - 0s 2ms/step - loss: 0.0071 - acc: 0.9984 - f1_m: 0.1158 - precision_m: 0.1877 - recall_m: 0.0897 - val_loss: 0.0054 - val_acc: 0.9988 - val_f1_m: 0.2710 - val_precision_m: 0.4130 - val_recall_m: 0.2261\n",
            "Epoch 4/50\n",
            "206/206 [==============================] - 0s 2ms/step - loss: 0.0047 - acc: 0.9989 - f1_m: 0.4050 - precision_m: 0.4919 - recall_m: 0.3743 - val_loss: 0.0041 - val_acc: 0.9991 - val_f1_m: 0.4486 - val_precision_m: 0.5652 - val_recall_m: 0.3957\n",
            "Epoch 5/50\n",
            "206/206 [==============================] - 0s 2ms/step - loss: 0.0037 - acc: 0.9992 - f1_m: 0.5799 - precision_m: 0.6447 - recall_m: 0.5621 - val_loss: 0.0034 - val_acc: 0.9993 - val_f1_m: 0.5543 - val_precision_m: 0.6232 - val_recall_m: 0.5116\n",
            "Epoch 6/50\n",
            "206/206 [==============================] - 0s 2ms/step - loss: 0.0035 - acc: 0.9993 - f1_m: 0.5893 - precision_m: 0.6487 - recall_m: 0.5734 - val_loss: 0.0034 - val_acc: 0.9993 - val_f1_m: 0.5543 - val_precision_m: 0.6232 - val_recall_m: 0.5116\n",
            "Epoch 7/50\n",
            "206/206 [==============================] - 0s 2ms/step - loss: 0.0034 - acc: 0.9993 - f1_m: 0.5822 - precision_m: 0.6271 - recall_m: 0.5766 - val_loss: 0.0033 - val_acc: 0.9994 - val_f1_m: 0.5630 - val_precision_m: 0.6232 - val_recall_m: 0.5261\n",
            "Epoch 8/50\n",
            "206/206 [==============================] - 0s 2ms/step - loss: 0.0034 - acc: 0.9993 - f1_m: 0.5774 - precision_m: 0.6237 - recall_m: 0.5767 - val_loss: 0.0033 - val_acc: 0.9995 - val_f1_m: 0.5858 - val_precision_m: 0.6268 - val_recall_m: 0.5623\n",
            "Epoch 9/50\n",
            "206/206 [==============================] - 0s 2ms/step - loss: 0.0033 - acc: 0.9993 - f1_m: 0.6203 - precision_m: 0.6642 - recall_m: 0.6192 - val_loss: 0.0033 - val_acc: 0.9995 - val_f1_m: 0.5919 - val_precision_m: 0.6268 - val_recall_m: 0.5710\n",
            "Epoch 10/50\n",
            "206/206 [==============================] - 0s 2ms/step - loss: 0.0032 - acc: 0.9993 - f1_m: 0.5887 - precision_m: 0.6345 - recall_m: 0.5819 - val_loss: 0.0034 - val_acc: 0.9994 - val_f1_m: 0.5630 - val_precision_m: 0.6232 - val_recall_m: 0.5261\n",
            "Epoch 11/50\n",
            "206/206 [==============================] - 0s 2ms/step - loss: 0.0032 - acc: 0.9994 - f1_m: 0.6089 - precision_m: 0.6370 - recall_m: 0.6090 - val_loss: 0.0034 - val_acc: 0.9993 - val_f1_m: 0.5543 - val_precision_m: 0.6232 - val_recall_m: 0.5116\n",
            "Epoch 12/50\n",
            "206/206 [==============================] - 0s 2ms/step - loss: 0.0032 - acc: 0.9993 - f1_m: 0.6279 - precision_m: 0.6668 - recall_m: 0.6240 - val_loss: 0.0033 - val_acc: 0.9995 - val_f1_m: 0.5919 - val_precision_m: 0.6268 - val_recall_m: 0.5710\n",
            "Epoch 13/50\n",
            "206/206 [==============================] - 0s 2ms/step - loss: 0.0032 - acc: 0.9994 - f1_m: 0.6090 - precision_m: 0.6457 - recall_m: 0.6043 - val_loss: 0.0034 - val_acc: 0.9993 - val_f1_m: 0.5752 - val_precision_m: 0.5804 - val_recall_m: 0.5855\n",
            "Epoch 14/50\n",
            "206/206 [==============================] - 0s 2ms/step - loss: 0.0032 - acc: 0.9994 - f1_m: 0.6423 - precision_m: 0.6717 - recall_m: 0.6477 - val_loss: 0.0033 - val_acc: 0.9995 - val_f1_m: 0.5919 - val_precision_m: 0.6268 - val_recall_m: 0.5710\n",
            "Epoch 15/50\n",
            "206/206 [==============================] - 0s 2ms/step - loss: 0.0032 - acc: 0.9994 - f1_m: 0.6738 - precision_m: 0.7095 - recall_m: 0.6802 - val_loss: 0.0032 - val_acc: 0.9995 - val_f1_m: 0.5919 - val_precision_m: 0.6268 - val_recall_m: 0.5710\n",
            "Epoch 16/50\n",
            "206/206 [==============================] - 0s 2ms/step - loss: 0.0032 - acc: 0.9994 - f1_m: 0.6140 - precision_m: 0.6543 - recall_m: 0.6032 - val_loss: 0.0033 - val_acc: 0.9995 - val_f1_m: 0.5919 - val_precision_m: 0.6268 - val_recall_m: 0.5710\n",
            "Epoch 17/50\n",
            "206/206 [==============================] - 0s 2ms/step - loss: 0.0032 - acc: 0.9994 - f1_m: 0.6489 - precision_m: 0.6849 - recall_m: 0.6497 - val_loss: 0.0035 - val_acc: 0.9994 - val_f1_m: 0.5604 - val_precision_m: 0.6232 - val_recall_m: 0.5203\n",
            "Epoch 18/50\n",
            "206/206 [==============================] - 0s 2ms/step - loss: 0.0032 - acc: 0.9994 - f1_m: 0.6348 - precision_m: 0.6748 - recall_m: 0.6355 - val_loss: 0.0035 - val_acc: 0.9992 - val_f1_m: 0.5694 - val_precision_m: 0.5659 - val_recall_m: 0.5855\n",
            "Epoch 19/50\n",
            "206/206 [==============================] - 0s 2ms/step - loss: 0.0031 - acc: 0.9994 - f1_m: 0.6764 - precision_m: 0.7140 - recall_m: 0.6739 - val_loss: 0.0033 - val_acc: 0.9995 - val_f1_m: 0.5919 - val_precision_m: 0.6268 - val_recall_m: 0.5710\n",
            "Epoch 20/50\n",
            "206/206 [==============================] - 0s 2ms/step - loss: 0.0032 - acc: 0.9994 - f1_m: 0.6467 - precision_m: 0.6904 - recall_m: 0.6486 - val_loss: 0.0033 - val_acc: 0.9993 - val_f1_m: 0.5781 - val_precision_m: 0.5804 - val_recall_m: 0.5855\n",
            "Epoch 21/50\n",
            "206/206 [==============================] - 0s 2ms/step - loss: 0.0031 - acc: 0.9994 - f1_m: 0.6447 - precision_m: 0.6860 - recall_m: 0.6376 - val_loss: 0.0032 - val_acc: 0.9996 - val_f1_m: 0.6006 - val_precision_m: 0.6268 - val_recall_m: 0.5855\n",
            "Epoch 22/50\n",
            "206/206 [==============================] - 0s 2ms/step - loss: 0.0031 - acc: 0.9994 - f1_m: 0.6627 - precision_m: 0.6929 - recall_m: 0.6646 - val_loss: 0.0033 - val_acc: 0.9995 - val_f1_m: 0.5919 - val_precision_m: 0.6268 - val_recall_m: 0.5710\n",
            "Epoch 23/50\n",
            "206/206 [==============================] - 0s 2ms/step - loss: 0.0031 - acc: 0.9994 - f1_m: 0.6492 - precision_m: 0.6844 - recall_m: 0.6459 - val_loss: 0.0032 - val_acc: 0.9994 - val_f1_m: 0.5885 - val_precision_m: 0.6014 - val_recall_m: 0.5855\n",
            "Epoch 24/50\n",
            "206/206 [==============================] - 0s 2ms/step - loss: 0.0031 - acc: 0.9994 - f1_m: 0.6590 - precision_m: 0.6917 - recall_m: 0.6587 - val_loss: 0.0032 - val_acc: 0.9993 - val_f1_m: 0.5839 - val_precision_m: 0.5949 - val_recall_m: 0.5855\n",
            "Epoch 25/50\n",
            "206/206 [==============================] - 0s 2ms/step - loss: 0.0031 - acc: 0.9994 - f1_m: 0.6318 - precision_m: 0.6646 - recall_m: 0.6341 - val_loss: 0.0032 - val_acc: 0.9996 - val_f1_m: 0.6006 - val_precision_m: 0.6268 - val_recall_m: 0.5855\n",
            "Epoch 26/50\n",
            "206/206 [==============================] - 0s 2ms/step - loss: 0.0031 - acc: 0.9994 - f1_m: 0.6932 - precision_m: 0.7296 - recall_m: 0.6983 - val_loss: 0.0032 - val_acc: 0.9996 - val_f1_m: 0.6006 - val_precision_m: 0.6268 - val_recall_m: 0.5855\n",
            "Epoch 27/50\n",
            "206/206 [==============================] - 0s 2ms/step - loss: 0.0031 - acc: 0.9994 - f1_m: 0.6312 - precision_m: 0.6579 - recall_m: 0.6404 - val_loss: 0.0032 - val_acc: 0.9995 - val_f1_m: 0.5919 - val_precision_m: 0.6268 - val_recall_m: 0.5710\n",
            "Epoch 28/50\n",
            "206/206 [==============================] - 0s 2ms/step - loss: 0.0031 - acc: 0.9994 - f1_m: 0.6609 - precision_m: 0.7044 - recall_m: 0.6561 - val_loss: 0.0031 - val_acc: 0.9996 - val_f1_m: 0.6006 - val_precision_m: 0.6268 - val_recall_m: 0.5855\n",
            "Epoch 29/50\n",
            "206/206 [==============================] - 0s 2ms/step - loss: 0.0031 - acc: 0.9994 - f1_m: 0.6156 - precision_m: 0.6617 - recall_m: 0.6046 - val_loss: 0.0034 - val_acc: 0.9992 - val_f1_m: 0.5694 - val_precision_m: 0.5659 - val_recall_m: 0.5855\n",
            "Epoch 30/50\n",
            "206/206 [==============================] - 0s 2ms/step - loss: 0.0031 - acc: 0.9994 - f1_m: 0.6610 - precision_m: 0.6863 - recall_m: 0.6646 - val_loss: 0.0031 - val_acc: 0.9996 - val_f1_m: 0.6006 - val_precision_m: 0.6268 - val_recall_m: 0.5855\n",
            "Epoch 31/50\n",
            "206/206 [==============================] - 0s 2ms/step - loss: 0.0031 - acc: 0.9994 - f1_m: 0.6571 - precision_m: 0.7101 - recall_m: 0.6525 - val_loss: 0.0031 - val_acc: 0.9995 - val_f1_m: 0.5948 - val_precision_m: 0.6123 - val_recall_m: 0.5855\n",
            "Epoch 32/50\n",
            "206/206 [==============================] - 0s 2ms/step - loss: 0.0031 - acc: 0.9994 - f1_m: 0.6491 - precision_m: 0.6843 - recall_m: 0.6452 - val_loss: 0.0032 - val_acc: 0.9996 - val_f1_m: 0.6006 - val_precision_m: 0.6268 - val_recall_m: 0.5855\n",
            "Epoch 33/50\n",
            "206/206 [==============================] - 0s 2ms/step - loss: 0.0031 - acc: 0.9994 - f1_m: 0.6177 - precision_m: 0.6583 - recall_m: 0.6137 - val_loss: 0.0031 - val_acc: 0.9996 - val_f1_m: 0.6006 - val_precision_m: 0.6268 - val_recall_m: 0.5855\n",
            "Epoch 34/50\n",
            "206/206 [==============================] - 0s 2ms/step - loss: 0.0031 - acc: 0.9994 - f1_m: 0.6516 - precision_m: 0.6994 - recall_m: 0.6434 - val_loss: 0.0031 - val_acc: 0.9995 - val_f1_m: 0.5948 - val_precision_m: 0.6123 - val_recall_m: 0.5855\n",
            "Epoch 35/50\n",
            "206/206 [==============================] - 0s 2ms/step - loss: 0.0031 - acc: 0.9994 - f1_m: 0.6433 - precision_m: 0.6939 - recall_m: 0.6384 - val_loss: 0.0031 - val_acc: 0.9995 - val_f1_m: 0.5948 - val_precision_m: 0.6123 - val_recall_m: 0.5855\n",
            "Epoch 36/50\n",
            "206/206 [==============================] - 0s 2ms/step - loss: 0.0030 - acc: 0.9994 - f1_m: 0.6197 - precision_m: 0.6574 - recall_m: 0.6201 - val_loss: 0.0032 - val_acc: 0.9995 - val_f1_m: 0.5919 - val_precision_m: 0.6268 - val_recall_m: 0.5710\n",
            "Epoch 37/50\n",
            "206/206 [==============================] - 0s 2ms/step - loss: 0.0030 - acc: 0.9994 - f1_m: 0.6276 - precision_m: 0.6662 - recall_m: 0.6274 - val_loss: 0.0031 - val_acc: 0.9995 - val_f1_m: 0.5948 - val_precision_m: 0.6123 - val_recall_m: 0.5855\n",
            "Epoch 38/50\n",
            "206/206 [==============================] - 0s 2ms/step - loss: 0.0030 - acc: 0.9994 - f1_m: 0.6506 - precision_m: 0.6870 - recall_m: 0.6558 - val_loss: 0.0033 - val_acc: 0.9995 - val_f1_m: 0.5832 - val_precision_m: 0.6268 - val_recall_m: 0.5565\n",
            "Epoch 39/50\n",
            "206/206 [==============================] - 0s 2ms/step - loss: 0.0030 - acc: 0.9994 - f1_m: 0.6433 - precision_m: 0.6825 - recall_m: 0.6392 - val_loss: 0.0031 - val_acc: 0.9995 - val_f1_m: 0.5948 - val_precision_m: 0.6123 - val_recall_m: 0.5855\n",
            "Epoch 40/50\n",
            "206/206 [==============================] - 0s 2ms/step - loss: 0.0030 - acc: 0.9994 - f1_m: 0.6202 - precision_m: 0.6449 - recall_m: 0.6236 - val_loss: 0.0033 - val_acc: 0.9995 - val_f1_m: 0.5919 - val_precision_m: 0.6268 - val_recall_m: 0.5710\n",
            "Epoch 41/50\n",
            "206/206 [==============================] - 0s 2ms/step - loss: 0.0030 - acc: 0.9994 - f1_m: 0.6939 - precision_m: 0.7352 - recall_m: 0.6934 - val_loss: 0.0031 - val_acc: 0.9996 - val_f1_m: 0.6006 - val_precision_m: 0.6268 - val_recall_m: 0.5855\n",
            "Epoch 42/50\n",
            "206/206 [==============================] - 0s 2ms/step - loss: 0.0030 - acc: 0.9994 - f1_m: 0.6397 - precision_m: 0.6673 - recall_m: 0.6451 - val_loss: 0.0031 - val_acc: 0.9996 - val_f1_m: 0.6006 - val_precision_m: 0.6268 - val_recall_m: 0.5855\n",
            "Epoch 43/50\n",
            "206/206 [==============================] - 0s 2ms/step - loss: 0.0030 - acc: 0.9994 - f1_m: 0.6418 - precision_m: 0.6834 - recall_m: 0.6368 - val_loss: 0.0031 - val_acc: 0.9996 - val_f1_m: 0.6006 - val_precision_m: 0.6268 - val_recall_m: 0.5855\n",
            "Epoch 44/50\n",
            "206/206 [==============================] - 0s 2ms/step - loss: 0.0030 - acc: 0.9994 - f1_m: 0.6255 - precision_m: 0.6678 - recall_m: 0.6265 - val_loss: 0.0031 - val_acc: 0.9995 - val_f1_m: 0.5919 - val_precision_m: 0.6268 - val_recall_m: 0.5710\n",
            "Epoch 45/50\n",
            "206/206 [==============================] - 0s 2ms/step - loss: 0.0029 - acc: 0.9994 - f1_m: 0.6682 - precision_m: 0.7075 - recall_m: 0.6634 - val_loss: 0.0032 - val_acc: 0.9996 - val_f1_m: 0.6006 - val_precision_m: 0.6268 - val_recall_m: 0.5855\n",
            "Epoch 46/50\n",
            "206/206 [==============================] - 0s 2ms/step - loss: 0.0030 - acc: 0.9994 - f1_m: 0.6545 - precision_m: 0.6900 - recall_m: 0.6495 - val_loss: 0.0031 - val_acc: 0.9995 - val_f1_m: 0.5919 - val_precision_m: 0.6268 - val_recall_m: 0.5710\n",
            "Epoch 47/50\n",
            "206/206 [==============================] - 0s 2ms/step - loss: 0.0029 - acc: 0.9994 - f1_m: 0.6715 - precision_m: 0.7069 - recall_m: 0.6726 - val_loss: 0.0031 - val_acc: 0.9995 - val_f1_m: 0.5919 - val_precision_m: 0.6268 - val_recall_m: 0.5710\n",
            "Epoch 48/50\n",
            "206/206 [==============================] - 0s 2ms/step - loss: 0.0030 - acc: 0.9994 - f1_m: 0.6741 - precision_m: 0.7045 - recall_m: 0.6769 - val_loss: 0.0030 - val_acc: 0.9995 - val_f1_m: 0.5919 - val_precision_m: 0.6268 - val_recall_m: 0.5710\n",
            "Epoch 49/50\n",
            "206/206 [==============================] - 0s 2ms/step - loss: 0.0030 - acc: 0.9994 - f1_m: 0.6307 - precision_m: 0.6653 - recall_m: 0.6373 - val_loss: 0.0030 - val_acc: 0.9996 - val_f1_m: 0.6006 - val_precision_m: 0.6268 - val_recall_m: 0.5855\n",
            "Epoch 50/50\n",
            "206/206 [==============================] - 0s 2ms/step - loss: 0.0030 - acc: 0.9994 - f1_m: 0.6311 - precision_m: 0.6716 - recall_m: 0.6271 - val_loss: 0.0031 - val_acc: 0.9995 - val_f1_m: 0.5948 - val_precision_m: 0.6123 - val_recall_m: 0.5855\n"
          ],
          "name": "stdout"
        }
      ]
    },
    {
      "cell_type": "code",
      "metadata": {
        "id": "5WzZCdfGRcry",
        "colab_type": "code",
        "colab": {
          "base_uri": "https://localhost:8080/",
          "height": 295
        },
        "outputId": "666b3bef-91cf-4f6e-c612-a13ff321af1c"
      },
      "source": [
        "# Plot training & validation loss values\n",
        "plt.plot(history.history['loss'])\n",
        "plt.plot(history.history['val_loss'])\n",
        "plt.title('Model loss')\n",
        "plt.ylabel('Loss')\n",
        "plt.xlabel('Epoch')\n",
        "plt.legend(['Train', 'Test'], loc='upper left')\n",
        "plt.show()"
      ],
      "execution_count": 19,
      "outputs": [
        {
          "output_type": "display_data",
          "data": {
            "image/png": "[encoded data removed]",
            "text/plain": [
              "<Figure size 432x288 with 1 Axes>"
            ]
          },
          "metadata": {
            "tags": [],
            "needs_background": "light"
          }
        }
      ]
    },
    {
      "cell_type": "code",
      "metadata": {
        "id": "zin7ljIyRcr0",
        "colab_type": "code",
        "colab": {}
      },
      "source": [
        "def plot_cm(labels, predictions, p=0.5):\n",
        "  cm = confusion_matrix(labels, predictions > p)\n",
        "  plt.figure(figsize=(5,5))\n",
        "  sns.heatmap(cm, annot=True, fmt=\"d\")\n",
        "  plt.title('Confusion matrix @{:.2f}'.format(p))\n",
        "  plt.ylabel('Actual label')\n",
        "  plt.xlabel('Predicted label')\n",
        "\n",
        "  print('Legitimate Transactions Detected (True Negatives): ', cm[0][0])\n",
        "  print('Legitimate Transactions Incorrectly Detected (False Positives): ', cm[0][1])\n",
        "  print('Fraudulent Transactions Missed (False Negatives): ', cm[1][0])\n",
        "  print('Fraudulent Transactions Detected (True Positives): ', cm[1][1])\n",
        "  print('Total Fraudulent Transactions: ', np.sum(cm[1]))"
      ],
      "execution_count": 20,
      "outputs": []
    },
    {
      "cell_type": "code",
      "metadata": {
        "id": "xof5LaaBRcr3",
        "colab_type": "code",
        "colab": {}
      },
      "source": [
        "train_predictions_baseline = model.predict(X_train, batch_size=1000)\n",
        "test_predictions_baseline = model.predict(X_test, batch_size=1000)"
      ],
      "execution_count": 21,
      "outputs": []
    },
    {
      "cell_type": "code",
      "metadata": {
        "id": "xgIsf5SdRcr5",
        "colab_type": "code",
        "colab": {}
      },
      "source": [
        "import sklearn\n",
        "from sklearn.metrics import confusion_matrix, roc_auc_score, classification_report, roc_curve"
      ],
      "execution_count": 22,
      "outputs": []
    },
    {
      "cell_type": "code",
      "metadata": {
        "id": "k15T8NvjRcr7",
        "colab_type": "code",
        "colab": {
          "base_uri": "https://localhost:8080/",
          "height": 438
        },
        "outputId": "3da0b7f0-1f11-4417-f3d3-871039eaa3af"
      },
      "source": [
        "plot_cm(Y_test, test_predictions_baseline)"
      ],
      "execution_count": 23,
      "outputs": [
        {
          "output_type": "stream",
          "text": [
            "Legitimate Transactions Detected (True Negatives):  56845\n",
            "Legitimate Transactions Incorrectly Detected (False Positives):  19\n",
            "Fraudulent Transactions Missed (False Negatives):  23\n",
            "Fraudulent Transactions Detected (True Positives):  75\n",
            "Total Fraudulent Transactions:  98\n"
          ],
          "name": "stdout"
        },
        {
          "output_type": "display_data",
          "data": {
            "image/png": "[encoded data removed]",
            "text/plain": [
              "<Figure size 360x360 with 2 Axes>"
            ]
          },
          "metadata": {
            "tags": [],
            "needs_background": "light"
          }
        }
      ]
    },
    {
      "cell_type": "code",
      "metadata": {
        "id": "_ZIidheVRcr9",
        "colab_type": "code",
        "colab": {
          "base_uri": "https://localhost:8080/",
          "height": 176
        },
        "outputId": "aa580ed2-2e03-49f1-d080-ce08c01f4b72"
      },
      "source": [
        "print(classification_report(Y_test,test_predictions_baseline>0.5))"
      ],
      "execution_count": 24,
      "outputs": [
        {
          "output_type": "stream",
          "text": [
            "              precision    recall  f1-score   support\n",
            "\n",
            "           0       1.00      1.00      1.00     56864\n",
            "           1       0.80      0.77      0.78        98\n",
            "\n",
            "    accuracy                           1.00     56962\n",
            "   macro avg       0.90      0.88      0.89     56962\n",
            "weighted avg       1.00      1.00      1.00     56962\n",
            "\n"
          ],
          "name": "stdout"
        }
      ]
    },
    {
      "cell_type": "code",
      "metadata": {
        "id": "WDQBE8MxRcsC",
        "colab_type": "code",
        "colab": {
          "base_uri": "https://localhost:8080/",
          "height": 34
        },
        "outputId": "04cb429c-eabf-4ad3-d652-ddaeff7ffe65"
      },
      "source": [
        "print(roc_auc_score(Y_test,test_predictions_baseline>0.5))"
      ],
      "execution_count": 25,
      "outputs": [
        {
          "output_type": "stream",
          "text": [
            "0.8824859959459305\n"
          ],
          "name": "stdout"
        }
      ]
    },
    {
      "cell_type": "markdown",
      "metadata": {
        "id": "xKeQJaSeRcsF",
        "colab_type": "text"
      },
      "source": [
        "## 7.6 - Handling Class Imbalance"
      ]
    },
    {
      "cell_type": "markdown",
      "metadata": {
        "id": "e5DyCNVXRcsF",
        "colab_type": "text"
      },
      "source": [
        "#### Increase class weight of positive instances"
      ]
    },
    {
      "cell_type": "code",
      "metadata": {
        "id": "-4cKiZLcRcsF",
        "colab_type": "code",
        "colab": {
          "base_uri": "https://localhost:8080/",
          "height": 52
        },
        "outputId": "9fb8616c-27ca-4d06-b113-c296bae42773"
      },
      "source": [
        "# Scaling by total/2 helps keep the loss to a similar magnitude.\n",
        "# The sum of the weights of all examples stays the same.\n",
        "neg, pos = np.bincount(credit_df['Class'])\n",
        "total = neg + pos\n",
        "weight_for_0 = (1 / neg)*(total)/2.0 \n",
        "weight_for_1 = (1 / pos)*(total)/2.0\n",
        "\n",
        "class_weight = {0: weight_for_0, 1: weight_for_1}\n",
        "\n",
        "print('Weight for class 0: {:.2f}'.format(weight_for_0))\n",
        "print('Weight for class 1: {:.2f}'.format(weight_for_1))"
      ],
      "execution_count": 26,
      "outputs": [
        {
          "output_type": "stream",
          "text": [
            "Weight for class 0: 0.50\n",
            "Weight for class 1: 289.44\n"
          ],
          "name": "stdout"
        }
      ]
    },
    {
      "cell_type": "code",
      "metadata": {
        "scrolled": true,
        "id": "nntxjTW8RcsI",
        "colab_type": "code",
        "colab": {
          "base_uri": "https://localhost:8080/",
          "height": 1000
        },
        "outputId": "96ac3f1e-8d8f-4465-b3eb-ca107b6969e4"
      },
      "source": [
        "weighted_model = get_model()\n",
        "\n",
        "# compile the model\n",
        "weighted_model.compile(optimizer='RMSProp', loss='binary_crossentropy', metrics=['acc',f1_m,precision_m, recall_m])\n",
        "\n",
        "# fit the model\n",
        "history = weighted_model.fit(X_train, Y_train, validation_split=0.1, epochs=50, verbose=1,batch_size=1000, class_weight=class_weight)\n",
        "\n",
        "# evaluate the model\n",
        "loss, accuracy, f1_score, precision, recall = weighted_model.evaluate(X_test, Y_test, verbose=0)"
      ],
      "execution_count": 27,
      "outputs": [
        {
          "output_type": "stream",
          "text": [
            "Model: \"sequential_1\"\n",
            "_________________________________________________________________\n",
            "Layer (type)                 Output Shape              Param #   \n",
            "=================================================================\n",
            "dense_4 (Dense)              (None, 30)                930       \n",
            "_________________________________________________________________\n",
            "dense_5 (Dense)              (None, 15)                465       \n",
            "_________________________________________________________________\n",
            "dense_6 (Dense)              (None, 5)                 80        \n",
            "_________________________________________________________________\n",
            "dense_7 (Dense)              (None, 1)                 6         \n",
            "=================================================================\n",
            "Total params: 1,481\n",
            "Trainable params: 1,481\n",
            "Non-trainable params: 0\n",
            "_________________________________________________________________\n",
            "None\n",
            "Epoch 1/50\n",
            "206/206 [==============================] - 1s 3ms/step - loss: 0.6239 - acc: 0.9985 - f1_m: 0.2866 - precision_m: 0.3482 - recall_m: 0.2659 - val_loss: 0.3917 - val_acc: 0.9993 - val_f1_m: 0.5500 - val_precision_m: 0.6232 - val_recall_m: 0.5116\n",
            "Epoch 2/50\n",
            "206/206 [==============================] - 0s 2ms/step - loss: 0.4708 - acc: 0.9985 - f1_m: 0.5527 - precision_m: 0.5790 - recall_m: 0.6107 - val_loss: 0.1992 - val_acc: 0.9994 - val_f1_m: 0.5630 - val_precision_m: 0.6087 - val_recall_m: 0.5406\n",
            "Epoch 3/50\n",
            "206/206 [==============================] - 0s 2ms/step - loss: 0.3353 - acc: 0.9949 - f1_m: 0.4575 - precision_m: 0.4254 - recall_m: 0.6699 - val_loss: 0.1011 - val_acc: 0.9994 - val_f1_m: 0.5775 - val_precision_m: 0.6087 - val_recall_m: 0.5623\n",
            "Epoch 4/50\n",
            "206/206 [==============================] - 0s 2ms/step - loss: 0.2651 - acc: 0.9880 - f1_m: 0.3967 - precision_m: 0.3539 - recall_m: 0.6905 - val_loss: 0.0732 - val_acc: 0.9993 - val_f1_m: 0.5798 - val_precision_m: 0.5870 - val_recall_m: 0.5855\n",
            "Epoch 5/50\n",
            "206/206 [==============================] - 0s 2ms/step - loss: 0.2427 - acc: 0.9841 - f1_m: 0.3670 - precision_m: 0.3127 - recall_m: 0.7220 - val_loss: 0.3362 - val_acc: 0.9553 - val_f1_m: 0.0591 - val_precision_m: 0.0314 - val_recall_m: 0.5855\n",
            "Epoch 6/50\n",
            "206/206 [==============================] - 0s 2ms/step - loss: 0.2287 - acc: 0.9824 - f1_m: 0.2747 - precision_m: 0.2143 - recall_m: 0.6778 - val_loss: 0.1951 - val_acc: 0.9839 - val_f1_m: 0.1480 - val_precision_m: 0.0871 - val_recall_m: 0.5855\n",
            "Epoch 7/50\n",
            "206/206 [==============================] - 0s 2ms/step - loss: 0.2196 - acc: 0.9832 - f1_m: 0.2628 - precision_m: 0.1917 - recall_m: 0.7628 - val_loss: 0.0707 - val_acc: 0.9970 - val_f1_m: 0.4128 - val_precision_m: 0.3477 - val_recall_m: 0.5855\n",
            "Epoch 8/50\n",
            "206/206 [==============================] - 0s 2ms/step - loss: 0.2103 - acc: 0.9764 - f1_m: 0.2679 - precision_m: 0.2011 - recall_m: 0.7107 - val_loss: 0.1034 - val_acc: 0.9916 - val_f1_m: 0.2452 - val_precision_m: 0.1626 - val_recall_m: 0.5855\n",
            "Epoch 9/50\n",
            "206/206 [==============================] - 0s 2ms/step - loss: 0.2060 - acc: 0.9759 - f1_m: 0.2425 - precision_m: 0.1788 - recall_m: 0.7213 - val_loss: 0.1387 - val_acc: 0.9843 - val_f1_m: 0.1508 - val_precision_m: 0.0892 - val_recall_m: 0.5855\n",
            "Epoch 10/50\n",
            "206/206 [==============================] - 0s 2ms/step - loss: 0.2004 - acc: 0.9753 - f1_m: 0.2329 - precision_m: 0.1663 - recall_m: 0.7460 - val_loss: 0.1069 - val_acc: 0.9892 - val_f1_m: 0.2071 - val_precision_m: 0.1313 - val_recall_m: 0.5855\n",
            "Epoch 11/50\n",
            "206/206 [==============================] - 0s 2ms/step - loss: 0.1941 - acc: 0.9744 - f1_m: 0.2235 - precision_m: 0.1543 - recall_m: 0.7437 - val_loss: 0.0798 - val_acc: 0.9908 - val_f1_m: 0.2322 - val_precision_m: 0.1512 - val_recall_m: 0.5855\n",
            "Epoch 12/50\n",
            "206/206 [==============================] - 0s 2ms/step - loss: 0.1974 - acc: 0.9749 - f1_m: 0.1834 - precision_m: 0.1239 - recall_m: 0.7141 - val_loss: 0.0635 - val_acc: 0.9934 - val_f1_m: 0.2777 - val_precision_m: 0.1929 - val_recall_m: 0.5855\n",
            "Epoch 13/50\n",
            "206/206 [==============================] - 0s 2ms/step - loss: 0.1832 - acc: 0.9663 - f1_m: 0.2044 - precision_m: 0.1367 - recall_m: 0.7092 - val_loss: 0.0466 - val_acc: 0.9957 - val_f1_m: 0.3665 - val_precision_m: 0.2872 - val_recall_m: 0.5855\n",
            "Epoch 14/50\n",
            "206/206 [==============================] - 0s 2ms/step - loss: 0.1838 - acc: 0.9675 - f1_m: 0.1951 - precision_m: 0.1328 - recall_m: 0.7478 - val_loss: 0.1067 - val_acc: 0.9831 - val_f1_m: 0.1451 - val_precision_m: 0.0843 - val_recall_m: 0.6435\n",
            "Epoch 15/50\n",
            "206/206 [==============================] - 0s 2ms/step - loss: 0.1915 - acc: 0.9725 - f1_m: 0.1842 - precision_m: 0.1201 - recall_m: 0.7382 - val_loss: 0.0233 - val_acc: 0.9977 - val_f1_m: 0.4818 - val_precision_m: 0.4425 - val_recall_m: 0.5855\n",
            "Epoch 16/50\n",
            "206/206 [==============================] - 0s 2ms/step - loss: 0.1865 - acc: 0.9727 - f1_m: 0.1956 - precision_m: 0.1316 - recall_m: 0.7451 - val_loss: 0.1093 - val_acc: 0.9825 - val_f1_m: 0.1411 - val_precision_m: 0.0819 - val_recall_m: 0.6435\n",
            "Epoch 17/50\n",
            "206/206 [==============================] - 0s 2ms/step - loss: 0.1871 - acc: 0.9698 - f1_m: 0.1914 - precision_m: 0.1303 - recall_m: 0.7537 - val_loss: 0.0303 - val_acc: 0.9971 - val_f1_m: 0.4649 - val_precision_m: 0.4217 - val_recall_m: 0.5855\n",
            "Epoch 18/50\n",
            "206/206 [==============================] - 0s 2ms/step - loss: 0.1929 - acc: 0.9739 - f1_m: 0.1704 - precision_m: 0.1118 - recall_m: 0.6891 - val_loss: 0.0953 - val_acc: 0.9846 - val_f1_m: 0.1556 - val_precision_m: 0.0922 - val_recall_m: 0.6435\n",
            "Epoch 19/50\n",
            "206/206 [==============================] - 0s 2ms/step - loss: 0.1849 - acc: 0.9684 - f1_m: 0.1658 - precision_m: 0.1066 - recall_m: 0.7325 - val_loss: 0.0405 - val_acc: 0.9954 - val_f1_m: 0.3545 - val_precision_m: 0.2718 - val_recall_m: 0.5855\n",
            "Epoch 20/50\n",
            "206/206 [==============================] - 0s 2ms/step - loss: 0.1841 - acc: 0.9702 - f1_m: 0.1779 - precision_m: 0.1167 - recall_m: 0.7414 - val_loss: 0.0433 - val_acc: 0.9949 - val_f1_m: 0.3363 - val_precision_m: 0.2529 - val_recall_m: 0.5855\n",
            "Epoch 21/50\n",
            "206/206 [==============================] - 0s 2ms/step - loss: 0.1795 - acc: 0.9683 - f1_m: 0.1952 - precision_m: 0.1314 - recall_m: 0.7830 - val_loss: 0.0483 - val_acc: 0.9928 - val_f1_m: 0.2626 - val_precision_m: 0.1780 - val_recall_m: 0.5855\n",
            "Epoch 22/50\n",
            "206/206 [==============================] - 0s 2ms/step - loss: 0.1826 - acc: 0.9664 - f1_m: 0.1844 - precision_m: 0.1223 - recall_m: 0.7558 - val_loss: 0.0516 - val_acc: 0.9934 - val_f1_m: 0.2879 - val_precision_m: 0.2027 - val_recall_m: 0.5855\n",
            "Epoch 23/50\n",
            "206/206 [==============================] - 0s 2ms/step - loss: 0.1799 - acc: 0.9681 - f1_m: 0.1709 - precision_m: 0.1109 - recall_m: 0.7523 - val_loss: 0.0545 - val_acc: 0.9915 - val_f1_m: 0.2415 - val_precision_m: 0.1594 - val_recall_m: 0.6000\n",
            "Epoch 24/50\n",
            "206/206 [==============================] - 0s 2ms/step - loss: 0.1788 - acc: 0.9664 - f1_m: 0.1783 - precision_m: 0.1170 - recall_m: 0.7505 - val_loss: 0.0801 - val_acc: 0.9847 - val_f1_m: 0.1550 - val_precision_m: 0.0913 - val_recall_m: 0.6435\n",
            "Epoch 25/50\n",
            "206/206 [==============================] - 0s 2ms/step - loss: 0.1804 - acc: 0.9661 - f1_m: 0.1700 - precision_m: 0.1085 - recall_m: 0.7765 - val_loss: 0.0443 - val_acc: 0.9948 - val_f1_m: 0.3216 - val_precision_m: 0.2326 - val_recall_m: 0.5855\n",
            "Epoch 26/50\n",
            "206/206 [==============================] - 0s 2ms/step - loss: 0.1831 - acc: 0.9683 - f1_m: 0.1828 - precision_m: 0.1217 - recall_m: 0.7273 - val_loss: 0.1011 - val_acc: 0.9794 - val_f1_m: 0.1240 - val_precision_m: 0.0704 - val_recall_m: 0.6435\n",
            "Epoch 27/50\n",
            "206/206 [==============================] - 0s 2ms/step - loss: 0.1850 - acc: 0.9687 - f1_m: 0.1594 - precision_m: 0.0981 - recall_m: 0.7612 - val_loss: 0.0871 - val_acc: 0.9839 - val_f1_m: 0.1468 - val_precision_m: 0.0853 - val_recall_m: 0.6435\n",
            "Epoch 28/50\n",
            "206/206 [==============================] - 0s 2ms/step - loss: 0.1792 - acc: 0.9695 - f1_m: 0.1703 - precision_m: 0.1087 - recall_m: 0.7646 - val_loss: 0.0665 - val_acc: 0.9868 - val_f1_m: 0.1698 - val_precision_m: 0.1031 - val_recall_m: 0.6000\n",
            "Epoch 29/50\n",
            "206/206 [==============================] - 0s 2ms/step - loss: 0.1784 - acc: 0.9648 - f1_m: 0.1552 - precision_m: 0.0998 - recall_m: 0.7328 - val_loss: 0.0437 - val_acc: 0.9935 - val_f1_m: 0.2776 - val_precision_m: 0.1893 - val_recall_m: 0.6000\n",
            "Epoch 30/50\n",
            "206/206 [==============================] - 0s 2ms/step - loss: 0.1807 - acc: 0.9715 - f1_m: 0.1612 - precision_m: 0.0997 - recall_m: 0.7621 - val_loss: 0.0479 - val_acc: 0.9928 - val_f1_m: 0.2634 - val_precision_m: 0.1780 - val_recall_m: 0.6000\n",
            "Epoch 31/50\n",
            "206/206 [==============================] - 0s 2ms/step - loss: 0.1782 - acc: 0.9662 - f1_m: 0.1746 - precision_m: 0.1138 - recall_m: 0.7060 - val_loss: 0.1124 - val_acc: 0.9744 - val_f1_m: 0.0998 - val_precision_m: 0.0551 - val_recall_m: 0.6435\n",
            "Epoch 32/50\n",
            "206/206 [==============================] - 0s 2ms/step - loss: 0.1769 - acc: 0.9699 - f1_m: 0.1873 - precision_m: 0.1287 - recall_m: 0.7503 - val_loss: 0.0443 - val_acc: 0.9932 - val_f1_m: 0.2847 - val_precision_m: 0.1964 - val_recall_m: 0.6000\n",
            "Epoch 33/50\n",
            "206/206 [==============================] - 0s 2ms/step - loss: 0.1778 - acc: 0.9708 - f1_m: 0.1744 - precision_m: 0.1141 - recall_m: 0.7550 - val_loss: 0.1577 - val_acc: 0.9559 - val_f1_m: 0.0619 - val_precision_m: 0.0329 - val_recall_m: 0.6435\n",
            "Epoch 34/50\n",
            "206/206 [==============================] - 0s 2ms/step - loss: 0.1759 - acc: 0.9646 - f1_m: 0.1671 - precision_m: 0.1109 - recall_m: 0.7157 - val_loss: 0.0501 - val_acc: 0.9931 - val_f1_m: 0.2681 - val_precision_m: 0.1839 - val_recall_m: 0.6000\n",
            "Epoch 35/50\n",
            "206/206 [==============================] - 0s 2ms/step - loss: 0.1734 - acc: 0.9669 - f1_m: 0.1580 - precision_m: 0.1000 - recall_m: 0.7017 - val_loss: 0.0491 - val_acc: 0.9928 - val_f1_m: 0.2595 - val_precision_m: 0.1746 - val_recall_m: 0.6000\n",
            "Epoch 36/50\n",
            "206/206 [==============================] - 0s 2ms/step - loss: 0.1772 - acc: 0.9687 - f1_m: 0.1753 - precision_m: 0.1145 - recall_m: 0.7526 - val_loss: 0.0583 - val_acc: 0.9917 - val_f1_m: 0.2385 - val_precision_m: 0.1539 - val_recall_m: 0.6435\n",
            "Epoch 37/50\n",
            "206/206 [==============================] - 0s 2ms/step - loss: 0.1841 - acc: 0.9699 - f1_m: 0.1515 - precision_m: 0.0936 - recall_m: 0.7474 - val_loss: 0.0534 - val_acc: 0.9923 - val_f1_m: 0.2463 - val_precision_m: 0.1614 - val_recall_m: 0.6000\n",
            "Epoch 38/50\n",
            "206/206 [==============================] - 0s 2ms/step - loss: 0.1818 - acc: 0.9683 - f1_m: 0.1431 - precision_m: 0.0856 - recall_m: 0.7525 - val_loss: 0.0315 - val_acc: 0.9954 - val_f1_m: 0.3746 - val_precision_m: 0.2946 - val_recall_m: 0.6000\n",
            "Epoch 39/50\n",
            "206/206 [==============================] - 0s 2ms/step - loss: 0.1735 - acc: 0.9670 - f1_m: 0.1861 - precision_m: 0.1245 - recall_m: 0.7630 - val_loss: 0.0480 - val_acc: 0.9916 - val_f1_m: 0.2338 - val_precision_m: 0.1534 - val_recall_m: 0.6000\n",
            "Epoch 40/50\n",
            "206/206 [==============================] - 0s 2ms/step - loss: 0.1753 - acc: 0.9689 - f1_m: 0.1748 - precision_m: 0.1118 - recall_m: 0.7702 - val_loss: 0.0506 - val_acc: 0.9930 - val_f1_m: 0.2617 - val_precision_m: 0.1763 - val_recall_m: 0.6000\n",
            "Epoch 41/50\n",
            "206/206 [==============================] - 0s 2ms/step - loss: 0.1730 - acc: 0.9703 - f1_m: 0.1795 - precision_m: 0.1175 - recall_m: 0.7486 - val_loss: 0.0328 - val_acc: 0.9961 - val_f1_m: 0.4154 - val_precision_m: 0.3461 - val_recall_m: 0.6000\n",
            "Epoch 42/50\n",
            "206/206 [==============================] - 0s 2ms/step - loss: 0.1719 - acc: 0.9688 - f1_m: 0.1855 - precision_m: 0.1229 - recall_m: 0.7259 - val_loss: 0.0861 - val_acc: 0.9853 - val_f1_m: 0.1540 - val_precision_m: 0.0909 - val_recall_m: 0.6435\n",
            "Epoch 43/50\n",
            "206/206 [==============================] - 0s 2ms/step - loss: 0.1796 - acc: 0.9683 - f1_m: 0.1553 - precision_m: 0.0954 - recall_m: 0.7401 - val_loss: 0.1374 - val_acc: 0.9661 - val_f1_m: 0.0795 - val_precision_m: 0.0431 - val_recall_m: 0.6435\n",
            "Epoch 44/50\n",
            "206/206 [==============================] - 0s 2ms/step - loss: 0.1741 - acc: 0.9698 - f1_m: 0.1617 - precision_m: 0.1002 - recall_m: 0.7405 - val_loss: 0.1043 - val_acc: 0.9733 - val_f1_m: 0.0960 - val_precision_m: 0.0529 - val_recall_m: 0.6435\n",
            "Epoch 45/50\n",
            "206/206 [==============================] - 0s 2ms/step - loss: 0.1778 - acc: 0.9699 - f1_m: 0.1546 - precision_m: 0.0951 - recall_m: 0.7320 - val_loss: 0.0289 - val_acc: 0.9967 - val_f1_m: 0.4383 - val_precision_m: 0.3694 - val_recall_m: 0.6000\n",
            "Epoch 46/50\n",
            "206/206 [==============================] - 0s 2ms/step - loss: 0.1743 - acc: 0.9685 - f1_m: 0.1680 - precision_m: 0.1080 - recall_m: 0.7307 - val_loss: 0.0633 - val_acc: 0.9911 - val_f1_m: 0.2298 - val_precision_m: 0.1468 - val_recall_m: 0.6435\n",
            "Epoch 47/50\n",
            "206/206 [==============================] - 0s 2ms/step - loss: 0.1731 - acc: 0.9710 - f1_m: 0.1830 - precision_m: 0.1216 - recall_m: 0.7358 - val_loss: 0.0658 - val_acc: 0.9904 - val_f1_m: 0.2166 - val_precision_m: 0.1363 - val_recall_m: 0.6435\n",
            "Epoch 48/50\n",
            "206/206 [==============================] - 0s 2ms/step - loss: 0.1730 - acc: 0.9672 - f1_m: 0.1702 - precision_m: 0.1056 - recall_m: 0.7595 - val_loss: 0.0513 - val_acc: 0.9934 - val_f1_m: 0.2819 - val_precision_m: 0.1952 - val_recall_m: 0.6000\n",
            "Epoch 49/50\n",
            "206/206 [==============================] - 0s 2ms/step - loss: 0.1712 - acc: 0.9700 - f1_m: 0.1919 - precision_m: 0.1271 - recall_m: 0.7362 - val_loss: 0.1076 - val_acc: 0.9787 - val_f1_m: 0.1138 - val_precision_m: 0.0639 - val_recall_m: 0.6435\n",
            "Epoch 50/50\n",
            "206/206 [==============================] - 0s 2ms/step - loss: 0.1707 - acc: 0.9704 - f1_m: 0.1706 - precision_m: 0.1106 - recall_m: 0.7339 - val_loss: 0.0611 - val_acc: 0.9912 - val_f1_m: 0.2314 - val_precision_m: 0.1482 - val_recall_m: 0.6435\n"
          ],
          "name": "stdout"
        }
      ]
    },
    {
      "cell_type": "markdown",
      "metadata": {
        "id": "IkimyyDYRcsK",
        "colab_type": "text"
      },
      "source": [
        "## 7.7 - Evaluate the final model and predict fraud using the model"
      ]
    },
    {
      "cell_type": "code",
      "metadata": {
        "id": "q7kmREi2RcsL",
        "colab_type": "code",
        "colab": {
          "base_uri": "https://localhost:8080/",
          "height": 295
        },
        "outputId": "1c77e7e7-7abe-4ab2-e2ce-d3ee3eafe0f2"
      },
      "source": [
        "# Plot training & validation loss values\n",
        "plt.plot(history.history['loss'])\n",
        "plt.plot(history.history['val_loss'])\n",
        "plt.title('Model loss')\n",
        "plt.ylabel('Loss')\n",
        "plt.xlabel('Epoch')\n",
        "plt.legend(['Train', 'Test'], loc='upper left')\n",
        "plt.show()"
      ],
      "execution_count": 28,
      "outputs": [
        {
          "output_type": "display_data",
          "data": {
            "image/png": "[encoded data removed]",
            "text/plain": [
              "<Figure size 432x288 with 1 Axes>"
            ]
          },
          "metadata": {
            "tags": [],
            "needs_background": "light"
          }
        }
      ]
    },
    {
      "cell_type": "code",
      "metadata": {
        "id": "GFDpKupqRcsN",
        "colab_type": "code",
        "colab": {}
      },
      "source": [
        "def find_optimal_cutoff(target, predicted):\n",
        "    \"\"\" Find the optimal probability cutoff point for a classification model related to event rate\n",
        "    Parameters\n",
        "    ----------\n",
        "    target : Matrix with dependent or target data, where rows are observations\n",
        "\n",
        "    predicted : Matrix with predicted data, where rows are observations\n",
        "\n",
        "    Returns\n",
        "    -------     \n",
        "    list type, with optimal cutoff value\n",
        "\n",
        "    \"\"\"\n",
        "    fpr, tpr, threshold = roc_curve(target, predicted)\n",
        "    i = np.arange(len(tpr)) \n",
        "    roc = pd.DataFrame({'tf' : pd.Series(tpr-(1-fpr), index=i), 'threshold' : pd.Series(threshold, index=i)})\n",
        "    roc_t = roc.iloc[(roc.tf-0).abs().argsort()[:1]]\n",
        "    # Plot tpr vs 1-fpr\n",
        "    fig, ax = plt.subplots()\n",
        "    plt.plot(tpr)\n",
        "    plt.plot(1-fpr, color = 'red')\n",
        "    plt.xlabel('1-False Positive Rate')\n",
        "    plt.ylabel('True Positive Rate')\n",
        "    plt.title('Receiver operating characteristic')\n",
        "    ax.set_xticklabels([])\n",
        "    return list(roc_t['threshold']) "
      ],
      "execution_count": 29,
      "outputs": []
    },
    {
      "cell_type": "code",
      "metadata": {
        "id": "Bzab0DBFRcsP",
        "colab_type": "code",
        "colab": {}
      },
      "source": [
        "test_predictions_weighted = weighted_model.predict(X_test, batch_size=1000)"
      ],
      "execution_count": 30,
      "outputs": []
    },
    {
      "cell_type": "code",
      "metadata": {
        "id": "gw-k5iNIRcsU",
        "colab_type": "code",
        "colab": {
          "base_uri": "https://localhost:8080/",
          "height": 303
        },
        "outputId": "9a798af7-d68e-420c-cf93-01e300062c44"
      },
      "source": [
        "find_optimal_cutoff(Y_test, test_predictions_weighted)"
      ],
      "execution_count": 31,
      "outputs": [
        {
          "output_type": "execute_result",
          "data": {
            "text/plain": [
              "[0.11430588364601135]"
            ]
          },
          "metadata": {
            "tags": []
          },
          "execution_count": 31
        },
        {
          "output_type": "display_data",
          "data": {
            "image/png": "[encoded data removed]",
            "text/plain": [
              "<Figure size 432x288 with 1 Axes>"
            ]
          },
          "metadata": {
            "tags": [],
            "needs_background": "light"
          }
        }
      ]
    },
    {
      "cell_type": "code",
      "metadata": {
        "id": "Vy-kShG-RcsW",
        "colab_type": "code",
        "colab": {
          "base_uri": "https://localhost:8080/",
          "height": 438
        },
        "outputId": "80a3044e-bb03-4ec0-b029-03926be0fda5"
      },
      "source": [
        "plot_cm(Y_test, test_predictions_weighted, p=0.21)"
      ],
      "execution_count": 32,
      "outputs": [
        {
          "output_type": "stream",
          "text": [
            "Legitimate Transactions Detected (True Negatives):  54320\n",
            "Legitimate Transactions Incorrectly Detected (False Positives):  2544\n",
            "Fraudulent Transactions Missed (False Negatives):  14\n",
            "Fraudulent Transactions Detected (True Positives):  84\n",
            "Total Fraudulent Transactions:  98\n"
          ],
          "name": "stdout"
        },
        {
          "output_type": "display_data",
          "data": {
            "image/png": "[encoded data removed]",
            "text/plain": [
              "<Figure size 360x360 with 2 Axes>"
            ]
          },
          "metadata": {
            "tags": [],
            "needs_background": "light"
          }
        }
      ]
    },
    {
      "cell_type": "code",
      "metadata": {
        "id": "m4H8lUgxRcsY",
        "colab_type": "code",
        "colab": {
          "base_uri": "https://localhost:8080/",
          "height": 176
        },
        "outputId": "d8d35d59-7d5b-42c9-e219-ab327262e058"
      },
      "source": [
        "print(classification_report(Y_test, test_predictions_weighted>0.21))"
      ],
      "execution_count": 33,
      "outputs": [
        {
          "output_type": "stream",
          "text": [
            "              precision    recall  f1-score   support\n",
            "\n",
            "           0       1.00      0.96      0.98     56864\n",
            "           1       0.03      0.86      0.06        98\n",
            "\n",
            "    accuracy                           0.96     56962\n",
            "   macro avg       0.52      0.91      0.52     56962\n",
            "weighted avg       1.00      0.96      0.98     56962\n",
            "\n"
          ],
          "name": "stdout"
        }
      ]
    },
    {
      "cell_type": "code",
      "metadata": {
        "id": "M_exVYAMRcsa",
        "colab_type": "code",
        "colab": {
          "base_uri": "https://localhost:8080/",
          "height": 34
        },
        "outputId": "b596d29e-5eb7-473d-cabe-20d891aeebb3"
      },
      "source": [
        "roc_auc_score(Y_test, test_predictions_weighted>0.21)"
      ],
      "execution_count": 34,
      "outputs": [
        {
          "output_type": "execute_result",
          "data": {
            "text/plain": [
              "0.9062022670632688"
            ]
          },
          "metadata": {
            "tags": []
          },
          "execution_count": 34
        }
      ]
    }
  ]
}