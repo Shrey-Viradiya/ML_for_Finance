{
  "nbformat": 4,
  "nbformat_minor": 0,
  "metadata": {
    "colab": {
      "name": "ML4fin_section_2.ipynb",
      "provenance": [],
      "collapsed_sections": [],
      "authorship_tag": "ABX9TyNv1A7ARbOJOrh93/LmA7RG",
      "include_colab_link": true
    },
    "kernelspec": {
      "name": "python3",
      "display_name": "Python 3"
    }
  },
  "cells": [
    {
      "cell_type": "markdown",
      "metadata": {
        "id": "view-in-github",
        "colab_type": "text"
      },
      "source": [
        "<a href=\"https://colab.research.google.com/github/Shrey-Viradiya/ML_for_Finance/blob/master/ML4fin_section_2.ipynb\" target=\"_parent\"><img src=\"https://colab.research.google.com/assets/colab-badge.svg\" alt=\"Open In Colab\"/></a>"
      ]
    },
    {
      "cell_type": "code",
      "metadata": {
        "id": "T1i0JXb1mKLN",
        "colab_type": "code",
        "colab": {
          "base_uri": "https://localhost:8080/",
          "height": 232
        },
        "outputId": "2b63c5f5-4766-45e3-fade-be1d06f182fb"
      },
      "source": [
        "!wget https://raw.githubusercontent.com/PacktPublishing/Machine-Learning-for-Finance-video/master/Section_2/FX_USDJPY_201701till01312259.csv"
      ],
      "execution_count": 1,
      "outputs": [
        {
          "output_type": "stream",
          "text": [
            "--2020-08-03 16:16:34--  https://raw.githubusercontent.com/PacktPublishing/Machine-Learning-for-Finance-video/master/Section_2/FX_USDJPY_201701till01312259.csv\n",
            "Resolving raw.githubusercontent.com (raw.githubusercontent.com)... 151.101.0.133, 151.101.64.133, 151.101.128.133, ...\n",
            "Connecting to raw.githubusercontent.com (raw.githubusercontent.com)|151.101.0.133|:443... connected.\n",
            "HTTP request sent, awaiting response... 200 OK\n",
            "Length: 1543892 (1.5M) [text/plain]\n",
            "Saving to: ‘FX_USDJPY_201701till01312259.csv’\n",
            "\n",
            "\r          FX_USDJPY   0%[                    ]       0  --.-KB/s               \rFX_USDJPY_201701til 100%[===================>]   1.47M  --.-KB/s    in 0.09s   \n",
            "\n",
            "2020-08-03 16:16:34 (15.8 MB/s) - ‘FX_USDJPY_201701till01312259.csv’ saved [1543892/1543892]\n",
            "\n"
          ],
          "name": "stdout"
        }
      ]
    },
    {
      "cell_type": "code",
      "metadata": {
        "id": "whkYRPJFmsPS",
        "colab_type": "code",
        "colab": {
          "base_uri": "https://localhost:8080/",
          "height": 463
        },
        "outputId": "4074a2b9-8c68-42da-eeea-83697415b948"
      },
      "source": [
        "!wget https://launchpad.net/~mario-mariomedina/+archive/ubuntu/talib/+files/libta-lib0_0.4.0-oneiric1_amd64.deb -qO libta.deb\n",
        "!wget https://launchpad.net/~mario-mariomedina/+archive/ubuntu/talib/+files/ta-lib0-dev_0.4.0-oneiric1_amd64.deb -qO ta.deb\n",
        "!dpkg -i libta.deb ta.deb\n",
        "!pip install ta-lib"
      ],
      "execution_count": 2,
      "outputs": [
        {
          "output_type": "stream",
          "text": [
            "Selecting previously unselected package libta-lib0.\n",
            "(Reading database ... \r(Reading database ... 5%\r(Reading database ... 10%\r(Reading database ... 15%\r(Reading database ... 20%\r(Reading database ... 25%\r(Reading database ... 30%\r(Reading database ... 35%\r(Reading database ... 40%\r(Reading database ... 45%\r(Reading database ... 50%\r(Reading database ... 55%\r(Reading database ... 60%\r(Reading database ... 65%\r(Reading database ... 70%\r(Reading database ... 75%\r(Reading database ... 80%\r(Reading database ... 85%\r(Reading database ... 90%\r(Reading database ... 95%\r(Reading database ... 100%\r(Reading database ... 144487 files and directories currently installed.)\n",
            "Preparing to unpack libta.deb ...\n",
            "Unpacking libta-lib0 (0.4.0-oneiric1) ...\n",
            "Selecting previously unselected package ta-lib0-dev.\n",
            "Preparing to unpack ta.deb ...\n",
            "Unpacking ta-lib0-dev (0.4.0-oneiric1) ...\n",
            "Setting up libta-lib0 (0.4.0-oneiric1) ...\n",
            "Setting up ta-lib0-dev (0.4.0-oneiric1) ...\n",
            "Processing triggers for man-db (2.8.3-2ubuntu0.1) ...\n",
            "Processing triggers for libc-bin (2.27-3ubuntu1) ...\n",
            "/sbin/ldconfig.real: /usr/local/lib/python3.6/dist-packages/ideep4py/lib/libmkldnn.so.0 is not a symbolic link\n",
            "\n",
            "Collecting ta-lib\n",
            "\u001b[?25l  Downloading https://files.pythonhosted.org/packages/d7/15/ebf1a6ebcf7580dc53e342979c7425affc38ef272bc10a7f4565ee87b394/TA-Lib-0.4.18.tar.gz (265kB)\n",
            "\u001b[K     |████████████████████████████████| 266kB 4.4MB/s \n",
            "\u001b[?25hRequirement already satisfied: numpy in /usr/local/lib/python3.6/dist-packages (from ta-lib) (1.18.5)\n",
            "Building wheels for collected packages: ta-lib\n",
            "  Building wheel for ta-lib (setup.py) ... \u001b[?25l\u001b[?25hdone\n",
            "  Created wheel for ta-lib: filename=TA_Lib-0.4.18-cp36-cp36m-linux_x86_64.whl size=1531810 sha256=3d3e65ea628230a1e8da733ba427778ab4dda6463221dbdfed8981b81c3e64f5\n",
            "  Stored in directory: /root/.cache/pip/wheels/11/cc/88/20dc42c28a07efb297dad4303948ef6dd4a3c7257553db8f09\n",
            "Successfully built ta-lib\n",
            "Installing collected packages: ta-lib\n",
            "Successfully installed ta-lib-0.4.18\n"
          ],
          "name": "stdout"
        }
      ]
    },
    {
      "cell_type": "markdown",
      "metadata": {
        "id": "wzhF7IstnM6J",
        "colab_type": "text"
      },
      "source": [
        "Importing Libraries"
      ]
    },
    {
      "cell_type": "code",
      "metadata": {
        "id": "pAQ6wjrBmueH",
        "colab_type": "code",
        "colab": {
          "base_uri": "https://localhost:8080/",
          "height": 72
        },
        "outputId": "538015c2-3e80-4b2a-dc1f-cfcfbc6e6ab0"
      },
      "source": [
        "import numpy as np\n",
        "import pandas as pd\n",
        "import statsmodels.tsa.api as smt\n",
        "from sklearn.model_selection import train_test_split\n",
        "import statsmodels as sm\n",
        "from statsmodels.regression.linear_model import OLS\n",
        "from sklearn.metrics import r2_score\n",
        "import seaborn as sbn\n",
        "import matplotlib.pyplot as plt\n",
        "import talib\n",
        "plt.style.use('ggplot')"
      ],
      "execution_count": 3,
      "outputs": [
        {
          "output_type": "stream",
          "text": [
            "/usr/local/lib/python3.6/dist-packages/statsmodels/tools/_testing.py:19: FutureWarning: pandas.util.testing is deprecated. Use the functions in the public API at pandas.testing instead.\n",
            "  import pandas.util.testing as tm\n"
          ],
          "name": "stderr"
        }
      ]
    },
    {
      "cell_type": "code",
      "metadata": {
        "id": "Wn2t14D4oDP0",
        "colab_type": "code",
        "colab": {}
      },
      "source": [
        "forex_data = pd.read_csv('FX_USDJPY_201701till01312259.csv', header=None)"
      ],
      "execution_count": 4,
      "outputs": []
    },
    {
      "cell_type": "code",
      "metadata": {
        "id": "fSAzmD_GocGd",
        "colab_type": "code",
        "colab": {}
      },
      "source": [
        "forex_data.columns = ['Date','Time','Open','High','Low','Close']"
      ],
      "execution_count": 5,
      "outputs": []
    },
    {
      "cell_type": "code",
      "metadata": {
        "id": "uOk2Gslsojni",
        "colab_type": "code",
        "colab": {
          "base_uri": "https://localhost:8080/",
          "height": 197
        },
        "outputId": "74d4228a-6f3f-4747-ce4a-7c1f9c76d484"
      },
      "source": [
        "forex_data.head()"
      ],
      "execution_count": 6,
      "outputs": [
        {
          "output_type": "execute_result",
          "data": {
            "text/html": [
              "<div>\n",
              "<style scoped>\n",
              "    .dataframe tbody tr th:only-of-type {\n",
              "        vertical-align: middle;\n",
              "    }\n",
              "\n",
              "    .dataframe tbody tr th {\n",
              "        vertical-align: top;\n",
              "    }\n",
              "\n",
              "    .dataframe thead th {\n",
              "        text-align: right;\n",
              "    }\n",
              "</style>\n",
              "<table border=\"1\" class=\"dataframe\">\n",
              "  <thead>\n",
              "    <tr style=\"text-align: right;\">\n",
              "      <th></th>\n",
              "      <th>Date</th>\n",
              "      <th>Time</th>\n",
              "      <th>Open</th>\n",
              "      <th>High</th>\n",
              "      <th>Low</th>\n",
              "      <th>Close</th>\n",
              "    </tr>\n",
              "  </thead>\n",
              "  <tbody>\n",
              "    <tr>\n",
              "      <th>0</th>\n",
              "      <td>2017.01.02</td>\n",
              "      <td>2:00</td>\n",
              "      <td>116.858</td>\n",
              "      <td>116.870</td>\n",
              "      <td>116.858</td>\n",
              "      <td>116.870</td>\n",
              "    </tr>\n",
              "    <tr>\n",
              "      <th>1</th>\n",
              "      <td>2017.01.02</td>\n",
              "      <td>2:01</td>\n",
              "      <td>116.875</td>\n",
              "      <td>116.915</td>\n",
              "      <td>116.875</td>\n",
              "      <td>116.901</td>\n",
              "    </tr>\n",
              "    <tr>\n",
              "      <th>2</th>\n",
              "      <td>2017.01.02</td>\n",
              "      <td>2:02</td>\n",
              "      <td>116.901</td>\n",
              "      <td>116.901</td>\n",
              "      <td>116.901</td>\n",
              "      <td>116.901</td>\n",
              "    </tr>\n",
              "    <tr>\n",
              "      <th>3</th>\n",
              "      <td>2017.01.02</td>\n",
              "      <td>2:03</td>\n",
              "      <td>116.901</td>\n",
              "      <td>116.906</td>\n",
              "      <td>116.897</td>\n",
              "      <td>116.900</td>\n",
              "    </tr>\n",
              "    <tr>\n",
              "      <th>4</th>\n",
              "      <td>2017.01.02</td>\n",
              "      <td>2:04</td>\n",
              "      <td>116.900</td>\n",
              "      <td>116.903</td>\n",
              "      <td>116.900</td>\n",
              "      <td>116.903</td>\n",
              "    </tr>\n",
              "  </tbody>\n",
              "</table>\n",
              "</div>"
            ],
            "text/plain": [
              "         Date  Time     Open     High      Low    Close\n",
              "0  2017.01.02  2:00  116.858  116.870  116.858  116.870\n",
              "1  2017.01.02  2:01  116.875  116.915  116.875  116.901\n",
              "2  2017.01.02  2:02  116.901  116.901  116.901  116.901\n",
              "3  2017.01.02  2:03  116.901  116.906  116.897  116.900\n",
              "4  2017.01.02  2:04  116.900  116.903  116.900  116.903"
            ]
          },
          "metadata": {
            "tags": []
          },
          "execution_count": 6
        }
      ]
    },
    {
      "cell_type": "markdown",
      "metadata": {
        "id": "XIKQI3wbo3d_",
        "colab_type": "text"
      },
      "source": [
        "## **Pre-Process FOREX currency data for model input**"
      ]
    },
    {
      "cell_type": "code",
      "metadata": {
        "id": "xxOL9RwVok4w",
        "colab_type": "code",
        "colab": {
          "base_uri": "https://localhost:8080/",
          "height": 197
        },
        "outputId": "4df2b195-f2e8-4e56-da65-5439f60e1e32"
      },
      "source": [
        "forex_data['Hour'] = forex_data['Time'].apply(lambda t: int(t.split(':')[0]))\n",
        "forex_data.head()"
      ],
      "execution_count": 7,
      "outputs": [
        {
          "output_type": "execute_result",
          "data": {
            "text/html": [
              "<div>\n",
              "<style scoped>\n",
              "    .dataframe tbody tr th:only-of-type {\n",
              "        vertical-align: middle;\n",
              "    }\n",
              "\n",
              "    .dataframe tbody tr th {\n",
              "        vertical-align: top;\n",
              "    }\n",
              "\n",
              "    .dataframe thead th {\n",
              "        text-align: right;\n",
              "    }\n",
              "</style>\n",
              "<table border=\"1\" class=\"dataframe\">\n",
              "  <thead>\n",
              "    <tr style=\"text-align: right;\">\n",
              "      <th></th>\n",
              "      <th>Date</th>\n",
              "      <th>Time</th>\n",
              "      <th>Open</th>\n",
              "      <th>High</th>\n",
              "      <th>Low</th>\n",
              "      <th>Close</th>\n",
              "      <th>Hour</th>\n",
              "    </tr>\n",
              "  </thead>\n",
              "  <tbody>\n",
              "    <tr>\n",
              "      <th>0</th>\n",
              "      <td>2017.01.02</td>\n",
              "      <td>2:00</td>\n",
              "      <td>116.858</td>\n",
              "      <td>116.870</td>\n",
              "      <td>116.858</td>\n",
              "      <td>116.870</td>\n",
              "      <td>2</td>\n",
              "    </tr>\n",
              "    <tr>\n",
              "      <th>1</th>\n",
              "      <td>2017.01.02</td>\n",
              "      <td>2:01</td>\n",
              "      <td>116.875</td>\n",
              "      <td>116.915</td>\n",
              "      <td>116.875</td>\n",
              "      <td>116.901</td>\n",
              "      <td>2</td>\n",
              "    </tr>\n",
              "    <tr>\n",
              "      <th>2</th>\n",
              "      <td>2017.01.02</td>\n",
              "      <td>2:02</td>\n",
              "      <td>116.901</td>\n",
              "      <td>116.901</td>\n",
              "      <td>116.901</td>\n",
              "      <td>116.901</td>\n",
              "      <td>2</td>\n",
              "    </tr>\n",
              "    <tr>\n",
              "      <th>3</th>\n",
              "      <td>2017.01.02</td>\n",
              "      <td>2:03</td>\n",
              "      <td>116.901</td>\n",
              "      <td>116.906</td>\n",
              "      <td>116.897</td>\n",
              "      <td>116.900</td>\n",
              "      <td>2</td>\n",
              "    </tr>\n",
              "    <tr>\n",
              "      <th>4</th>\n",
              "      <td>2017.01.02</td>\n",
              "      <td>2:04</td>\n",
              "      <td>116.900</td>\n",
              "      <td>116.903</td>\n",
              "      <td>116.900</td>\n",
              "      <td>116.903</td>\n",
              "      <td>2</td>\n",
              "    </tr>\n",
              "  </tbody>\n",
              "</table>\n",
              "</div>"
            ],
            "text/plain": [
              "         Date  Time     Open     High      Low    Close  Hour\n",
              "0  2017.01.02  2:00  116.858  116.870  116.858  116.870     2\n",
              "1  2017.01.02  2:01  116.875  116.915  116.875  116.901     2\n",
              "2  2017.01.02  2:02  116.901  116.901  116.901  116.901     2\n",
              "3  2017.01.02  2:03  116.901  116.906  116.897  116.900     2\n",
              "4  2017.01.02  2:04  116.900  116.903  116.900  116.903     2"
            ]
          },
          "metadata": {
            "tags": []
          },
          "execution_count": 7
        }
      ]
    },
    {
      "cell_type": "markdown",
      "metadata": {
        "id": "KfJcFsHhpSJZ",
        "colab_type": "text"
      },
      "source": [
        "Take the mean of closing price for every hour"
      ]
    },
    {
      "cell_type": "code",
      "metadata": {
        "id": "QmkfJiTPpOx9",
        "colab_type": "code",
        "colab": {}
      },
      "source": [
        "forex_agg = forex_data.groupby(['Date','Hour'])['Close'].mean()\n",
        "forex_agg = forex_agg.reset_index().sort_values(by = ['Date','Hour'], ascending = True)"
      ],
      "execution_count": 8,
      "outputs": []
    },
    {
      "cell_type": "code",
      "metadata": {
        "id": "5NXh0AvxpyTu",
        "colab_type": "code",
        "colab": {
          "base_uri": "https://localhost:8080/",
          "height": 197
        },
        "outputId": "fa813bf7-12bd-4b1f-e358-4377800fde2c"
      },
      "source": [
        "forex_agg.head()"
      ],
      "execution_count": 9,
      "outputs": [
        {
          "output_type": "execute_result",
          "data": {
            "text/html": [
              "<div>\n",
              "<style scoped>\n",
              "    .dataframe tbody tr th:only-of-type {\n",
              "        vertical-align: middle;\n",
              "    }\n",
              "\n",
              "    .dataframe tbody tr th {\n",
              "        vertical-align: top;\n",
              "    }\n",
              "\n",
              "    .dataframe thead th {\n",
              "        text-align: right;\n",
              "    }\n",
              "</style>\n",
              "<table border=\"1\" class=\"dataframe\">\n",
              "  <thead>\n",
              "    <tr style=\"text-align: right;\">\n",
              "      <th></th>\n",
              "      <th>Date</th>\n",
              "      <th>Hour</th>\n",
              "      <th>Close</th>\n",
              "    </tr>\n",
              "  </thead>\n",
              "  <tbody>\n",
              "    <tr>\n",
              "      <th>0</th>\n",
              "      <td>2017.01.02</td>\n",
              "      <td>2</td>\n",
              "      <td>116.997768</td>\n",
              "    </tr>\n",
              "    <tr>\n",
              "      <th>1</th>\n",
              "      <td>2017.01.02</td>\n",
              "      <td>3</td>\n",
              "      <td>117.325172</td>\n",
              "    </tr>\n",
              "    <tr>\n",
              "      <th>2</th>\n",
              "      <td>2017.01.02</td>\n",
              "      <td>4</td>\n",
              "      <td>117.401138</td>\n",
              "    </tr>\n",
              "    <tr>\n",
              "      <th>3</th>\n",
              "      <td>2017.01.02</td>\n",
              "      <td>5</td>\n",
              "      <td>117.403000</td>\n",
              "    </tr>\n",
              "    <tr>\n",
              "      <th>4</th>\n",
              "      <td>2017.01.02</td>\n",
              "      <td>6</td>\n",
              "      <td>117.356714</td>\n",
              "    </tr>\n",
              "  </tbody>\n",
              "</table>\n",
              "</div>"
            ],
            "text/plain": [
              "         Date  Hour       Close\n",
              "0  2017.01.02     2  116.997768\n",
              "1  2017.01.02     3  117.325172\n",
              "2  2017.01.02     4  117.401138\n",
              "3  2017.01.02     5  117.403000\n",
              "4  2017.01.02     6  117.356714"
            ]
          },
          "metadata": {
            "tags": []
          },
          "execution_count": 9
        }
      ]
    },
    {
      "cell_type": "code",
      "metadata": {
        "id": "YT8UzkOLpzrX",
        "colab_type": "code",
        "colab": {
          "base_uri": "https://localhost:8080/",
          "height": 34
        },
        "outputId": "78915a7d-2689-4184-85c4-643baa15863d"
      },
      "source": [
        "len(forex_agg)"
      ],
      "execution_count": 10,
      "outputs": [
        {
          "output_type": "execute_result",
          "data": {
            "text/plain": [
              "525"
            ]
          },
          "metadata": {
            "tags": []
          },
          "execution_count": 10
        }
      ]
    },
    {
      "cell_type": "code",
      "metadata": {
        "id": "pAKbfx0ap413",
        "colab_type": "code",
        "colab": {
          "base_uri": "https://localhost:8080/",
          "height": 34
        },
        "outputId": "8655c59f-a45a-475a-8308-02392c380a17"
      },
      "source": [
        "forex_agg.columns"
      ],
      "execution_count": 11,
      "outputs": [
        {
          "output_type": "execute_result",
          "data": {
            "text/plain": [
              "Index(['Date', 'Hour', 'Close'], dtype='object')"
            ]
          },
          "metadata": {
            "tags": []
          },
          "execution_count": 11
        }
      ]
    },
    {
      "cell_type": "code",
      "metadata": {
        "id": "0GHH7MGhp6rI",
        "colab_type": "code",
        "colab": {
          "base_uri": "https://localhost:8080/",
          "height": 608
        },
        "outputId": "6e9caf13-2cbd-4180-f678-d324f6570e66"
      },
      "source": [
        "plt.figure(figsize=(16,10))\n",
        "plt.xlabel('Time')\n",
        "plt.ylabel('USD-to-JPY')\n",
        "plt.plot(forex_agg['Close'])\n",
        "plt.show()"
      ],
      "execution_count": 12,
      "outputs": [
        {
          "output_type": "display_data",
          "data": {
            "image/png": "[encoded data removed]",
            "text/plain": [
              "<Figure size 1152x720 with 1 Axes>"
            ]
          },
          "metadata": {
            "tags": []
          }
        }
      ]
    },
    {
      "cell_type": "markdown",
      "metadata": {
        "id": "q6FD_wC2vNq1",
        "colab_type": "text"
      },
      "source": [
        "There is certainly a downtrend"
      ]
    },
    {
      "cell_type": "markdown",
      "metadata": {
        "id": "Fm-OiUFh37TK",
        "colab_type": "text"
      },
      "source": [
        "### Moving Average and RSI based Features"
      ]
    },
    {
      "cell_type": "code",
      "metadata": {
        "id": "qCKSJiiJ36qE",
        "colab_type": "code",
        "colab": {}
      },
      "source": [
        "for i in range(1, 7):\n",
        "    forex_agg['close_lag' + str(i)] = forex_agg['Close'].shift(i)"
      ],
      "execution_count": 13,
      "outputs": []
    },
    {
      "cell_type": "markdown",
      "metadata": {
        "id": "dRVz9nq95YYj",
        "colab_type": "text"
      },
      "source": [
        "\n",
        "Formula for RS = average gain over n periods/average loss over n periods\n",
        "\n",
        "RSI = 100 - (100/(1 + RS))"
      ]
    },
    {
      "cell_type": "code",
      "metadata": {
        "id": "Ty4N9lDO5mLO",
        "colab_type": "code",
        "colab": {
          "base_uri": "https://localhost:8080/",
          "height": 367
        },
        "outputId": "9cfb4651-ef4e-4ba4-dd92-5f04c41c63d8"
      },
      "source": [
        "for n in [6,12,18,24]:\n",
        "\n",
        "    # Create the moving average and divide by the close price to average it out\n",
        "    forex_agg['ma_' + str(n)] = talib.SMA(forex_agg['Close'].values,\n",
        "                              timeperiod=n) / forex_agg['Close']\n",
        "    # Create the RSI indicator\n",
        "    forex_agg['rsi_' + str(n)] = talib.RSI(forex_agg['Close'].values, timeperiod=n)\n",
        "forex_agg.head(10)"
      ],
      "execution_count": 14,
      "outputs": [
        {
          "output_type": "execute_result",
          "data": {
            "text/html": [
              "<div>\n",
              "<style scoped>\n",
              "    .dataframe tbody tr th:only-of-type {\n",
              "        vertical-align: middle;\n",
              "    }\n",
              "\n",
              "    .dataframe tbody tr th {\n",
              "        vertical-align: top;\n",
              "    }\n",
              "\n",
              "    .dataframe thead th {\n",
              "        text-align: right;\n",
              "    }\n",
              "</style>\n",
              "<table border=\"1\" class=\"dataframe\">\n",
              "  <thead>\n",
              "    <tr style=\"text-align: right;\">\n",
              "      <th></th>\n",
              "      <th>Date</th>\n",
              "      <th>Hour</th>\n",
              "      <th>Close</th>\n",
              "      <th>close_lag1</th>\n",
              "      <th>close_lag2</th>\n",
              "      <th>close_lag3</th>\n",
              "      <th>close_lag4</th>\n",
              "      <th>close_lag5</th>\n",
              "      <th>close_lag6</th>\n",
              "      <th>ma_6</th>\n",
              "      <th>rsi_6</th>\n",
              "      <th>ma_12</th>\n",
              "      <th>rsi_12</th>\n",
              "      <th>ma_18</th>\n",
              "      <th>rsi_18</th>\n",
              "      <th>ma_24</th>\n",
              "      <th>rsi_24</th>\n",
              "    </tr>\n",
              "  </thead>\n",
              "  <tbody>\n",
              "    <tr>\n",
              "      <th>0</th>\n",
              "      <td>2017.01.02</td>\n",
              "      <td>2</td>\n",
              "      <td>116.997768</td>\n",
              "      <td>NaN</td>\n",
              "      <td>NaN</td>\n",
              "      <td>NaN</td>\n",
              "      <td>NaN</td>\n",
              "      <td>NaN</td>\n",
              "      <td>NaN</td>\n",
              "      <td>NaN</td>\n",
              "      <td>NaN</td>\n",
              "      <td>NaN</td>\n",
              "      <td>NaN</td>\n",
              "      <td>NaN</td>\n",
              "      <td>NaN</td>\n",
              "      <td>NaN</td>\n",
              "      <td>NaN</td>\n",
              "    </tr>\n",
              "    <tr>\n",
              "      <th>1</th>\n",
              "      <td>2017.01.02</td>\n",
              "      <td>3</td>\n",
              "      <td>117.325172</td>\n",
              "      <td>116.997768</td>\n",
              "      <td>NaN</td>\n",
              "      <td>NaN</td>\n",
              "      <td>NaN</td>\n",
              "      <td>NaN</td>\n",
              "      <td>NaN</td>\n",
              "      <td>NaN</td>\n",
              "      <td>NaN</td>\n",
              "      <td>NaN</td>\n",
              "      <td>NaN</td>\n",
              "      <td>NaN</td>\n",
              "      <td>NaN</td>\n",
              "      <td>NaN</td>\n",
              "      <td>NaN</td>\n",
              "    </tr>\n",
              "    <tr>\n",
              "      <th>2</th>\n",
              "      <td>2017.01.02</td>\n",
              "      <td>4</td>\n",
              "      <td>117.401138</td>\n",
              "      <td>117.325172</td>\n",
              "      <td>116.997768</td>\n",
              "      <td>NaN</td>\n",
              "      <td>NaN</td>\n",
              "      <td>NaN</td>\n",
              "      <td>NaN</td>\n",
              "      <td>NaN</td>\n",
              "      <td>NaN</td>\n",
              "      <td>NaN</td>\n",
              "      <td>NaN</td>\n",
              "      <td>NaN</td>\n",
              "      <td>NaN</td>\n",
              "      <td>NaN</td>\n",
              "      <td>NaN</td>\n",
              "    </tr>\n",
              "    <tr>\n",
              "      <th>3</th>\n",
              "      <td>2017.01.02</td>\n",
              "      <td>5</td>\n",
              "      <td>117.403000</td>\n",
              "      <td>117.401138</td>\n",
              "      <td>117.325172</td>\n",
              "      <td>116.997768</td>\n",
              "      <td>NaN</td>\n",
              "      <td>NaN</td>\n",
              "      <td>NaN</td>\n",
              "      <td>NaN</td>\n",
              "      <td>NaN</td>\n",
              "      <td>NaN</td>\n",
              "      <td>NaN</td>\n",
              "      <td>NaN</td>\n",
              "      <td>NaN</td>\n",
              "      <td>NaN</td>\n",
              "      <td>NaN</td>\n",
              "    </tr>\n",
              "    <tr>\n",
              "      <th>4</th>\n",
              "      <td>2017.01.02</td>\n",
              "      <td>6</td>\n",
              "      <td>117.356714</td>\n",
              "      <td>117.403000</td>\n",
              "      <td>117.401138</td>\n",
              "      <td>117.325172</td>\n",
              "      <td>116.997768</td>\n",
              "      <td>NaN</td>\n",
              "      <td>NaN</td>\n",
              "      <td>NaN</td>\n",
              "      <td>NaN</td>\n",
              "      <td>NaN</td>\n",
              "      <td>NaN</td>\n",
              "      <td>NaN</td>\n",
              "      <td>NaN</td>\n",
              "      <td>NaN</td>\n",
              "      <td>NaN</td>\n",
              "    </tr>\n",
              "    <tr>\n",
              "      <th>5</th>\n",
              "      <td>2017.01.02</td>\n",
              "      <td>7</td>\n",
              "      <td>117.408610</td>\n",
              "      <td>117.356714</td>\n",
              "      <td>117.403000</td>\n",
              "      <td>117.401138</td>\n",
              "      <td>117.325172</td>\n",
              "      <td>116.997768</td>\n",
              "      <td>NaN</td>\n",
              "      <td>0.999206</td>\n",
              "      <td>NaN</td>\n",
              "      <td>NaN</td>\n",
              "      <td>NaN</td>\n",
              "      <td>NaN</td>\n",
              "      <td>NaN</td>\n",
              "      <td>NaN</td>\n",
              "      <td>NaN</td>\n",
              "    </tr>\n",
              "    <tr>\n",
              "      <th>6</th>\n",
              "      <td>2017.01.02</td>\n",
              "      <td>8</td>\n",
              "      <td>117.391678</td>\n",
              "      <td>117.408610</td>\n",
              "      <td>117.356714</td>\n",
              "      <td>117.403000</td>\n",
              "      <td>117.401138</td>\n",
              "      <td>117.325172</td>\n",
              "      <td>116.997768</td>\n",
              "      <td>0.999909</td>\n",
              "      <td>87.850791</td>\n",
              "      <td>NaN</td>\n",
              "      <td>NaN</td>\n",
              "      <td>NaN</td>\n",
              "      <td>NaN</td>\n",
              "      <td>NaN</td>\n",
              "      <td>NaN</td>\n",
              "    </tr>\n",
              "    <tr>\n",
              "      <th>7</th>\n",
              "      <td>2017.01.02</td>\n",
              "      <td>9</td>\n",
              "      <td>117.361983</td>\n",
              "      <td>117.391678</td>\n",
              "      <td>117.408610</td>\n",
              "      <td>117.356714</td>\n",
              "      <td>117.403000</td>\n",
              "      <td>117.401138</td>\n",
              "      <td>117.325172</td>\n",
              "      <td>1.000215</td>\n",
              "      <td>82.220302</td>\n",
              "      <td>NaN</td>\n",
              "      <td>NaN</td>\n",
              "      <td>NaN</td>\n",
              "      <td>NaN</td>\n",
              "      <td>NaN</td>\n",
              "      <td>NaN</td>\n",
              "    </tr>\n",
              "    <tr>\n",
              "      <th>8</th>\n",
              "      <td>2017.01.02</td>\n",
              "      <td>10</td>\n",
              "      <td>117.384917</td>\n",
              "      <td>117.361983</td>\n",
              "      <td>117.391678</td>\n",
              "      <td>117.408610</td>\n",
              "      <td>117.356714</td>\n",
              "      <td>117.403000</td>\n",
              "      <td>117.401138</td>\n",
              "      <td>0.999996</td>\n",
              "      <td>83.217167</td>\n",
              "      <td>NaN</td>\n",
              "      <td>NaN</td>\n",
              "      <td>NaN</td>\n",
              "      <td>NaN</td>\n",
              "      <td>NaN</td>\n",
              "      <td>NaN</td>\n",
              "    </tr>\n",
              "    <tr>\n",
              "      <th>9</th>\n",
              "      <td>2017.01.02</td>\n",
              "      <td>11</td>\n",
              "      <td>117.339186</td>\n",
              "      <td>117.384917</td>\n",
              "      <td>117.361983</td>\n",
              "      <td>117.391678</td>\n",
              "      <td>117.408610</td>\n",
              "      <td>117.356714</td>\n",
              "      <td>117.403000</td>\n",
              "      <td>1.000295</td>\n",
              "      <td>73.373269</td>\n",
              "      <td>NaN</td>\n",
              "      <td>NaN</td>\n",
              "      <td>NaN</td>\n",
              "      <td>NaN</td>\n",
              "      <td>NaN</td>\n",
              "      <td>NaN</td>\n",
              "    </tr>\n",
              "  </tbody>\n",
              "</table>\n",
              "</div>"
            ],
            "text/plain": [
              "         Date  Hour       Close  close_lag1  ...  ma_18  rsi_18  ma_24  rsi_24\n",
              "0  2017.01.02     2  116.997768         NaN  ...    NaN     NaN    NaN     NaN\n",
              "1  2017.01.02     3  117.325172  116.997768  ...    NaN     NaN    NaN     NaN\n",
              "2  2017.01.02     4  117.401138  117.325172  ...    NaN     NaN    NaN     NaN\n",
              "3  2017.01.02     5  117.403000  117.401138  ...    NaN     NaN    NaN     NaN\n",
              "4  2017.01.02     6  117.356714  117.403000  ...    NaN     NaN    NaN     NaN\n",
              "5  2017.01.02     7  117.408610  117.356714  ...    NaN     NaN    NaN     NaN\n",
              "6  2017.01.02     8  117.391678  117.408610  ...    NaN     NaN    NaN     NaN\n",
              "7  2017.01.02     9  117.361983  117.391678  ...    NaN     NaN    NaN     NaN\n",
              "8  2017.01.02    10  117.384917  117.361983  ...    NaN     NaN    NaN     NaN\n",
              "9  2017.01.02    11  117.339186  117.384917  ...    NaN     NaN    NaN     NaN\n",
              "\n",
              "[10 rows x 17 columns]"
            ]
          },
          "metadata": {
            "tags": []
          },
          "execution_count": 14
        }
      ]
    },
    {
      "cell_type": "code",
      "metadata": {
        "id": "8kNnRZfJ5p-A",
        "colab_type": "code",
        "colab": {
          "base_uri": "https://localhost:8080/",
          "height": 528
        },
        "outputId": "a6ed920a-adfa-4691-c185-85e4e5352512"
      },
      "source": [
        "plt.figure(figsize = (14,8))\n",
        "corr = forex_agg.drop(columns = ['Date','Hour']).corr()\n",
        "sbn.heatmap(data= corr, annot=True, cmap='YlGnBu')\n",
        "plt.show()"
      ],
      "execution_count": 15,
      "outputs": [
        {
          "output_type": "display_data",
          "data": {
            "image/png": "[encoded data removed]",
            "text/plain": [
              "<Figure size 1008x576 with 2 Axes>"
            ]
          },
          "metadata": {
            "tags": []
          }
        }
      ]
    },
    {
      "cell_type": "markdown",
      "metadata": {
        "id": "FrYRclF46Vzh",
        "colab_type": "text"
      },
      "source": [
        "### Data Cleaning and Outlier Detection"
      ]
    },
    {
      "cell_type": "markdown",
      "metadata": {
        "id": "fMVE6G0h6fv7",
        "colab_type": "text"
      },
      "source": [
        "Check for null or na on columns"
      ]
    },
    {
      "cell_type": "code",
      "metadata": {
        "id": "q90oZSj96b2U",
        "colab_type": "code",
        "colab": {
          "base_uri": "https://localhost:8080/",
          "height": 336
        },
        "outputId": "256569b7-5f03-4a2c-c220-55b70fb7f9d2"
      },
      "source": [
        "forex_agg.isna().sum()"
      ],
      "execution_count": 16,
      "outputs": [
        {
          "output_type": "execute_result",
          "data": {
            "text/plain": [
              "Date           0\n",
              "Hour           0\n",
              "Close          0\n",
              "close_lag1     1\n",
              "close_lag2     2\n",
              "close_lag3     3\n",
              "close_lag4     4\n",
              "close_lag5     5\n",
              "close_lag6     6\n",
              "ma_6           5\n",
              "rsi_6          6\n",
              "ma_12         11\n",
              "rsi_12        12\n",
              "ma_18         17\n",
              "rsi_18        18\n",
              "ma_24         23\n",
              "rsi_24        24\n",
              "dtype: int64"
            ]
          },
          "metadata": {
            "tags": []
          },
          "execution_count": 16
        }
      ]
    },
    {
      "cell_type": "code",
      "metadata": {
        "id": "GA0WCIvH6iAf",
        "colab_type": "code",
        "colab": {}
      },
      "source": [
        "forex_agg.fillna(forex_agg.mean(),inplace=True)"
      ],
      "execution_count": 17,
      "outputs": []
    },
    {
      "cell_type": "code",
      "metadata": {
        "id": "CK1xKZ7E7KO1",
        "colab_type": "code",
        "colab": {
          "base_uri": "https://localhost:8080/",
          "height": 336
        },
        "outputId": "8db73d34-ab5c-4f48-c705-2047badd8249"
      },
      "source": [
        "forex_agg.isna().sum()"
      ],
      "execution_count": 18,
      "outputs": [
        {
          "output_type": "execute_result",
          "data": {
            "text/plain": [
              "Date          0\n",
              "Hour          0\n",
              "Close         0\n",
              "close_lag1    0\n",
              "close_lag2    0\n",
              "close_lag3    0\n",
              "close_lag4    0\n",
              "close_lag5    0\n",
              "close_lag6    0\n",
              "ma_6          0\n",
              "rsi_6         0\n",
              "ma_12         0\n",
              "rsi_12        0\n",
              "ma_18         0\n",
              "rsi_18        0\n",
              "ma_24         0\n",
              "rsi_24        0\n",
              "dtype: int64"
            ]
          },
          "metadata": {
            "tags": []
          },
          "execution_count": 18
        }
      ]
    },
    {
      "cell_type": "code",
      "metadata": {
        "id": "S31soFN47Lqf",
        "colab_type": "code",
        "colab": {
          "base_uri": "https://localhost:8080/",
          "height": 52
        },
        "outputId": "fea471d2-944a-4b57-8791-5d09d37dc659"
      },
      "source": [
        "# Computing IQR\n",
        "Q1 = forex_agg[[\"Close\"]].quantile(0.25)\n",
        "Q3 = forex_agg[[\"Close\"]].quantile(0.75)\n",
        "IQR = Q3 - Q1\n",
        "print(IQR)"
      ],
      "execution_count": 19,
      "outputs": [
        {
          "output_type": "stream",
          "text": [
            "Close    2.2943\n",
            "dtype: float64\n"
          ],
          "name": "stdout"
        }
      ]
    },
    {
      "cell_type": "code",
      "metadata": {
        "id": "9Qk5uHO97N_M",
        "colab_type": "code",
        "colab": {
          "base_uri": "https://localhost:8080/",
          "height": 300
        },
        "outputId": "89449878-cb7c-4b33-a355-7b2e1cb09ed0"
      },
      "source": [
        "sbn.boxplot(\"Close\", data=forex_agg)"
      ],
      "execution_count": 20,
      "outputs": [
        {
          "output_type": "execute_result",
          "data": {
            "text/plain": [
              "<matplotlib.axes._subplots.AxesSubplot at 0x7fdc55a20390>"
            ]
          },
          "metadata": {
            "tags": []
          },
          "execution_count": 20
        },
        {
          "output_type": "display_data",
          "data": {
            "image/png": "[encoded data removed]",
            "text/plain": [
              "<Figure size 432x288 with 1 Axes>"
            ]
          },
          "metadata": {
            "tags": []
          }
        }
      ]
    },
    {
      "cell_type": "code",
      "metadata": {
        "id": "e13-Jsay7SDU",
        "colab_type": "code",
        "colab": {
          "base_uri": "https://localhost:8080/",
          "height": 34
        },
        "outputId": "937309d4-41b2-40d5-d67a-ddf803c9b6d7"
      },
      "source": [
        "len(forex_agg[forex_agg.Close > Q3['Close'] + 1.5*IQR[0]]) * 100/len(forex_agg)"
      ],
      "execution_count": 21,
      "outputs": [
        {
          "output_type": "execute_result",
          "data": {
            "text/plain": [
              "0.0"
            ]
          },
          "metadata": {
            "tags": []
          },
          "execution_count": 21
        }
      ]
    },
    {
      "cell_type": "code",
      "metadata": {
        "id": "D97B6eHW7UbR",
        "colab_type": "code",
        "colab": {
          "base_uri": "https://localhost:8080/",
          "height": 34
        },
        "outputId": "c9580e9f-2be3-4982-ec23-0a76f386a659"
      },
      "source": [
        "len(forex_agg[forex_agg.Close < Q1['Close'] - 1.5*IQR[0]]) * 100/len(forex_agg)"
      ],
      "execution_count": 22,
      "outputs": [
        {
          "output_type": "execute_result",
          "data": {
            "text/plain": [
              "0.0"
            ]
          },
          "metadata": {
            "tags": []
          },
          "execution_count": 22
        }
      ]
    },
    {
      "cell_type": "markdown",
      "metadata": {
        "id": "UPBzju8x7ZOQ",
        "colab_type": "text"
      },
      "source": [
        "There are no outliers"
      ]
    },
    {
      "cell_type": "markdown",
      "metadata": {
        "id": "9Myd6yWz7a3h",
        "colab_type": "text"
      },
      "source": [
        "## Build the linear regression model"
      ]
    },
    {
      "cell_type": "code",
      "metadata": {
        "id": "KtTvsnK67WoK",
        "colab_type": "code",
        "colab": {}
      },
      "source": [
        "from sklearn.model_selection import train_test_split"
      ],
      "execution_count": 23,
      "outputs": []
    },
    {
      "cell_type": "markdown",
      "metadata": {
        "id": "vvo21p6v7efH",
        "colab_type": "text"
      },
      "source": [
        "\n",
        "Dropping time columns as they do not have significance as a driver for closing price."
      ]
    },
    {
      "cell_type": "code",
      "metadata": {
        "id": "zrj0bUpT7c_9",
        "colab_type": "code",
        "colab": {}
      },
      "source": [
        "forex_final = forex_agg.drop(columns = [\"Date\",\"Hour\"], axis = 1)"
      ],
      "execution_count": 24,
      "outputs": []
    },
    {
      "cell_type": "code",
      "metadata": {
        "id": "6GsnN9QW7gtU",
        "colab_type": "code",
        "colab": {
          "base_uri": "https://localhost:8080/",
          "height": 217
        },
        "outputId": "2262ab37-8b92-4d63-edd9-407a9bc3a039"
      },
      "source": [
        "forex_final.head()"
      ],
      "execution_count": 25,
      "outputs": [
        {
          "output_type": "execute_result",
          "data": {
            "text/html": [
              "<div>\n",
              "<style scoped>\n",
              "    .dataframe tbody tr th:only-of-type {\n",
              "        vertical-align: middle;\n",
              "    }\n",
              "\n",
              "    .dataframe tbody tr th {\n",
              "        vertical-align: top;\n",
              "    }\n",
              "\n",
              "    .dataframe thead th {\n",
              "        text-align: right;\n",
              "    }\n",
              "</style>\n",
              "<table border=\"1\" class=\"dataframe\">\n",
              "  <thead>\n",
              "    <tr style=\"text-align: right;\">\n",
              "      <th></th>\n",
              "      <th>Close</th>\n",
              "      <th>close_lag1</th>\n",
              "      <th>close_lag2</th>\n",
              "      <th>close_lag3</th>\n",
              "      <th>close_lag4</th>\n",
              "      <th>close_lag5</th>\n",
              "      <th>close_lag6</th>\n",
              "      <th>ma_6</th>\n",
              "      <th>rsi_6</th>\n",
              "      <th>ma_12</th>\n",
              "      <th>rsi_12</th>\n",
              "      <th>ma_18</th>\n",
              "      <th>rsi_18</th>\n",
              "      <th>ma_24</th>\n",
              "      <th>rsi_24</th>\n",
              "    </tr>\n",
              "  </thead>\n",
              "  <tbody>\n",
              "    <tr>\n",
              "      <th>0</th>\n",
              "      <td>116.997768</td>\n",
              "      <td>114.959874</td>\n",
              "      <td>114.963539</td>\n",
              "      <td>114.967309</td>\n",
              "      <td>114.971227</td>\n",
              "      <td>114.975556</td>\n",
              "      <td>114.979731</td>\n",
              "      <td>1.000184</td>\n",
              "      <td>48.969754</td>\n",
              "      <td>1.00042</td>\n",
              "      <td>48.274891</td>\n",
              "      <td>1.00067</td>\n",
              "      <td>47.959718</td>\n",
              "      <td>1.000896</td>\n",
              "      <td>47.79035</td>\n",
              "    </tr>\n",
              "    <tr>\n",
              "      <th>1</th>\n",
              "      <td>117.325172</td>\n",
              "      <td>116.997768</td>\n",
              "      <td>114.963539</td>\n",
              "      <td>114.967309</td>\n",
              "      <td>114.971227</td>\n",
              "      <td>114.975556</td>\n",
              "      <td>114.979731</td>\n",
              "      <td>1.000184</td>\n",
              "      <td>48.969754</td>\n",
              "      <td>1.00042</td>\n",
              "      <td>48.274891</td>\n",
              "      <td>1.00067</td>\n",
              "      <td>47.959718</td>\n",
              "      <td>1.000896</td>\n",
              "      <td>47.79035</td>\n",
              "    </tr>\n",
              "    <tr>\n",
              "      <th>2</th>\n",
              "      <td>117.401138</td>\n",
              "      <td>117.325172</td>\n",
              "      <td>116.997768</td>\n",
              "      <td>114.967309</td>\n",
              "      <td>114.971227</td>\n",
              "      <td>114.975556</td>\n",
              "      <td>114.979731</td>\n",
              "      <td>1.000184</td>\n",
              "      <td>48.969754</td>\n",
              "      <td>1.00042</td>\n",
              "      <td>48.274891</td>\n",
              "      <td>1.00067</td>\n",
              "      <td>47.959718</td>\n",
              "      <td>1.000896</td>\n",
              "      <td>47.79035</td>\n",
              "    </tr>\n",
              "    <tr>\n",
              "      <th>3</th>\n",
              "      <td>117.403000</td>\n",
              "      <td>117.401138</td>\n",
              "      <td>117.325172</td>\n",
              "      <td>116.997768</td>\n",
              "      <td>114.971227</td>\n",
              "      <td>114.975556</td>\n",
              "      <td>114.979731</td>\n",
              "      <td>1.000184</td>\n",
              "      <td>48.969754</td>\n",
              "      <td>1.00042</td>\n",
              "      <td>48.274891</td>\n",
              "      <td>1.00067</td>\n",
              "      <td>47.959718</td>\n",
              "      <td>1.000896</td>\n",
              "      <td>47.79035</td>\n",
              "    </tr>\n",
              "    <tr>\n",
              "      <th>4</th>\n",
              "      <td>117.356714</td>\n",
              "      <td>117.403000</td>\n",
              "      <td>117.401138</td>\n",
              "      <td>117.325172</td>\n",
              "      <td>116.997768</td>\n",
              "      <td>114.975556</td>\n",
              "      <td>114.979731</td>\n",
              "      <td>1.000184</td>\n",
              "      <td>48.969754</td>\n",
              "      <td>1.00042</td>\n",
              "      <td>48.274891</td>\n",
              "      <td>1.00067</td>\n",
              "      <td>47.959718</td>\n",
              "      <td>1.000896</td>\n",
              "      <td>47.79035</td>\n",
              "    </tr>\n",
              "  </tbody>\n",
              "</table>\n",
              "</div>"
            ],
            "text/plain": [
              "        Close  close_lag1  close_lag2  ...     rsi_18     ma_24    rsi_24\n",
              "0  116.997768  114.959874  114.963539  ...  47.959718  1.000896  47.79035\n",
              "1  117.325172  116.997768  114.963539  ...  47.959718  1.000896  47.79035\n",
              "2  117.401138  117.325172  116.997768  ...  47.959718  1.000896  47.79035\n",
              "3  117.403000  117.401138  117.325172  ...  47.959718  1.000896  47.79035\n",
              "4  117.356714  117.403000  117.401138  ...  47.959718  1.000896  47.79035\n",
              "\n",
              "[5 rows x 15 columns]"
            ]
          },
          "metadata": {
            "tags": []
          },
          "execution_count": 25
        }
      ]
    },
    {
      "cell_type": "markdown",
      "metadata": {
        "id": "g9ydlh-y7pDT",
        "colab_type": "text"
      },
      "source": [
        "\n",
        "Normalise the data"
      ]
    },
    {
      "cell_type": "code",
      "metadata": {
        "id": "cOD7yfPj7hyU",
        "colab_type": "code",
        "colab": {}
      },
      "source": [
        "forex_n = forex_final.loc[:, forex_final.columns != 'Close']"
      ],
      "execution_count": 26,
      "outputs": []
    },
    {
      "cell_type": "code",
      "metadata": {
        "id": "Qxz1if677qbZ",
        "colab_type": "code",
        "colab": {}
      },
      "source": [
        "forex_n = (forex_n - forex_n.mean()) / forex_n.std()"
      ],
      "execution_count": 27,
      "outputs": []
    },
    {
      "cell_type": "code",
      "metadata": {
        "id": "RviiGRbJ7rnR",
        "colab_type": "code",
        "colab": {}
      },
      "source": [
        "forex_m = pd.concat([forex_n,forex_final.loc[:,'Close']],axis=1)"
      ],
      "execution_count": 28,
      "outputs": []
    },
    {
      "cell_type": "code",
      "metadata": {
        "id": "YEr_zTQw7s3t",
        "colab_type": "code",
        "colab": {
          "base_uri": "https://localhost:8080/",
          "height": 301
        },
        "outputId": "4373f7e2-8801-4d33-a26f-7796eb46585b"
      },
      "source": [
        "forex_m.head()"
      ],
      "execution_count": 29,
      "outputs": [
        {
          "output_type": "execute_result",
          "data": {
            "text/html": [
              "<div>\n",
              "<style scoped>\n",
              "    .dataframe tbody tr th:only-of-type {\n",
              "        vertical-align: middle;\n",
              "    }\n",
              "\n",
              "    .dataframe tbody tr th {\n",
              "        vertical-align: top;\n",
              "    }\n",
              "\n",
              "    .dataframe thead th {\n",
              "        text-align: right;\n",
              "    }\n",
              "</style>\n",
              "<table border=\"1\" class=\"dataframe\">\n",
              "  <thead>\n",
              "    <tr style=\"text-align: right;\">\n",
              "      <th></th>\n",
              "      <th>close_lag1</th>\n",
              "      <th>close_lag2</th>\n",
              "      <th>close_lag3</th>\n",
              "      <th>close_lag4</th>\n",
              "      <th>close_lag5</th>\n",
              "      <th>close_lag6</th>\n",
              "      <th>ma_6</th>\n",
              "      <th>rsi_6</th>\n",
              "      <th>ma_12</th>\n",
              "      <th>rsi_12</th>\n",
              "      <th>ma_18</th>\n",
              "      <th>rsi_18</th>\n",
              "      <th>ma_24</th>\n",
              "      <th>rsi_24</th>\n",
              "      <th>Close</th>\n",
              "    </tr>\n",
              "  </thead>\n",
              "  <tbody>\n",
              "    <tr>\n",
              "      <th>0</th>\n",
              "      <td>-1.917938e-14</td>\n",
              "      <td>-9.605073e-15</td>\n",
              "      <td>-1.924272e-14</td>\n",
              "      <td>-9.638977e-15</td>\n",
              "      <td>-9.660532e-15</td>\n",
              "      <td>-9.680626e-15</td>\n",
              "      <td>-1.148807e-13</td>\n",
              "      <td>3.216946e-16</td>\n",
              "      <td>7.415790e-14</td>\n",
              "      <td>0.0</td>\n",
              "      <td>5.881970e-14</td>\n",
              "      <td>1.097671e-15</td>\n",
              "      <td>4.916944e-14</td>\n",
              "      <td>0.0</td>\n",
              "      <td>116.997768</td>\n",
              "    </tr>\n",
              "    <tr>\n",
              "      <th>1</th>\n",
              "      <td>1.375201e+00</td>\n",
              "      <td>-9.605073e-15</td>\n",
              "      <td>-1.924272e-14</td>\n",
              "      <td>-9.638977e-15</td>\n",
              "      <td>-9.660532e-15</td>\n",
              "      <td>-9.680626e-15</td>\n",
              "      <td>-1.148807e-13</td>\n",
              "      <td>3.216946e-16</td>\n",
              "      <td>7.415790e-14</td>\n",
              "      <td>0.0</td>\n",
              "      <td>5.881970e-14</td>\n",
              "      <td>1.097671e-15</td>\n",
              "      <td>4.916944e-14</td>\n",
              "      <td>0.0</td>\n",
              "      <td>117.325172</td>\n",
              "    </tr>\n",
              "    <tr>\n",
              "      <th>2</th>\n",
              "      <td>1.596138e+00</td>\n",
              "      <td>1.374929e+00</td>\n",
              "      <td>-1.924272e-14</td>\n",
              "      <td>-9.638977e-15</td>\n",
              "      <td>-9.660532e-15</td>\n",
              "      <td>-9.680626e-15</td>\n",
              "      <td>-1.148807e-13</td>\n",
              "      <td>3.216946e-16</td>\n",
              "      <td>7.415790e-14</td>\n",
              "      <td>0.0</td>\n",
              "      <td>5.881970e-14</td>\n",
              "      <td>1.097671e-15</td>\n",
              "      <td>4.916944e-14</td>\n",
              "      <td>0.0</td>\n",
              "      <td>117.401138</td>\n",
              "    </tr>\n",
              "    <tr>\n",
              "      <th>3</th>\n",
              "      <td>1.647400e+00</td>\n",
              "      <td>1.596220e+00</td>\n",
              "      <td>1.374708e+00</td>\n",
              "      <td>-9.638977e-15</td>\n",
              "      <td>-9.660532e-15</td>\n",
              "      <td>-9.680626e-15</td>\n",
              "      <td>-1.148807e-13</td>\n",
              "      <td>3.216946e-16</td>\n",
              "      <td>7.415790e-14</td>\n",
              "      <td>0.0</td>\n",
              "      <td>5.881970e-14</td>\n",
              "      <td>1.097671e-15</td>\n",
              "      <td>4.916944e-14</td>\n",
              "      <td>0.0</td>\n",
              "      <td>117.403000</td>\n",
              "    </tr>\n",
              "    <tr>\n",
              "      <th>4</th>\n",
              "      <td>1.648657e+00</td>\n",
              "      <td>1.647565e+00</td>\n",
              "      <td>1.596375e+00</td>\n",
              "      <td>1.374567e+00</td>\n",
              "      <td>-9.660532e-15</td>\n",
              "      <td>-9.680626e-15</td>\n",
              "      <td>-1.148807e-13</td>\n",
              "      <td>3.216946e-16</td>\n",
              "      <td>7.415790e-14</td>\n",
              "      <td>0.0</td>\n",
              "      <td>5.881970e-14</td>\n",
              "      <td>1.097671e-15</td>\n",
              "      <td>4.916944e-14</td>\n",
              "      <td>0.0</td>\n",
              "      <td>117.356714</td>\n",
              "    </tr>\n",
              "  </tbody>\n",
              "</table>\n",
              "</div>"
            ],
            "text/plain": [
              "     close_lag1    close_lag2    close_lag3  ...         ma_24  rsi_24       Close\n",
              "0 -1.917938e-14 -9.605073e-15 -1.924272e-14  ...  4.916944e-14     0.0  116.997768\n",
              "1  1.375201e+00 -9.605073e-15 -1.924272e-14  ...  4.916944e-14     0.0  117.325172\n",
              "2  1.596138e+00  1.374929e+00 -1.924272e-14  ...  4.916944e-14     0.0  117.401138\n",
              "3  1.647400e+00  1.596220e+00  1.374708e+00  ...  4.916944e-14     0.0  117.403000\n",
              "4  1.648657e+00  1.647565e+00  1.596375e+00  ...  4.916944e-14     0.0  117.356714\n",
              "\n",
              "[5 rows x 15 columns]"
            ]
          },
          "metadata": {
            "tags": []
          },
          "execution_count": 29
        }
      ]
    },
    {
      "cell_type": "code",
      "metadata": {
        "id": "5Ev5IebI7t-M",
        "colab_type": "code",
        "colab": {}
      },
      "source": [
        "X = forex_m.loc[:, forex_m.columns != 'Close']\n",
        "Y = forex_m['Close']"
      ],
      "execution_count": 30,
      "outputs": []
    },
    {
      "cell_type": "code",
      "metadata": {
        "id": "PH-AEigV7w7A",
        "colab_type": "code",
        "colab": {}
      },
      "source": [
        "X_train, X_test, Y_train, Y_test = train_test_split(X,Y,random_state=42, test_size=0.2)"
      ],
      "execution_count": 31,
      "outputs": []
    },
    {
      "cell_type": "code",
      "metadata": {
        "id": "6-krpdqr7yek",
        "colab_type": "code",
        "colab": {
          "base_uri": "https://localhost:8080/",
          "height": 87
        },
        "outputId": "287d04f8-3d4c-468e-c18e-51ee9a8812b9"
      },
      "source": [
        "print(\"Length Of training data \", len(X_train))\n",
        "print(\"Length Of test data \", len(X_test))\n",
        "print(\"Length Of training Y \", len(Y_train))\n",
        "print(\"Length Of test data Y\", len(Y_test))"
      ],
      "execution_count": 32,
      "outputs": [
        {
          "output_type": "stream",
          "text": [
            "Length Of training data  420\n",
            "Length Of test data  105\n",
            "Length Of training Y  420\n",
            "Length Of test data Y 105\n"
          ],
          "name": "stdout"
        }
      ]
    },
    {
      "cell_type": "code",
      "metadata": {
        "id": "BZWqrEM270cN",
        "colab_type": "code",
        "colab": {}
      },
      "source": [
        "def linear_reg(y_train, X_train, isSummary=False):\n",
        "    # Add a bias column to the training dataset before fitting the model\n",
        "    X_train = sm.tools.tools.add_constant(X_train, has_constant='add')\n",
        "    lm_1 = OLS(y_train,X_train).fit()\n",
        "    \n",
        "    if isSummary:\n",
        "        #Visualise the results of the model\n",
        "        print(lm_1.summary())\n",
        "    return lm_1"
      ],
      "execution_count": 33,
      "outputs": []
    },
    {
      "cell_type": "code",
      "metadata": {
        "id": "paERw9uY78ph",
        "colab_type": "code",
        "colab": {
          "base_uri": "https://localhost:8080/",
          "height": 692
        },
        "outputId": "d53ba53f-9e07-492f-fb0b-c2e10e2b3a3e"
      },
      "source": [
        "mod = linear_reg(Y_train, X_train, isSummary=True)"
      ],
      "execution_count": 34,
      "outputs": [
        {
          "output_type": "stream",
          "text": [
            "                            OLS Regression Results                            \n",
            "==============================================================================\n",
            "Dep. Variable:                  Close   R-squared:                       0.997\n",
            "Model:                            OLS   Adj. R-squared:                  0.997\n",
            "Method:                 Least Squares   F-statistic:                 1.079e+04\n",
            "Date:                Mon, 03 Aug 2020   Prob (F-statistic):               0.00\n",
            "Time:                        16:17:31   Log-Likelihood:                 485.35\n",
            "No. Observations:                 420   AIC:                            -940.7\n",
            "Df Residuals:                     405   BIC:                            -880.1\n",
            "Df Model:                          14                                         \n",
            "Covariance Type:            nonrobust                                         \n",
            "==============================================================================\n",
            "                 coef    std err          t      P>|t|      [0.025      0.975]\n",
            "------------------------------------------------------------------------------\n",
            "const        114.9521      0.004   3.03e+04      0.000     114.945     114.960\n",
            "close_lag1     1.0466      0.038     27.647      0.000       0.972       1.121\n",
            "close_lag2    -0.2179      0.049     -4.444      0.000      -0.314      -0.122\n",
            "close_lag3     0.4425      0.053      8.303      0.000       0.338       0.547\n",
            "close_lag4     0.1315      0.047      2.787      0.006       0.039       0.224\n",
            "close_lag5     0.1464      0.047      3.088      0.002       0.053       0.240\n",
            "close_lag6    -0.0641      0.035     -1.826      0.069      -0.133       0.005\n",
            "ma_6          -0.2380      0.011    -21.844      0.000      -0.259      -0.217\n",
            "rsi_6         -0.0064      0.017     -0.368      0.713      -0.041       0.028\n",
            "ma_12          0.0831      0.024      3.405      0.001       0.035       0.131\n",
            "rsi_12         0.0028      0.024      0.115      0.909      -0.045       0.051\n",
            "ma_18         -0.0619      0.036     -1.699      0.090      -0.134       0.010\n",
            "rsi_18        -0.0071      0.030     -0.233      0.816      -0.067       0.053\n",
            "ma_24          0.0235      0.028      0.829      0.407      -0.032       0.079\n",
            "rsi_24         0.0013      0.022      0.058      0.954      -0.041       0.044\n",
            "==============================================================================\n",
            "Omnibus:                      475.918   Durbin-Watson:                   1.984\n",
            "Prob(Omnibus):                  0.000   Jarque-Bera (JB):            54951.534\n",
            "Skew:                           4.859   Prob(JB):                         0.00\n",
            "Kurtosis:                      58.187   Cond. No.                         52.9\n",
            "==============================================================================\n",
            "\n",
            "Warnings:\n",
            "[1] Standard Errors assume that the covariance matrix of the errors is correctly specified.\n"
          ],
          "name": "stdout"
        }
      ]
    },
    {
      "cell_type": "markdown",
      "metadata": {
        "id": "Yijxgdu8B8gk",
        "colab_type": "text"
      },
      "source": [
        "## The Testing significance of metrics by using p-value and VIF"
      ]
    },
    {
      "cell_type": "markdown",
      "metadata": {
        "id": "mcGevE9TCI3f",
        "colab_type": "text"
      },
      "source": [
        "Variance inflation factor"
      ]
    },
    {
      "cell_type": "code",
      "metadata": {
        "id": "px7vAh2zB_o4",
        "colab_type": "code",
        "colab": {}
      },
      "source": [
        "def vif_cal(input_df):\n",
        "    vif_df = pd.DataFrame(columns = [ 'Var', 'Vif']);\n",
        "    i=0\n",
        "    for var in input_df:\n",
        "        y_vars = input_df[var]\n",
        "        x_vars = input_df.drop(var, inplace=False, axis=1)\n",
        "        r2s = OLS(y_vars, x_vars).fit().rsquared\n",
        "        vif = round(1/(1-r2s),2)\n",
        "        vif_df.loc[i] = [var,vif]\n",
        "        i+=1\n",
        "    return vif_df.sort_values(by = 'Vif', ascending = False, inplace = False)"
      ],
      "execution_count": 35,
      "outputs": []
    },
    {
      "cell_type": "code",
      "metadata": {
        "id": "Wc2qq-GICB0M",
        "colab_type": "code",
        "colab": {
          "base_uri": "https://localhost:8080/",
          "height": 467
        },
        "outputId": "1ea30398-16d0-4fb6-b455-7adac812f4aa"
      },
      "source": [
        "vif_cal(X_train)"
      ],
      "execution_count": 36,
      "outputs": [
        {
          "output_type": "execute_result",
          "data": {
            "text/html": [
              "<div>\n",
              "<style scoped>\n",
              "    .dataframe tbody tr th:only-of-type {\n",
              "        vertical-align: middle;\n",
              "    }\n",
              "\n",
              "    .dataframe tbody tr th {\n",
              "        vertical-align: top;\n",
              "    }\n",
              "\n",
              "    .dataframe thead th {\n",
              "        text-align: right;\n",
              "    }\n",
              "</style>\n",
              "<table border=\"1\" class=\"dataframe\">\n",
              "  <thead>\n",
              "    <tr style=\"text-align: right;\">\n",
              "      <th></th>\n",
              "      <th>Var</th>\n",
              "      <th>Vif</th>\n",
              "    </tr>\n",
              "  </thead>\n",
              "  <tbody>\n",
              "    <tr>\n",
              "      <th>2</th>\n",
              "      <td>close_lag3</td>\n",
              "      <td>195.31</td>\n",
              "    </tr>\n",
              "    <tr>\n",
              "      <th>1</th>\n",
              "      <td>close_lag2</td>\n",
              "      <td>164.39</td>\n",
              "    </tr>\n",
              "    <tr>\n",
              "      <th>4</th>\n",
              "      <td>close_lag5</td>\n",
              "      <td>152.84</td>\n",
              "    </tr>\n",
              "    <tr>\n",
              "      <th>3</th>\n",
              "      <td>close_lag4</td>\n",
              "      <td>151.11</td>\n",
              "    </tr>\n",
              "    <tr>\n",
              "      <th>0</th>\n",
              "      <td>close_lag1</td>\n",
              "      <td>97.54</td>\n",
              "    </tr>\n",
              "    <tr>\n",
              "      <th>10</th>\n",
              "      <td>ma_18</td>\n",
              "      <td>95.65</td>\n",
              "    </tr>\n",
              "    <tr>\n",
              "      <th>5</th>\n",
              "      <td>close_lag6</td>\n",
              "      <td>83.42</td>\n",
              "    </tr>\n",
              "    <tr>\n",
              "      <th>11</th>\n",
              "      <td>rsi_18</td>\n",
              "      <td>66.89</td>\n",
              "    </tr>\n",
              "    <tr>\n",
              "      <th>12</th>\n",
              "      <td>ma_24</td>\n",
              "      <td>58.22</td>\n",
              "    </tr>\n",
              "    <tr>\n",
              "      <th>9</th>\n",
              "      <td>rsi_12</td>\n",
              "      <td>43.20</td>\n",
              "    </tr>\n",
              "    <tr>\n",
              "      <th>8</th>\n",
              "      <td>ma_12</td>\n",
              "      <td>42.47</td>\n",
              "    </tr>\n",
              "    <tr>\n",
              "      <th>13</th>\n",
              "      <td>rsi_24</td>\n",
              "      <td>34.03</td>\n",
              "    </tr>\n",
              "    <tr>\n",
              "      <th>7</th>\n",
              "      <td>rsi_6</td>\n",
              "      <td>21.71</td>\n",
              "    </tr>\n",
              "    <tr>\n",
              "      <th>6</th>\n",
              "      <td>ma_6</td>\n",
              "      <td>8.38</td>\n",
              "    </tr>\n",
              "  </tbody>\n",
              "</table>\n",
              "</div>"
            ],
            "text/plain": [
              "           Var     Vif\n",
              "2   close_lag3  195.31\n",
              "1   close_lag2  164.39\n",
              "4   close_lag5  152.84\n",
              "3   close_lag4  151.11\n",
              "0   close_lag1   97.54\n",
              "10       ma_18   95.65\n",
              "5   close_lag6   83.42\n",
              "11      rsi_18   66.89\n",
              "12       ma_24   58.22\n",
              "9       rsi_12   43.20\n",
              "8        ma_12   42.47\n",
              "13      rsi_24   34.03\n",
              "7        rsi_6   21.71\n",
              "6         ma_6    8.38"
            ]
          },
          "metadata": {
            "tags": []
          },
          "execution_count": 36
        }
      ]
    },
    {
      "cell_type": "markdown",
      "metadata": {
        "id": "fmWydkrVBzPt",
        "colab_type": "text"
      },
      "source": [
        "## Hyperparameter tuning and final model selection"
      ]
    },
    {
      "cell_type": "code",
      "metadata": {
        "id": "4PG4yZqS7-of",
        "colab_type": "code",
        "colab": {}
      },
      "source": [
        "X_t_1 = X_train.drop(columns=[\"close_lag3\"],axis=1)"
      ],
      "execution_count": 37,
      "outputs": []
    },
    {
      "cell_type": "code",
      "metadata": {
        "id": "j_Qq8txpCPyF",
        "colab_type": "code",
        "colab": {
          "base_uri": "https://localhost:8080/",
          "height": 692
        },
        "outputId": "1c78a92e-6e8c-4d6d-f62b-0bb94909e463"
      },
      "source": [
        "linear_reg(Y_train,X_t_1,isSummary=True)"
      ],
      "execution_count": 38,
      "outputs": [
        {
          "output_type": "stream",
          "text": [
            "                            OLS Regression Results                            \n",
            "==============================================================================\n",
            "Dep. Variable:                  Close   R-squared:                       0.997\n",
            "Model:                            OLS   Adj. R-squared:                  0.997\n",
            "Method:                 Least Squares   F-statistic:                     9947.\n",
            "Date:                Mon, 03 Aug 2020   Prob (F-statistic):               0.00\n",
            "Time:                        16:17:31   Log-Likelihood:                 452.33\n",
            "No. Observations:                 420   AIC:                            -876.7\n",
            "Df Residuals:                     406   BIC:                            -820.1\n",
            "Df Model:                          13                                         \n",
            "Covariance Type:            nonrobust                                         \n",
            "==============================================================================\n",
            "                 coef    std err          t      P>|t|      [0.025      0.975]\n",
            "------------------------------------------------------------------------------\n",
            "const        114.9523      0.004    2.8e+04      0.000     114.944     114.960\n",
            "close_lag1     1.0648      0.041     26.076      0.000       0.984       1.145\n",
            "close_lag2     0.0255      0.042      0.599      0.549      -0.058       0.109\n",
            "close_lag4     0.3515      0.042      8.333      0.000       0.269       0.434\n",
            "close_lag5     0.0993      0.051      1.952      0.052      -0.001       0.199\n",
            "close_lag6    -0.0542      0.038     -1.430      0.153      -0.129       0.020\n",
            "ma_6          -0.2291      0.012    -19.560      0.000      -0.252      -0.206\n",
            "rsi_6         -0.0028      0.019     -0.151      0.880      -0.040       0.034\n",
            "ma_12          0.0861      0.026      3.264      0.001       0.034       0.138\n",
            "rsi_12         0.0016      0.026      0.061      0.951      -0.050       0.053\n",
            "ma_18         -0.0597      0.039     -1.517      0.130      -0.137       0.018\n",
            "rsi_18        -0.0072      0.033     -0.219      0.826      -0.072       0.057\n",
            "ma_24          0.0200      0.031      0.655      0.513      -0.040       0.080\n",
            "rsi_24         0.0018      0.023      0.076      0.940      -0.044       0.048\n",
            "==============================================================================\n",
            "Omnibus:                      432.106   Durbin-Watson:                   1.941\n",
            "Prob(Omnibus):                  0.000   Jarque-Bera (JB):            33321.013\n",
            "Skew:                           4.247   Prob(JB):                         0.00\n",
            "Kurtosis:                      45.801   Cond. No.                         43.6\n",
            "==============================================================================\n",
            "\n",
            "Warnings:\n",
            "[1] Standard Errors assume that the covariance matrix of the errors is correctly specified.\n"
          ],
          "name": "stdout"
        },
        {
          "output_type": "execute_result",
          "data": {
            "text/plain": [
              "<statsmodels.regression.linear_model.RegressionResultsWrapper at 0x7fdc54111588>"
            ]
          },
          "metadata": {
            "tags": []
          },
          "execution_count": 38
        }
      ]
    },
    {
      "cell_type": "code",
      "metadata": {
        "id": "FB_24CddCRnk",
        "colab_type": "code",
        "colab": {
          "base_uri": "https://localhost:8080/",
          "height": 437
        },
        "outputId": "ea874fd4-14c5-4653-eab7-9cca910d1562"
      },
      "source": [
        "vif_cal(X_t_1)"
      ],
      "execution_count": 39,
      "outputs": [
        {
          "output_type": "execute_result",
          "data": {
            "text/html": [
              "<div>\n",
              "<style scoped>\n",
              "    .dataframe tbody tr th:only-of-type {\n",
              "        vertical-align: middle;\n",
              "    }\n",
              "\n",
              "    .dataframe tbody tr th {\n",
              "        vertical-align: top;\n",
              "    }\n",
              "\n",
              "    .dataframe thead th {\n",
              "        text-align: right;\n",
              "    }\n",
              "</style>\n",
              "<table border=\"1\" class=\"dataframe\">\n",
              "  <thead>\n",
              "    <tr style=\"text-align: right;\">\n",
              "      <th></th>\n",
              "      <th>Var</th>\n",
              "      <th>Vif</th>\n",
              "    </tr>\n",
              "  </thead>\n",
              "  <tbody>\n",
              "    <tr>\n",
              "      <th>3</th>\n",
              "      <td>close_lag5</td>\n",
              "      <td>150.66</td>\n",
              "    </tr>\n",
              "    <tr>\n",
              "      <th>1</th>\n",
              "      <td>close_lag2</td>\n",
              "      <td>105.63</td>\n",
              "    </tr>\n",
              "    <tr>\n",
              "      <th>2</th>\n",
              "      <td>close_lag4</td>\n",
              "      <td>103.46</td>\n",
              "    </tr>\n",
              "    <tr>\n",
              "      <th>0</th>\n",
              "      <td>close_lag1</td>\n",
              "      <td>97.22</td>\n",
              "    </tr>\n",
              "    <tr>\n",
              "      <th>9</th>\n",
              "      <td>ma_18</td>\n",
              "      <td>95.64</td>\n",
              "    </tr>\n",
              "    <tr>\n",
              "      <th>4</th>\n",
              "      <td>close_lag6</td>\n",
              "      <td>83.32</td>\n",
              "    </tr>\n",
              "    <tr>\n",
              "      <th>10</th>\n",
              "      <td>rsi_18</td>\n",
              "      <td>66.89</td>\n",
              "    </tr>\n",
              "    <tr>\n",
              "      <th>11</th>\n",
              "      <td>ma_24</td>\n",
              "      <td>58.21</td>\n",
              "    </tr>\n",
              "    <tr>\n",
              "      <th>8</th>\n",
              "      <td>rsi_12</td>\n",
              "      <td>43.20</td>\n",
              "    </tr>\n",
              "    <tr>\n",
              "      <th>7</th>\n",
              "      <td>ma_12</td>\n",
              "      <td>42.46</td>\n",
              "    </tr>\n",
              "    <tr>\n",
              "      <th>12</th>\n",
              "      <td>rsi_24</td>\n",
              "      <td>34.03</td>\n",
              "    </tr>\n",
              "    <tr>\n",
              "      <th>6</th>\n",
              "      <td>rsi_6</td>\n",
              "      <td>21.70</td>\n",
              "    </tr>\n",
              "    <tr>\n",
              "      <th>5</th>\n",
              "      <td>ma_6</td>\n",
              "      <td>8.30</td>\n",
              "    </tr>\n",
              "  </tbody>\n",
              "</table>\n",
              "</div>"
            ],
            "text/plain": [
              "           Var     Vif\n",
              "3   close_lag5  150.66\n",
              "1   close_lag2  105.63\n",
              "2   close_lag4  103.46\n",
              "0   close_lag1   97.22\n",
              "9        ma_18   95.64\n",
              "4   close_lag6   83.32\n",
              "10      rsi_18   66.89\n",
              "11       ma_24   58.21\n",
              "8       rsi_12   43.20\n",
              "7        ma_12   42.46\n",
              "12      rsi_24   34.03\n",
              "6        rsi_6   21.70\n",
              "5         ma_6    8.30"
            ]
          },
          "metadata": {
            "tags": []
          },
          "execution_count": 39
        }
      ]
    },
    {
      "cell_type": "code",
      "metadata": {
        "id": "huQ7ThnmCXfz",
        "colab_type": "code",
        "colab": {}
      },
      "source": [
        "X_t_2 = X_t_1.drop(columns=[\"close_lag1\",\"close_lag2\",\"close_lag4\",\"close_lag5\"],axis=1)"
      ],
      "execution_count": 40,
      "outputs": []
    },
    {
      "cell_type": "code",
      "metadata": {
        "id": "_qySUYb-CaLy",
        "colab_type": "code",
        "colab": {
          "base_uri": "https://localhost:8080/",
          "height": 621
        },
        "outputId": "1335083a-abe3-4041-9545-805cf43300e9"
      },
      "source": [
        "linear_reg(Y_train,X_t_2,isSummary=True)"
      ],
      "execution_count": 41,
      "outputs": [
        {
          "output_type": "stream",
          "text": [
            "                            OLS Regression Results                            \n",
            "==============================================================================\n",
            "Dep. Variable:                  Close   R-squared:                       0.965\n",
            "Model:                            OLS   Adj. R-squared:                  0.964\n",
            "Method:                 Least Squares   F-statistic:                     1242.\n",
            "Date:                Mon, 03 Aug 2020   Prob (F-statistic):          3.19e-291\n",
            "Time:                        16:17:31   Log-Likelihood:                -56.996\n",
            "No. Observations:                 420   AIC:                             134.0\n",
            "Df Residuals:                     410   BIC:                             174.4\n",
            "Df Model:                           9                                         \n",
            "Covariance Type:            nonrobust                                         \n",
            "==============================================================================\n",
            "                 coef    std err          t      P>|t|      [0.025      0.975]\n",
            "------------------------------------------------------------------------------\n",
            "const        114.9514      0.014   8374.182      0.000     114.924     114.978\n",
            "close_lag6     1.4470      0.016     91.603      0.000       1.416       1.478\n",
            "ma_6          -0.0086      0.033     -0.257      0.798      -0.074       0.057\n",
            "rsi_6          0.0381      0.063      0.609      0.543      -0.085       0.161\n",
            "ma_12         -0.5999      0.080     -7.523      0.000      -0.757      -0.443\n",
            "rsi_12        -0.0446      0.088     -0.508      0.612      -0.217       0.128\n",
            "ma_18          0.3477      0.130      2.676      0.008       0.092       0.603\n",
            "rsi_18         0.0243      0.110      0.221      0.825      -0.192       0.240\n",
            "ma_24         -0.1232      0.102     -1.207      0.228      -0.324       0.077\n",
            "rsi_24         0.0116      0.078      0.148      0.883      -0.143       0.166\n",
            "==============================================================================\n",
            "Omnibus:                      545.263   Durbin-Watson:                   1.936\n",
            "Prob(Omnibus):                  0.000   Jarque-Bera (JB):            52086.615\n",
            "Skew:                           6.382   Prob(JB):                         0.00\n",
            "Kurtosis:                      56.042   Cond. No.                         34.0\n",
            "==============================================================================\n",
            "\n",
            "Warnings:\n",
            "[1] Standard Errors assume that the covariance matrix of the errors is correctly specified.\n"
          ],
          "name": "stdout"
        },
        {
          "output_type": "execute_result",
          "data": {
            "text/plain": [
              "<statsmodels.regression.linear_model.RegressionResultsWrapper at 0x7fdc540b0710>"
            ]
          },
          "metadata": {
            "tags": []
          },
          "execution_count": 41
        }
      ]
    },
    {
      "cell_type": "code",
      "metadata": {
        "id": "TIOrVPemCbpo",
        "colab_type": "code",
        "colab": {
          "base_uri": "https://localhost:8080/",
          "height": 317
        },
        "outputId": "a5e32548-a43d-4029-984b-c61f1d5ef1fc"
      },
      "source": [
        "vif_cal(X_t_2)"
      ],
      "execution_count": 42,
      "outputs": [
        {
          "output_type": "execute_result",
          "data": {
            "text/html": [
              "<div>\n",
              "<style scoped>\n",
              "    .dataframe tbody tr th:only-of-type {\n",
              "        vertical-align: middle;\n",
              "    }\n",
              "\n",
              "    .dataframe tbody tr th {\n",
              "        vertical-align: top;\n",
              "    }\n",
              "\n",
              "    .dataframe thead th {\n",
              "        text-align: right;\n",
              "    }\n",
              "</style>\n",
              "<table border=\"1\" class=\"dataframe\">\n",
              "  <thead>\n",
              "    <tr style=\"text-align: right;\">\n",
              "      <th></th>\n",
              "      <th>Var</th>\n",
              "      <th>Vif</th>\n",
              "    </tr>\n",
              "  </thead>\n",
              "  <tbody>\n",
              "    <tr>\n",
              "      <th>5</th>\n",
              "      <td>ma_18</td>\n",
              "      <td>93.08</td>\n",
              "    </tr>\n",
              "    <tr>\n",
              "      <th>6</th>\n",
              "      <td>rsi_18</td>\n",
              "      <td>66.86</td>\n",
              "    </tr>\n",
              "    <tr>\n",
              "      <th>7</th>\n",
              "      <td>ma_24</td>\n",
              "      <td>57.87</td>\n",
              "    </tr>\n",
              "    <tr>\n",
              "      <th>4</th>\n",
              "      <td>rsi_12</td>\n",
              "      <td>43.11</td>\n",
              "    </tr>\n",
              "    <tr>\n",
              "      <th>3</th>\n",
              "      <td>ma_12</td>\n",
              "      <td>34.67</td>\n",
              "    </tr>\n",
              "    <tr>\n",
              "      <th>8</th>\n",
              "      <td>rsi_24</td>\n",
              "      <td>33.99</td>\n",
              "    </tr>\n",
              "    <tr>\n",
              "      <th>2</th>\n",
              "      <td>rsi_6</td>\n",
              "      <td>21.59</td>\n",
              "    </tr>\n",
              "    <tr>\n",
              "      <th>1</th>\n",
              "      <td>ma_6</td>\n",
              "      <td>6.03</td>\n",
              "    </tr>\n",
              "    <tr>\n",
              "      <th>0</th>\n",
              "      <td>close_lag6</td>\n",
              "      <td>1.29</td>\n",
              "    </tr>\n",
              "  </tbody>\n",
              "</table>\n",
              "</div>"
            ],
            "text/plain": [
              "          Var    Vif\n",
              "5       ma_18  93.08\n",
              "6      rsi_18  66.86\n",
              "7       ma_24  57.87\n",
              "4      rsi_12  43.11\n",
              "3       ma_12  34.67\n",
              "8      rsi_24  33.99\n",
              "2       rsi_6  21.59\n",
              "1        ma_6   6.03\n",
              "0  close_lag6   1.29"
            ]
          },
          "metadata": {
            "tags": []
          },
          "execution_count": 42
        }
      ]
    },
    {
      "cell_type": "code",
      "metadata": {
        "id": "-TDT9mRDCehk",
        "colab_type": "code",
        "colab": {}
      },
      "source": [
        "X_t_3 = X_t_2.drop(columns=[\"rsi_24\"],axis=1)"
      ],
      "execution_count": 43,
      "outputs": []
    },
    {
      "cell_type": "code",
      "metadata": {
        "id": "hdGaPSdYCua0",
        "colab_type": "code",
        "colab": {
          "base_uri": "https://localhost:8080/",
          "height": 603
        },
        "outputId": "62f53ac9-1d90-4018-8d29-4599617dec4e"
      },
      "source": [
        "linear_reg(Y_train,X_t_3,isSummary=True)"
      ],
      "execution_count": 44,
      "outputs": [
        {
          "output_type": "stream",
          "text": [
            "                            OLS Regression Results                            \n",
            "==============================================================================\n",
            "Dep. Variable:                  Close   R-squared:                       0.965\n",
            "Model:                            OLS   Adj. R-squared:                  0.964\n",
            "Method:                 Least Squares   F-statistic:                     1400.\n",
            "Date:                Mon, 03 Aug 2020   Prob (F-statistic):          8.34e-293\n",
            "Time:                        16:17:31   Log-Likelihood:                -57.007\n",
            "No. Observations:                 420   AIC:                             132.0\n",
            "Df Residuals:                     411   BIC:                             168.4\n",
            "Df Model:                           8                                         \n",
            "Covariance Type:            nonrobust                                         \n",
            "==============================================================================\n",
            "                 coef    std err          t      P>|t|      [0.025      0.975]\n",
            "------------------------------------------------------------------------------\n",
            "const        114.9514      0.014   8386.952      0.000     114.924     114.978\n",
            "close_lag6     1.4473      0.016     92.495      0.000       1.417       1.478\n",
            "ma_6          -0.0084      0.033     -0.253      0.801      -0.074       0.057\n",
            "rsi_6          0.0375      0.062      0.601      0.548      -0.085       0.160\n",
            "ma_12         -0.6013      0.079     -7.602      0.000      -0.757      -0.446\n",
            "rsi_12        -0.0464      0.087     -0.536      0.593      -0.217       0.124\n",
            "ma_18          0.3509      0.128      2.743      0.006       0.099       0.602\n",
            "rsi_18         0.0380      0.059      0.639      0.523      -0.079       0.155\n",
            "ma_24         -0.1252      0.101     -1.239      0.216      -0.324       0.073\n",
            "==============================================================================\n",
            "Omnibus:                      545.205   Durbin-Watson:                   1.935\n",
            "Prob(Omnibus):                  0.000   Jarque-Bera (JB):            52067.846\n",
            "Skew:                           6.381   Prob(JB):                         0.00\n",
            "Kurtosis:                      56.032   Cond. No.                         31.2\n",
            "==============================================================================\n",
            "\n",
            "Warnings:\n",
            "[1] Standard Errors assume that the covariance matrix of the errors is correctly specified.\n"
          ],
          "name": "stdout"
        },
        {
          "output_type": "execute_result",
          "data": {
            "text/plain": [
              "<statsmodels.regression.linear_model.RegressionResultsWrapper at 0x7fdc540cca58>"
            ]
          },
          "metadata": {
            "tags": []
          },
          "execution_count": 44
        }
      ]
    },
    {
      "cell_type": "code",
      "metadata": {
        "id": "xcAWUcZlCy2g",
        "colab_type": "code",
        "colab": {
          "base_uri": "https://localhost:8080/",
          "height": 287
        },
        "outputId": "9137b7e5-d98c-479b-d3fe-79212dc05422"
      },
      "source": [
        "vif_cal(X_t_3)"
      ],
      "execution_count": 45,
      "outputs": [
        {
          "output_type": "execute_result",
          "data": {
            "text/html": [
              "<div>\n",
              "<style scoped>\n",
              "    .dataframe tbody tr th:only-of-type {\n",
              "        vertical-align: middle;\n",
              "    }\n",
              "\n",
              "    .dataframe tbody tr th {\n",
              "        vertical-align: top;\n",
              "    }\n",
              "\n",
              "    .dataframe thead th {\n",
              "        text-align: right;\n",
              "    }\n",
              "</style>\n",
              "<table border=\"1\" class=\"dataframe\">\n",
              "  <thead>\n",
              "    <tr style=\"text-align: right;\">\n",
              "      <th></th>\n",
              "      <th>Var</th>\n",
              "      <th>Vif</th>\n",
              "    </tr>\n",
              "  </thead>\n",
              "  <tbody>\n",
              "    <tr>\n",
              "      <th>5</th>\n",
              "      <td>ma_18</td>\n",
              "      <td>90.45</td>\n",
              "    </tr>\n",
              "    <tr>\n",
              "      <th>7</th>\n",
              "      <td>ma_24</td>\n",
              "      <td>56.85</td>\n",
              "    </tr>\n",
              "    <tr>\n",
              "      <th>4</th>\n",
              "      <td>rsi_12</td>\n",
              "      <td>42.20</td>\n",
              "    </tr>\n",
              "    <tr>\n",
              "      <th>3</th>\n",
              "      <td>ma_12</td>\n",
              "      <td>34.20</td>\n",
              "    </tr>\n",
              "    <tr>\n",
              "      <th>2</th>\n",
              "      <td>rsi_6</td>\n",
              "      <td>21.47</td>\n",
              "    </tr>\n",
              "    <tr>\n",
              "      <th>6</th>\n",
              "      <td>rsi_18</td>\n",
              "      <td>19.58</td>\n",
              "    </tr>\n",
              "    <tr>\n",
              "      <th>1</th>\n",
              "      <td>ma_6</td>\n",
              "      <td>6.03</td>\n",
              "    </tr>\n",
              "    <tr>\n",
              "      <th>0</th>\n",
              "      <td>close_lag6</td>\n",
              "      <td>1.27</td>\n",
              "    </tr>\n",
              "  </tbody>\n",
              "</table>\n",
              "</div>"
            ],
            "text/plain": [
              "          Var    Vif\n",
              "5       ma_18  90.45\n",
              "7       ma_24  56.85\n",
              "4      rsi_12  42.20\n",
              "3       ma_12  34.20\n",
              "2       rsi_6  21.47\n",
              "6      rsi_18  19.58\n",
              "1        ma_6   6.03\n",
              "0  close_lag6   1.27"
            ]
          },
          "metadata": {
            "tags": []
          },
          "execution_count": 45
        }
      ]
    },
    {
      "cell_type": "code",
      "metadata": {
        "id": "QujpkNa8C6kw",
        "colab_type": "code",
        "colab": {}
      },
      "source": [
        "X_t_4 = X_t_3.drop(columns=[\"ma_18\"],axis=1)"
      ],
      "execution_count": 46,
      "outputs": []
    },
    {
      "cell_type": "code",
      "metadata": {
        "id": "0cOah3UeC8NI",
        "colab_type": "code",
        "colab": {
          "base_uri": "https://localhost:8080/",
          "height": 585
        },
        "outputId": "a3714be6-2d38-480e-d187-9989126fdf37"
      },
      "source": [
        "linear_reg(Y_train,X_t_4,isSummary=True)"
      ],
      "execution_count": 47,
      "outputs": [
        {
          "output_type": "stream",
          "text": [
            "                            OLS Regression Results                            \n",
            "==============================================================================\n",
            "Dep. Variable:                  Close   R-squared:                       0.964\n",
            "Model:                            OLS   Adj. R-squared:                  0.963\n",
            "Method:                 Least Squares   F-statistic:                     1574.\n",
            "Date:                Mon, 03 Aug 2020   Prob (F-statistic):          8.42e-293\n",
            "Time:                        16:17:31   Log-Likelihood:                -60.817\n",
            "No. Observations:                 420   AIC:                             137.6\n",
            "Df Residuals:                     412   BIC:                             170.0\n",
            "Df Model:                           7                                         \n",
            "Covariance Type:            nonrobust                                         \n",
            "==============================================================================\n",
            "                 coef    std err          t      P>|t|      [0.025      0.975]\n",
            "------------------------------------------------------------------------------\n",
            "const        114.9509      0.014   8321.966      0.000     114.924     114.978\n",
            "close_lag6     1.4451      0.016     91.754      0.000       1.414       1.476\n",
            "ma_6          -0.0363      0.032     -1.134      0.257      -0.099       0.027\n",
            "rsi_6          0.0084      0.062      0.136      0.892      -0.113       0.130\n",
            "ma_12         -0.4441      0.055     -8.083      0.000      -0.552      -0.336\n",
            "rsi_12        -0.0079      0.086     -0.092      0.927      -0.177       0.162\n",
            "rsi_18         0.0454      0.060      0.758      0.449      -0.072       0.163\n",
            "ma_24          0.1143      0.051      2.231      0.026       0.014       0.215\n",
            "==============================================================================\n",
            "Omnibus:                      534.204   Durbin-Watson:                   1.955\n",
            "Prob(Omnibus):                  0.000   Jarque-Bera (JB):            47833.483\n",
            "Skew:                           6.173   Prob(JB):                         0.00\n",
            "Kurtosis:                      53.803   Cond. No.                         18.5\n",
            "==============================================================================\n",
            "\n",
            "Warnings:\n",
            "[1] Standard Errors assume that the covariance matrix of the errors is correctly specified.\n"
          ],
          "name": "stdout"
        },
        {
          "output_type": "execute_result",
          "data": {
            "text/plain": [
              "<statsmodels.regression.linear_model.RegressionResultsWrapper at 0x7fdc540e4b00>"
            ]
          },
          "metadata": {
            "tags": []
          },
          "execution_count": 47
        }
      ]
    },
    {
      "cell_type": "code",
      "metadata": {
        "id": "OjKxFjjFC9N_",
        "colab_type": "code",
        "colab": {
          "base_uri": "https://localhost:8080/",
          "height": 257
        },
        "outputId": "783e3216-185b-4fbe-b3d2-814a841cb8bf"
      },
      "source": [
        "vif_cal(X_t_4)"
      ],
      "execution_count": 48,
      "outputs": [
        {
          "output_type": "execute_result",
          "data": {
            "text/html": [
              "<div>\n",
              "<style scoped>\n",
              "    .dataframe tbody tr th:only-of-type {\n",
              "        vertical-align: middle;\n",
              "    }\n",
              "\n",
              "    .dataframe tbody tr th {\n",
              "        vertical-align: top;\n",
              "    }\n",
              "\n",
              "    .dataframe thead th {\n",
              "        text-align: right;\n",
              "    }\n",
              "</style>\n",
              "<table border=\"1\" class=\"dataframe\">\n",
              "  <thead>\n",
              "    <tr style=\"text-align: right;\">\n",
              "      <th></th>\n",
              "      <th>Var</th>\n",
              "      <th>Vif</th>\n",
              "    </tr>\n",
              "  </thead>\n",
              "  <tbody>\n",
              "    <tr>\n",
              "      <th>4</th>\n",
              "      <td>rsi_12</td>\n",
              "      <td>41.10</td>\n",
              "    </tr>\n",
              "    <tr>\n",
              "      <th>2</th>\n",
              "      <td>rsi_6</td>\n",
              "      <td>20.86</td>\n",
              "    </tr>\n",
              "    <tr>\n",
              "      <th>5</th>\n",
              "      <td>rsi_18</td>\n",
              "      <td>19.54</td>\n",
              "    </tr>\n",
              "    <tr>\n",
              "      <th>3</th>\n",
              "      <td>ma_12</td>\n",
              "      <td>16.25</td>\n",
              "    </tr>\n",
              "    <tr>\n",
              "      <th>6</th>\n",
              "      <td>ma_24</td>\n",
              "      <td>14.39</td>\n",
              "    </tr>\n",
              "    <tr>\n",
              "      <th>1</th>\n",
              "      <td>ma_6</td>\n",
              "      <td>5.47</td>\n",
              "    </tr>\n",
              "    <tr>\n",
              "      <th>0</th>\n",
              "      <td>close_lag6</td>\n",
              "      <td>1.27</td>\n",
              "    </tr>\n",
              "  </tbody>\n",
              "</table>\n",
              "</div>"
            ],
            "text/plain": [
              "          Var    Vif\n",
              "4      rsi_12  41.10\n",
              "2       rsi_6  20.86\n",
              "5      rsi_18  19.54\n",
              "3       ma_12  16.25\n",
              "6       ma_24  14.39\n",
              "1        ma_6   5.47\n",
              "0  close_lag6   1.27"
            ]
          },
          "metadata": {
            "tags": []
          },
          "execution_count": 48
        }
      ]
    },
    {
      "cell_type": "code",
      "metadata": {
        "id": "2mtHw5ipC_hP",
        "colab_type": "code",
        "colab": {}
      },
      "source": [
        "X_t_5 = X_t_4.drop(columns=[\"rsi_12\"],axis=1)"
      ],
      "execution_count": 49,
      "outputs": []
    },
    {
      "cell_type": "code",
      "metadata": {
        "id": "LTo08OntDBig",
        "colab_type": "code",
        "colab": {
          "base_uri": "https://localhost:8080/",
          "height": 567
        },
        "outputId": "462fc75a-5b59-4b85-f514-08c3032c2d9d"
      },
      "source": [
        "linear_reg(Y_train,X_t_5,isSummary=True)"
      ],
      "execution_count": 50,
      "outputs": [
        {
          "output_type": "stream",
          "text": [
            "                            OLS Regression Results                            \n",
            "==============================================================================\n",
            "Dep. Variable:                  Close   R-squared:                       0.964\n",
            "Model:                            OLS   Adj. R-squared:                  0.963\n",
            "Method:                 Least Squares   F-statistic:                     1841.\n",
            "Date:                Mon, 03 Aug 2020   Prob (F-statistic):          1.89e-294\n",
            "Time:                        16:17:31   Log-Likelihood:                -60.822\n",
            "No. Observations:                 420   AIC:                             135.6\n",
            "Df Residuals:                     413   BIC:                             163.9\n",
            "Df Model:                           6                                         \n",
            "Covariance Type:            nonrobust                                         \n",
            "==============================================================================\n",
            "                 coef    std err          t      P>|t|      [0.025      0.975]\n",
            "------------------------------------------------------------------------------\n",
            "const        114.9509      0.014   8338.920      0.000     114.924     114.978\n",
            "close_lag6     1.4450      0.016     92.143      0.000       1.414       1.476\n",
            "ma_6          -0.0368      0.032     -1.168      0.244      -0.099       0.025\n",
            "rsi_6          0.0044      0.044      0.101      0.920      -0.081       0.090\n",
            "ma_12         -0.4445      0.055     -8.131      0.000      -0.552      -0.337\n",
            "rsi_18         0.0412      0.039      1.064      0.288      -0.035       0.117\n",
            "ma_24          0.1151      0.051      2.278      0.023       0.016       0.214\n",
            "==============================================================================\n",
            "Omnibus:                      534.195   Durbin-Watson:                   1.955\n",
            "Prob(Omnibus):                  0.000   Jarque-Bera (JB):            47827.213\n",
            "Skew:                           6.173   Prob(JB):                         0.00\n",
            "Kurtosis:                      53.799   Cond. No.                         10.8\n",
            "==============================================================================\n",
            "\n",
            "Warnings:\n",
            "[1] Standard Errors assume that the covariance matrix of the errors is correctly specified.\n"
          ],
          "name": "stdout"
        },
        {
          "output_type": "execute_result",
          "data": {
            "text/plain": [
              "<statsmodels.regression.linear_model.RegressionResultsWrapper at 0x7fdc540d4f98>"
            ]
          },
          "metadata": {
            "tags": []
          },
          "execution_count": 50
        }
      ]
    },
    {
      "cell_type": "code",
      "metadata": {
        "id": "FYYuoIMzDDDb",
        "colab_type": "code",
        "colab": {
          "base_uri": "https://localhost:8080/",
          "height": 227
        },
        "outputId": "d2337821-50c2-4465-9385-9b5fd1a66292"
      },
      "source": [
        "vif_cal(X_t_5)"
      ],
      "execution_count": 51,
      "outputs": [
        {
          "output_type": "execute_result",
          "data": {
            "text/html": [
              "<div>\n",
              "<style scoped>\n",
              "    .dataframe tbody tr th:only-of-type {\n",
              "        vertical-align: middle;\n",
              "    }\n",
              "\n",
              "    .dataframe tbody tr th {\n",
              "        vertical-align: top;\n",
              "    }\n",
              "\n",
              "    .dataframe thead th {\n",
              "        text-align: right;\n",
              "    }\n",
              "</style>\n",
              "<table border=\"1\" class=\"dataframe\">\n",
              "  <thead>\n",
              "    <tr style=\"text-align: right;\">\n",
              "      <th></th>\n",
              "      <th>Var</th>\n",
              "      <th>Vif</th>\n",
              "    </tr>\n",
              "  </thead>\n",
              "  <tbody>\n",
              "    <tr>\n",
              "      <th>3</th>\n",
              "      <td>ma_12</td>\n",
              "      <td>16.13</td>\n",
              "    </tr>\n",
              "    <tr>\n",
              "      <th>5</th>\n",
              "      <td>ma_24</td>\n",
              "      <td>14.01</td>\n",
              "    </tr>\n",
              "    <tr>\n",
              "      <th>2</th>\n",
              "      <td>rsi_6</td>\n",
              "      <td>10.37</td>\n",
              "    </tr>\n",
              "    <tr>\n",
              "      <th>4</th>\n",
              "      <td>rsi_18</td>\n",
              "      <td>8.21</td>\n",
              "    </tr>\n",
              "    <tr>\n",
              "      <th>1</th>\n",
              "      <td>ma_6</td>\n",
              "      <td>5.31</td>\n",
              "    </tr>\n",
              "    <tr>\n",
              "      <th>0</th>\n",
              "      <td>close_lag6</td>\n",
              "      <td>1.26</td>\n",
              "    </tr>\n",
              "  </tbody>\n",
              "</table>\n",
              "</div>"
            ],
            "text/plain": [
              "          Var    Vif\n",
              "3       ma_12  16.13\n",
              "5       ma_24  14.01\n",
              "2       rsi_6  10.37\n",
              "4      rsi_18   8.21\n",
              "1        ma_6   5.31\n",
              "0  close_lag6   1.26"
            ]
          },
          "metadata": {
            "tags": []
          },
          "execution_count": 51
        }
      ]
    },
    {
      "cell_type": "code",
      "metadata": {
        "id": "TeU7jEFDDIQw",
        "colab_type": "code",
        "colab": {}
      },
      "source": [
        "X_t_6 = X_t_5.drop(columns=[\"rsi_6\"],axis=1)"
      ],
      "execution_count": 52,
      "outputs": []
    },
    {
      "cell_type": "code",
      "metadata": {
        "id": "sKrj6w91DMgC",
        "colab_type": "code",
        "colab": {
          "base_uri": "https://localhost:8080/",
          "height": 550
        },
        "outputId": "98030dd2-ede1-4f75-a181-ca5222675fb4"
      },
      "source": [
        "linear_reg(Y_train,X_t_6,isSummary=True)"
      ],
      "execution_count": 53,
      "outputs": [
        {
          "output_type": "stream",
          "text": [
            "                            OLS Regression Results                            \n",
            "==============================================================================\n",
            "Dep. Variable:                  Close   R-squared:                       0.964\n",
            "Model:                            OLS   Adj. R-squared:                  0.964\n",
            "Method:                 Least Squares   F-statistic:                     2215.\n",
            "Date:                Mon, 03 Aug 2020   Prob (F-statistic):          3.84e-296\n",
            "Time:                        16:17:31   Log-Likelihood:                -60.827\n",
            "No. Observations:                 420   AIC:                             133.7\n",
            "Df Residuals:                     414   BIC:                             157.9\n",
            "Df Model:                           5                                         \n",
            "Covariance Type:            nonrobust                                         \n",
            "==============================================================================\n",
            "                 coef    std err          t      P>|t|      [0.025      0.975]\n",
            "------------------------------------------------------------------------------\n",
            "const        114.9508      0.014   8353.255      0.000     114.924     114.978\n",
            "close_lag6     1.4451      0.016     92.381      0.000       1.414       1.476\n",
            "ma_6          -0.0374      0.031     -1.208      0.228      -0.098       0.023\n",
            "ma_12         -0.4469      0.049     -9.064      0.000      -0.544      -0.350\n",
            "rsi_18         0.0420      0.038      1.109      0.268      -0.032       0.116\n",
            "ma_24          0.1144      0.050      2.289      0.023       0.016       0.213\n",
            "==============================================================================\n",
            "Omnibus:                      534.212   Durbin-Watson:                   1.955\n",
            "Prob(Omnibus):                  0.000   Jarque-Bera (JB):            47822.988\n",
            "Skew:                           6.173   Prob(JB):                         0.00\n",
            "Kurtosis:                      53.797   Cond. No.                         9.38\n",
            "==============================================================================\n",
            "\n",
            "Warnings:\n",
            "[1] Standard Errors assume that the covariance matrix of the errors is correctly specified.\n"
          ],
          "name": "stdout"
        },
        {
          "output_type": "execute_result",
          "data": {
            "text/plain": [
              "<statsmodels.regression.linear_model.RegressionResultsWrapper at 0x7fdc54077fd0>"
            ]
          },
          "metadata": {
            "tags": []
          },
          "execution_count": 53
        }
      ]
    },
    {
      "cell_type": "code",
      "metadata": {
        "id": "hKpJa8z3DODe",
        "colab_type": "code",
        "colab": {
          "base_uri": "https://localhost:8080/",
          "height": 197
        },
        "outputId": "2a625b64-b27e-458a-d8e3-a66574abc601"
      },
      "source": [
        "vif_cal(X_t_6)"
      ],
      "execution_count": 54,
      "outputs": [
        {
          "output_type": "execute_result",
          "data": {
            "text/html": [
              "<div>\n",
              "<style scoped>\n",
              "    .dataframe tbody tr th:only-of-type {\n",
              "        vertical-align: middle;\n",
              "    }\n",
              "\n",
              "    .dataframe tbody tr th {\n",
              "        vertical-align: top;\n",
              "    }\n",
              "\n",
              "    .dataframe thead th {\n",
              "        text-align: right;\n",
              "    }\n",
              "</style>\n",
              "<table border=\"1\" class=\"dataframe\">\n",
              "  <thead>\n",
              "    <tr style=\"text-align: right;\">\n",
              "      <th></th>\n",
              "      <th>Var</th>\n",
              "      <th>Vif</th>\n",
              "    </tr>\n",
              "  </thead>\n",
              "  <tbody>\n",
              "    <tr>\n",
              "      <th>4</th>\n",
              "      <td>ma_24</td>\n",
              "      <td>13.74</td>\n",
              "    </tr>\n",
              "    <tr>\n",
              "      <th>2</th>\n",
              "      <td>ma_12</td>\n",
              "      <td>13.14</td>\n",
              "    </tr>\n",
              "    <tr>\n",
              "      <th>3</th>\n",
              "      <td>rsi_18</td>\n",
              "      <td>7.87</td>\n",
              "    </tr>\n",
              "    <tr>\n",
              "      <th>1</th>\n",
              "      <td>ma_6</td>\n",
              "      <td>5.14</td>\n",
              "    </tr>\n",
              "    <tr>\n",
              "      <th>0</th>\n",
              "      <td>close_lag6</td>\n",
              "      <td>1.25</td>\n",
              "    </tr>\n",
              "  </tbody>\n",
              "</table>\n",
              "</div>"
            ],
            "text/plain": [
              "          Var    Vif\n",
              "4       ma_24  13.74\n",
              "2       ma_12  13.14\n",
              "3      rsi_18   7.87\n",
              "1        ma_6   5.14\n",
              "0  close_lag6   1.25"
            ]
          },
          "metadata": {
            "tags": []
          },
          "execution_count": 54
        }
      ]
    },
    {
      "cell_type": "code",
      "metadata": {
        "id": "g3l7lvQnDS23",
        "colab_type": "code",
        "colab": {}
      },
      "source": [
        "X_t_7 = X_t_6.drop(columns=[\"ma_6\"],axis=1)"
      ],
      "execution_count": 55,
      "outputs": []
    },
    {
      "cell_type": "code",
      "metadata": {
        "id": "P2H1ti4SDU5x",
        "colab_type": "code",
        "colab": {
          "base_uri": "https://localhost:8080/",
          "height": 532
        },
        "outputId": "f8a51372-f6d6-4087-bd00-9b1d1e8d8530"
      },
      "source": [
        "linear_reg(Y_train,X_t_7,isSummary=True)"
      ],
      "execution_count": 56,
      "outputs": [
        {
          "output_type": "stream",
          "text": [
            "                            OLS Regression Results                            \n",
            "==============================================================================\n",
            "Dep. Variable:                  Close   R-squared:                       0.964\n",
            "Model:                            OLS   Adj. R-squared:                  0.963\n",
            "Method:                 Least Squares   F-statistic:                     2765.\n",
            "Date:                Mon, 03 Aug 2020   Prob (F-statistic):          1.42e-297\n",
            "Time:                        16:17:31   Log-Likelihood:                -61.566\n",
            "No. Observations:                 420   AIC:                             133.1\n",
            "Df Residuals:                     415   BIC:                             153.3\n",
            "Df Model:                           4                                         \n",
            "Covariance Type:            nonrobust                                         \n",
            "==============================================================================\n",
            "                 coef    std err          t      P>|t|      [0.025      0.975]\n",
            "------------------------------------------------------------------------------\n",
            "const        114.9509      0.014   8348.692      0.000     114.924     114.978\n",
            "close_lag6     1.4445      0.016     92.340      0.000       1.414       1.475\n",
            "ma_12         -0.4936      0.031    -16.169      0.000      -0.554      -0.434\n",
            "rsi_18         0.0451      0.038      1.192      0.234      -0.029       0.119\n",
            "ma_24          0.1330      0.048      2.797      0.005       0.040       0.227\n",
            "==============================================================================\n",
            "Omnibus:                      534.952   Durbin-Watson:                   1.956\n",
            "Prob(Omnibus):                  0.000   Jarque-Bera (JB):            47946.272\n",
            "Skew:                           6.189   Prob(JB):                         0.00\n",
            "Kurtosis:                      53.859   Cond. No.                         7.29\n",
            "==============================================================================\n",
            "\n",
            "Warnings:\n",
            "[1] Standard Errors assume that the covariance matrix of the errors is correctly specified.\n"
          ],
          "name": "stdout"
        },
        {
          "output_type": "execute_result",
          "data": {
            "text/plain": [
              "<statsmodels.regression.linear_model.RegressionResultsWrapper at 0x7fdc5409f518>"
            ]
          },
          "metadata": {
            "tags": []
          },
          "execution_count": 56
        }
      ]
    },
    {
      "cell_type": "code",
      "metadata": {
        "id": "x0y6eEIvDWQF",
        "colab_type": "code",
        "colab": {
          "base_uri": "https://localhost:8080/",
          "height": 167
        },
        "outputId": "41416051-31e9-4853-d0a2-bc41ac02d6f8"
      },
      "source": [
        "vif_cal(X_t_7)"
      ],
      "execution_count": 57,
      "outputs": [
        {
          "output_type": "execute_result",
          "data": {
            "text/html": [
              "<div>\n",
              "<style scoped>\n",
              "    .dataframe tbody tr th:only-of-type {\n",
              "        vertical-align: middle;\n",
              "    }\n",
              "\n",
              "    .dataframe tbody tr th {\n",
              "        vertical-align: top;\n",
              "    }\n",
              "\n",
              "    .dataframe thead th {\n",
              "        text-align: right;\n",
              "    }\n",
              "</style>\n",
              "<table border=\"1\" class=\"dataframe\">\n",
              "  <thead>\n",
              "    <tr style=\"text-align: right;\">\n",
              "      <th></th>\n",
              "      <th>Var</th>\n",
              "      <th>Vif</th>\n",
              "    </tr>\n",
              "  </thead>\n",
              "  <tbody>\n",
              "    <tr>\n",
              "      <th>3</th>\n",
              "      <td>ma_24</td>\n",
              "      <td>12.43</td>\n",
              "    </tr>\n",
              "    <tr>\n",
              "      <th>2</th>\n",
              "      <td>rsi_18</td>\n",
              "      <td>7.84</td>\n",
              "    </tr>\n",
              "    <tr>\n",
              "      <th>1</th>\n",
              "      <td>ma_12</td>\n",
              "      <td>5.03</td>\n",
              "    </tr>\n",
              "    <tr>\n",
              "      <th>0</th>\n",
              "      <td>close_lag6</td>\n",
              "      <td>1.25</td>\n",
              "    </tr>\n",
              "  </tbody>\n",
              "</table>\n",
              "</div>"
            ],
            "text/plain": [
              "          Var    Vif\n",
              "3       ma_24  12.43\n",
              "2      rsi_18   7.84\n",
              "1       ma_12   5.03\n",
              "0  close_lag6   1.25"
            ]
          },
          "metadata": {
            "tags": []
          },
          "execution_count": 57
        }
      ]
    },
    {
      "cell_type": "code",
      "metadata": {
        "id": "L3mJLRAvDYpj",
        "colab_type": "code",
        "colab": {}
      },
      "source": [
        "X_t_8 = X_t_7.drop(columns=[\"rsi_18\"],axis=1)"
      ],
      "execution_count": 58,
      "outputs": []
    },
    {
      "cell_type": "code",
      "metadata": {
        "id": "A8yTovIBDaMd",
        "colab_type": "code",
        "colab": {
          "base_uri": "https://localhost:8080/",
          "height": 496
        },
        "outputId": "e6adb451-12a9-42f0-89c4-053073144486"
      },
      "source": [
        "model = linear_reg(Y_train,X_t_8,isSummary=True)"
      ],
      "execution_count": 59,
      "outputs": [
        {
          "output_type": "stream",
          "text": [
            "                            OLS Regression Results                            \n",
            "==============================================================================\n",
            "Dep. Variable:                  Close   R-squared:                       0.964\n",
            "Model:                            OLS   Adj. R-squared:                  0.963\n",
            "Method:                 Least Squares   F-statistic:                     3682.\n",
            "Date:                Mon, 03 Aug 2020   Prob (F-statistic):          4.38e-299\n",
            "Time:                        16:17:31   Log-Likelihood:                -62.284\n",
            "No. Observations:                 420   AIC:                             132.6\n",
            "Df Residuals:                     416   BIC:                             148.7\n",
            "Df Model:                           3                                         \n",
            "Covariance Type:            nonrobust                                         \n",
            "==============================================================================\n",
            "                 coef    std err          t      P>|t|      [0.025      0.975]\n",
            "------------------------------------------------------------------------------\n",
            "const        114.9511      0.014   8345.047      0.000     114.924     114.978\n",
            "close_lag6     1.4517      0.014    100.766      0.000       1.423       1.480\n",
            "ma_12         -0.4905      0.030    -16.118      0.000      -0.550      -0.431\n",
            "ma_24          0.0891      0.030      2.962      0.003       0.030       0.148\n",
            "==============================================================================\n",
            "Omnibus:                      533.419   Durbin-Watson:                   1.946\n",
            "Prob(Omnibus):                  0.000   Jarque-Bera (JB):            47298.382\n",
            "Skew:                           6.161   Prob(JB):                         0.00\n",
            "Kurtosis:                      53.507   Cond. No.                         4.24\n",
            "==============================================================================\n",
            "\n",
            "Warnings:\n",
            "[1] Standard Errors assume that the covariance matrix of the errors is correctly specified.\n"
          ],
          "name": "stdout"
        }
      ]
    },
    {
      "cell_type": "code",
      "metadata": {
        "id": "CPxXtaJJDbc4",
        "colab_type": "code",
        "colab": {
          "base_uri": "https://localhost:8080/",
          "height": 137
        },
        "outputId": "f08aad0b-b26a-4e94-850e-0077fa381d31"
      },
      "source": [
        "vif_cal(X_t_8)"
      ],
      "execution_count": 60,
      "outputs": [
        {
          "output_type": "execute_result",
          "data": {
            "text/html": [
              "<div>\n",
              "<style scoped>\n",
              "    .dataframe tbody tr th:only-of-type {\n",
              "        vertical-align: middle;\n",
              "    }\n",
              "\n",
              "    .dataframe tbody tr th {\n",
              "        vertical-align: top;\n",
              "    }\n",
              "\n",
              "    .dataframe thead th {\n",
              "        text-align: right;\n",
              "    }\n",
              "</style>\n",
              "<table border=\"1\" class=\"dataframe\">\n",
              "  <thead>\n",
              "    <tr style=\"text-align: right;\">\n",
              "      <th></th>\n",
              "      <th>Var</th>\n",
              "      <th>Vif</th>\n",
              "    </tr>\n",
              "  </thead>\n",
              "  <tbody>\n",
              "    <tr>\n",
              "      <th>1</th>\n",
              "      <td>ma_12</td>\n",
              "      <td>4.99</td>\n",
              "    </tr>\n",
              "    <tr>\n",
              "      <th>2</th>\n",
              "      <td>ma_24</td>\n",
              "      <td>4.96</td>\n",
              "    </tr>\n",
              "    <tr>\n",
              "      <th>0</th>\n",
              "      <td>close_lag6</td>\n",
              "      <td>1.06</td>\n",
              "    </tr>\n",
              "  </tbody>\n",
              "</table>\n",
              "</div>"
            ],
            "text/plain": [
              "          Var   Vif\n",
              "1       ma_12  4.99\n",
              "2       ma_24  4.96\n",
              "0  close_lag6  1.06"
            ]
          },
          "metadata": {
            "tags": []
          },
          "execution_count": 60
        }
      ]
    },
    {
      "cell_type": "markdown",
      "metadata": {
        "id": "RykpuRUZDgSO",
        "colab_type": "text"
      },
      "source": [
        "## Performance On Test Data"
      ]
    },
    {
      "cell_type": "code",
      "metadata": {
        "id": "6N4z2NMfDf8Y",
        "colab_type": "code",
        "colab": {
          "base_uri": "https://localhost:8080/",
          "height": 610
        },
        "outputId": "76cbb155-bafa-4b7d-d178-61eeddd58555"
      },
      "source": [
        "X_test = sm.tools.tools.add_constant(X_test, has_constant='add')\n",
        "Y_test_p = mod.predict(X_test)\n",
        "plt.figure(figsize=(16,10))\n",
        "plt.plot(range(0,len(Y_test)),Y_test, label='Actual')\n",
        "plt.plot(range(0,len(Y_test)),Y_test_p, label='Predicted')\n",
        "plt.legend(loc='upper left')"
      ],
      "execution_count": 61,
      "outputs": [
        {
          "output_type": "execute_result",
          "data": {
            "text/plain": [
              "<matplotlib.legend.Legend at 0x7fdc5403c748>"
            ]
          },
          "metadata": {
            "tags": []
          },
          "execution_count": 61
        },
        {
          "output_type": "display_data",
          "data": {
            "image/png": "[encoded data removed]",
            "text/plain": [
              "<Figure size 1152x720 with 1 Axes>"
            ]
          },
          "metadata": {
            "tags": []
          }
        }
      ]
    },
    {
      "cell_type": "markdown",
      "metadata": {
        "id": "fl0AR7mWDquG",
        "colab_type": "text"
      },
      "source": [
        "### RSquared on the test data"
      ]
    },
    {
      "cell_type": "code",
      "metadata": {
        "id": "6f4b8nheDdkx",
        "colab_type": "code",
        "colab": {
          "base_uri": "https://localhost:8080/",
          "height": 34
        },
        "outputId": "644aaef4-b73c-4046-8ace-2c33342cbe76"
      },
      "source": [
        "r2_score(Y_test, Y_test_p)"
      ],
      "execution_count": 62,
      "outputs": [
        {
          "output_type": "execute_result",
          "data": {
            "text/plain": [
              "0.9748871728487407"
            ]
          },
          "metadata": {
            "tags": []
          },
          "execution_count": 62
        }
      ]
    },
    {
      "cell_type": "markdown",
      "metadata": {
        "id": "gijwLuG4DxKd",
        "colab_type": "text"
      },
      "source": [
        "\n",
        "### Residuals and Assumption Validation"
      ]
    },
    {
      "cell_type": "code",
      "metadata": {
        "id": "50mSfT33Dt3Z",
        "colab_type": "code",
        "colab": {}
      },
      "source": [
        "error = Y_test - Y_test_p"
      ],
      "execution_count": 63,
      "outputs": []
    },
    {
      "cell_type": "markdown",
      "metadata": {
        "id": "0g9wPNIlD1S0",
        "colab_type": "text"
      },
      "source": [
        "White Noise Residuals"
      ]
    },
    {
      "cell_type": "code",
      "metadata": {
        "id": "Val6hYhzDzwy",
        "colab_type": "code",
        "colab": {
          "base_uri": "https://localhost:8080/",
          "height": 264
        },
        "outputId": "3173dfa2-2cc3-459d-9368-3d7a71f4ceda"
      },
      "source": [
        "plt.plot(range(0,len(Y_test)),error)\n",
        "plt.show()"
      ],
      "execution_count": 64,
      "outputs": [
        {
          "output_type": "display_data",
          "data": {
            "image/png": "[encoded data removed]",
            "text/plain": [
              "<Figure size 432x288 with 1 Axes>"
            ]
          },
          "metadata": {
            "tags": []
          }
        }
      ]
    },
    {
      "cell_type": "markdown",
      "metadata": {
        "id": "QfLKYXWKD-xl",
        "colab_type": "text"
      },
      "source": [
        "\n",
        "**No autocorrelation**"
      ]
    },
    {
      "cell_type": "code",
      "metadata": {
        "id": "CucAiO9ZD4_t",
        "colab_type": "code",
        "colab": {
          "base_uri": "https://localhost:8080/",
          "height": 282
        },
        "outputId": "44eff040-561e-4228-e5a5-799310f726e1"
      },
      "source": [
        "acf = smt.graphics.plot_acf(model.resid, lags=40 , alpha=0.05)\n",
        "acf.show()"
      ],
      "execution_count": 65,
      "outputs": [
        {
          "output_type": "display_data",
          "data": {
            "image/png": "[encoded data removed]",
            "text/plain": [
              "<Figure size 432x288 with 1 Axes>"
            ]
          },
          "metadata": {
            "tags": []
          }
        }
      ]
    },
    {
      "cell_type": "markdown",
      "metadata": {
        "id": "_MCaoOl8G6wO",
        "colab_type": "text"
      },
      "source": [
        "\n",
        "Heteroskedasticity Test"
      ]
    },
    {
      "cell_type": "code",
      "metadata": {
        "id": "fqTzpdxqEEeZ",
        "colab_type": "code",
        "colab": {
          "base_uri": "https://localhost:8080/",
          "height": 282
        },
        "outputId": "29b57116-1089-4a84-fd89-f8154f21b624"
      },
      "source": [
        "plt.scatter(Y_test,error)"
      ],
      "execution_count": 66,
      "outputs": [
        {
          "output_type": "execute_result",
          "data": {
            "text/plain": [
              "<matplotlib.collections.PathCollection at 0x7fdc59c1bf60>"
            ]
          },
          "metadata": {
            "tags": []
          },
          "execution_count": 66
        },
        {
          "output_type": "display_data",
          "data": {
            "image/png": "[encoded data removed]",
            "text/plain": [
              "<Figure size 432x288 with 1 Axes>"
            ]
          },
          "metadata": {
            "tags": []
          }
        }
      ]
    },
    {
      "cell_type": "code",
      "metadata": {
        "id": "s9SKJ6cDG8jc",
        "colab_type": "code",
        "colab": {}
      },
      "source": [
        ""
      ],
      "execution_count": 66,
      "outputs": []
    }
  ]
}