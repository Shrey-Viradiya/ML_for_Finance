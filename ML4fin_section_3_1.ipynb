{
  "nbformat": 4,
  "nbformat_minor": 0,
  "metadata": {
    "kernelspec": {
      "display_name": "Python 3",
      "language": "python",
      "name": "python3"
    },
    "language_info": {
      "codemirror_mode": {
        "name": "ipython",
        "version": 3
      },
      "file_extension": ".py",
      "mimetype": "text/x-python",
      "name": "python",
      "nbconvert_exporter": "python",
      "pygments_lexer": "ipython3",
      "version": "3.7.1"
    },
    "colab": {
      "name": "decision_tree.ipynb",
      "provenance": [],
      "collapsed_sections": [],
      "include_colab_link": true
    }
  },
  "cells": [
    {
      "cell_type": "markdown",
      "metadata": {
        "id": "view-in-github",
        "colab_type": "text"
      },
      "source": [
        "<a href=\"https://colab.research.google.com/github/Shrey-Viradiya/ML_for_Finance/blob/master/ML4fin_section_3_1.ipynb\" target=\"_parent\"><img src=\"https://colab.research.google.com/assets/colab-badge.svg\" alt=\"Open In Colab\"/></a>"
      ]
    },
    {
      "cell_type": "code",
      "metadata": {
        "id": "ejwHNTCqVL_l",
        "colab_type": "code",
        "colab": {
          "base_uri": "https://localhost:8080/",
          "height": 212
        },
        "outputId": "3ef5a5a9-d093-4272-8b2a-fcd5019c13b0"
      },
      "source": [
        "!wget https://raw.githubusercontent.com/PacktPublishing/Machine-Learning-for-Finance-video/master/Section_3/apple_stock_prepared.csv"
      ],
      "execution_count": 1,
      "outputs": [
        {
          "output_type": "stream",
          "text": [
            "--2020-09-09 14:46:20--  https://raw.githubusercontent.com/PacktPublishing/Machine-Learning-for-Finance-video/master/Section_3/apple_stock_prepared.csv\n",
            "Resolving raw.githubusercontent.com (raw.githubusercontent.com)... 151.101.0.133, 151.101.64.133, 151.101.128.133, ...\n",
            "Connecting to raw.githubusercontent.com (raw.githubusercontent.com)|151.101.0.133|:443... connected.\n",
            "HTTP request sent, awaiting response... 200 OK\n",
            "Length: 65124 (64K) [text/plain]\n",
            "Saving to: ‘apple_stock_prepared.csv’\n",
            "\n",
            "\rapple_stock_prepare   0%[                    ]       0  --.-KB/s               \rapple_stock_prepare 100%[===================>]  63.60K  --.-KB/s    in 0.03s   \n",
            "\n",
            "2020-09-09 14:46:20 (2.20 MB/s) - ‘apple_stock_prepared.csv’ saved [65124/65124]\n",
            "\n"
          ],
          "name": "stdout"
        }
      ]
    },
    {
      "cell_type": "code",
      "metadata": {
        "id": "AVw-QrpcVIwy",
        "colab_type": "code",
        "colab": {
          "base_uri": "https://localhost:8080/",
          "height": 72
        },
        "outputId": "420df536-60fc-4650-de12-a223fe728cc4"
      },
      "source": [
        "import pandas as pd\n",
        "from sklearn.model_selection import train_test_split\n",
        "from sklearn.tree import DecisionTreeRegressor\n",
        "from sklearn.metrics import r2_score\n",
        "import matplotlib.pyplot as plt\n",
        "import seaborn as sns"
      ],
      "execution_count": 2,
      "outputs": [
        {
          "output_type": "stream",
          "text": [
            "/usr/local/lib/python3.6/dist-packages/statsmodels/tools/_testing.py:19: FutureWarning: pandas.util.testing is deprecated. Use the functions in the public API at pandas.testing instead.\n",
            "  import pandas.util.testing as tm\n"
          ],
          "name": "stderr"
        }
      ]
    },
    {
      "cell_type": "code",
      "metadata": {
        "id": "DDb0WwtxVIw2",
        "colab_type": "code",
        "colab": {}
      },
      "source": [
        "apple_stock = pd.read_csv('apple_stock_prepared.csv')"
      ],
      "execution_count": 3,
      "outputs": []
    },
    {
      "cell_type": "code",
      "metadata": {
        "id": "oIFWwqPBVIw5",
        "colab_type": "code",
        "colab": {
          "base_uri": "https://localhost:8080/",
          "height": 217
        },
        "outputId": "e1eb7365-4f13-409b-95ad-0052d0dbe0ba"
      },
      "source": [
        "apple_stock.head()"
      ],
      "execution_count": 4,
      "outputs": [
        {
          "output_type": "execute_result",
          "data": {
            "text/html": [
              "<div>\n",
              "<style scoped>\n",
              "    .dataframe tbody tr th:only-of-type {\n",
              "        vertical-align: middle;\n",
              "    }\n",
              "\n",
              "    .dataframe tbody tr th {\n",
              "        vertical-align: top;\n",
              "    }\n",
              "\n",
              "    .dataframe thead th {\n",
              "        text-align: right;\n",
              "    }\n",
              "</style>\n",
              "<table border=\"1\" class=\"dataframe\">\n",
              "  <thead>\n",
              "    <tr style=\"text-align: right;\">\n",
              "      <th></th>\n",
              "      <th>volume</th>\n",
              "      <th>close_lag1</th>\n",
              "      <th>close_lag2</th>\n",
              "      <th>close_lag3</th>\n",
              "      <th>close_lag4</th>\n",
              "      <th>close_lag5</th>\n",
              "      <th>close_lag6</th>\n",
              "      <th>ma_3</th>\n",
              "      <th>rsi_3</th>\n",
              "      <th>ma_6</th>\n",
              "      <th>rsi_6</th>\n",
              "      <th>ma_9</th>\n",
              "      <th>rsi_9</th>\n",
              "      <th>ma_12</th>\n",
              "      <th>rsi_12</th>\n",
              "      <th>event</th>\n",
              "      <th>close</th>\n",
              "    </tr>\n",
              "  </thead>\n",
              "  <tbody>\n",
              "    <tr>\n",
              "      <th>0</th>\n",
              "      <td>-0.464011</td>\n",
              "      <td>-0.767950</td>\n",
              "      <td>-0.747017</td>\n",
              "      <td>-0.739101</td>\n",
              "      <td>-0.639217</td>\n",
              "      <td>-0.669514</td>\n",
              "      <td>-0.646494</td>\n",
              "      <td>0.627785</td>\n",
              "      <td>-1.812133</td>\n",
              "      <td>4.368171</td>\n",
              "      <td>-1.830292</td>\n",
              "      <td>7.716514</td>\n",
              "      <td>-1.862736</td>\n",
              "      <td>8.506598</td>\n",
              "      <td>-1.880503</td>\n",
              "      <td>-0.456953</td>\n",
              "      <td>2.338571</td>\n",
              "    </tr>\n",
              "    <tr>\n",
              "      <th>1</th>\n",
              "      <td>-0.190969</td>\n",
              "      <td>-0.769480</td>\n",
              "      <td>-0.758587</td>\n",
              "      <td>-0.738967</td>\n",
              "      <td>-0.732728</td>\n",
              "      <td>-0.632766</td>\n",
              "      <td>-0.662760</td>\n",
              "      <td>-0.579982</td>\n",
              "      <td>-1.183392</td>\n",
              "      <td>1.505926</td>\n",
              "      <td>-1.592107</td>\n",
              "      <td>3.501353</td>\n",
              "      <td>-1.710687</td>\n",
              "      <td>5.255354</td>\n",
              "      <td>-1.767605</td>\n",
              "      <td>-0.456953</td>\n",
              "      <td>2.945714</td>\n",
              "    </tr>\n",
              "    <tr>\n",
              "      <th>2</th>\n",
              "      <td>-0.723175</td>\n",
              "      <td>-0.760056</td>\n",
              "      <td>-0.760125</td>\n",
              "      <td>-0.750631</td>\n",
              "      <td>-0.732592</td>\n",
              "      <td>-0.727153</td>\n",
              "      <td>-0.625758</td>\n",
              "      <td>-0.115027</td>\n",
              "      <td>-1.286573</td>\n",
              "      <td>0.152772</td>\n",
              "      <td>-1.626297</td>\n",
              "      <td>2.429129</td>\n",
              "      <td>-1.732050</td>\n",
              "      <td>4.553852</td>\n",
              "      <td>-1.782792</td>\n",
              "      <td>-0.456953</td>\n",
              "      <td>2.750000</td>\n",
              "    </tr>\n",
              "    <tr>\n",
              "      <th>3</th>\n",
              "      <td>-0.570132</td>\n",
              "      <td>-0.763094</td>\n",
              "      <td>-0.750650</td>\n",
              "      <td>-0.752182</td>\n",
              "      <td>-0.744357</td>\n",
              "      <td>-0.727016</td>\n",
              "      <td>-0.720797</td>\n",
              "      <td>-0.092085</td>\n",
              "      <td>-0.982726</td>\n",
              "      <td>-0.217920</td>\n",
              "      <td>-1.529132</td>\n",
              "      <td>1.347659</td>\n",
              "      <td>-1.674853</td>\n",
              "      <td>2.875177</td>\n",
              "      <td>-1.742103</td>\n",
              "      <td>-0.456953</td>\n",
              "      <td>2.941429</td>\n",
              "    </tr>\n",
              "    <tr>\n",
              "      <th>4</th>\n",
              "      <td>-0.692599</td>\n",
              "      <td>-0.760123</td>\n",
              "      <td>-0.753705</td>\n",
              "      <td>-0.742630</td>\n",
              "      <td>-0.745922</td>\n",
              "      <td>-0.738891</td>\n",
              "      <td>-0.720659</td>\n",
              "      <td>-0.694639</td>\n",
              "      <td>-0.034087</td>\n",
              "      <td>-0.992704</td>\n",
              "      <td>-1.141034</td>\n",
              "      <td>-0.009939</td>\n",
              "      <td>-1.444629</td>\n",
              "      <td>1.005462</td>\n",
              "      <td>-1.579137</td>\n",
              "      <td>-0.456953</td>\n",
              "      <td>3.678571</td>\n",
              "    </tr>\n",
              "  </tbody>\n",
              "</table>\n",
              "</div>"
            ],
            "text/plain": [
              "     volume  close_lag1  close_lag2  ...    rsi_12     event     close\n",
              "0 -0.464011   -0.767950   -0.747017  ... -1.880503 -0.456953  2.338571\n",
              "1 -0.190969   -0.769480   -0.758587  ... -1.767605 -0.456953  2.945714\n",
              "2 -0.723175   -0.760056   -0.760125  ... -1.782792 -0.456953  2.750000\n",
              "3 -0.570132   -0.763094   -0.750650  ... -1.742103 -0.456953  2.941429\n",
              "4 -0.692599   -0.760123   -0.753705  ... -1.579137 -0.456953  3.678571\n",
              "\n",
              "[5 rows x 17 columns]"
            ]
          },
          "metadata": {
            "tags": []
          },
          "execution_count": 4
        }
      ]
    },
    {
      "cell_type": "code",
      "metadata": {
        "id": "YqfUbB5dVIw9",
        "colab_type": "code",
        "colab": {}
      },
      "source": [
        "X = apple_stock.loc[:, apple_stock.columns != 'close']\n",
        "Y = apple_stock['close']"
      ],
      "execution_count": 5,
      "outputs": []
    },
    {
      "cell_type": "code",
      "metadata": {
        "id": "8v8FmUOZVIxA",
        "colab_type": "code",
        "colab": {}
      },
      "source": [
        "X_train, X_test, Y_train, Y_test = train_test_split(X,Y,random_state=42, test_size=0.2)"
      ],
      "execution_count": 6,
      "outputs": []
    },
    {
      "cell_type": "code",
      "metadata": {
        "id": "gnISQV5IVIxD",
        "colab_type": "code",
        "colab": {
          "base_uri": "https://localhost:8080/",
          "height": 87
        },
        "outputId": "453022b2-4074-44ee-8797-9b82bf707e5f"
      },
      "source": [
        "print(\"Length Of training data \", len(X_train))\n",
        "print(\"Length Of test data \", len(X_test))\n",
        "print(\"Length Of training Y \", len(Y_train))\n",
        "print(\"Length Of test data Y\", len(Y_test))"
      ],
      "execution_count": 7,
      "outputs": [
        {
          "output_type": "stream",
          "text": [
            "Length Of training data  156\n",
            "Length Of test data  40\n",
            "Length Of training Y  156\n",
            "Length Of test data Y 40\n"
          ],
          "name": "stdout"
        }
      ]
    },
    {
      "cell_type": "code",
      "metadata": {
        "id": "1lIVeJUiVIxI",
        "colab_type": "code",
        "colab": {
          "base_uri": "https://localhost:8080/",
          "height": 123
        },
        "outputId": "ca63498b-7162-4d70-ccc6-54d6a4fad618"
      },
      "source": [
        "dtr = DecisionTreeRegressor(max_depth = 2, min_samples_split=5)\n",
        "dtr.fit(X_train,Y_train)"
      ],
      "execution_count": 8,
      "outputs": [
        {
          "output_type": "execute_result",
          "data": {
            "text/plain": [
              "DecisionTreeRegressor(ccp_alpha=0.0, criterion='mse', max_depth=2,\n",
              "                      max_features=None, max_leaf_nodes=None,\n",
              "                      min_impurity_decrease=0.0, min_impurity_split=None,\n",
              "                      min_samples_leaf=1, min_samples_split=5,\n",
              "                      min_weight_fraction_leaf=0.0, presort='deprecated',\n",
              "                      random_state=None, splitter='best')"
            ]
          },
          "metadata": {
            "tags": []
          },
          "execution_count": 8
        }
      ]
    },
    {
      "cell_type": "code",
      "metadata": {
        "id": "KDJGd-5aVIxL",
        "colab_type": "code",
        "colab": {}
      },
      "source": [
        "Y_train_pred = dtr.predict(X_train)"
      ],
      "execution_count": 9,
      "outputs": []
    },
    {
      "cell_type": "markdown",
      "metadata": {
        "id": "sy9IhZRZVIxO",
        "colab_type": "text"
      },
      "source": [
        "##### R Squared on training data"
      ]
    },
    {
      "cell_type": "code",
      "metadata": {
        "id": "WbhyBRtgVIxP",
        "colab_type": "code",
        "colab": {
          "base_uri": "https://localhost:8080/",
          "height": 34
        },
        "outputId": "8f2071a7-7be2-45b8-bd9e-0c01e0ade315"
      },
      "source": [
        "r2_score(Y_train, Y_train_pred)"
      ],
      "execution_count": 10,
      "outputs": [
        {
          "output_type": "execute_result",
          "data": {
            "text/plain": [
              "0.9212766627116157"
            ]
          },
          "metadata": {
            "tags": []
          },
          "execution_count": 10
        }
      ]
    },
    {
      "cell_type": "markdown",
      "metadata": {
        "id": "8cGNQM7HVIxT",
        "colab_type": "text"
      },
      "source": [
        "#### R Squared on test data"
      ]
    },
    {
      "cell_type": "code",
      "metadata": {
        "id": "XFw0S6oUVIxT",
        "colab_type": "code",
        "colab": {}
      },
      "source": [
        "Y_test_pred = dtr.predict(X_test)"
      ],
      "execution_count": 11,
      "outputs": []
    },
    {
      "cell_type": "code",
      "metadata": {
        "id": "JvUaXnVAVIxX",
        "colab_type": "code",
        "colab": {
          "base_uri": "https://localhost:8080/",
          "height": 34
        },
        "outputId": "399743c7-59a0-4314-ff70-2c79f51c1377"
      },
      "source": [
        "r2_score(Y_test, Y_test_pred)"
      ],
      "execution_count": 12,
      "outputs": [
        {
          "output_type": "execute_result",
          "data": {
            "text/plain": [
              "0.8680317979644208"
            ]
          },
          "metadata": {
            "tags": []
          },
          "execution_count": 12
        }
      ]
    }
  ]
}